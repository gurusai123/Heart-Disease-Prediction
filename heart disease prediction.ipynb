{
 "cells": [
  {
   "cell_type": "code",
   "execution_count": 11,
   "metadata": {},
   "outputs": [
    {
     "data": {
      "text/plain": [
       "'age - age in years\\ngender - (1 = male; 0 = female)\\ncp - chest pain type\\ntrestbps - resting blood pressure (in mm Hg on admission to the hospital)\\nchol - serum cholestoral in mg/dl\\nfbs - (fasting blood sugar > 120 mg/dl) (1 = true; 0 = false)\\nrestecg - resting electrocardiographic results\\nthalach - maximum heart rate achieved\\nexang - exercise induced angina (1 = yes; 0 = no)\\noldpeak - ST depression induced by exercise relative to rest\\nslope - the slope of the peak exercise ST segment\\nca - number of major vessels (0-3) colored by flourosopy\\nthal - 3 = normal; 6 = fixed defect; 7 = reversable defect\\ntarget - have disease or not (1=yes, 0=no)'"
      ]
     },
     "execution_count": 11,
     "metadata": {},
     "output_type": "execute_result"
    }
   ],
   "source": [
    "'''age - age in years\n",
    "gender - (1 = male; 0 = female)\n",
    "cp - chest pain type\n",
    "trestbps - resting blood pressure (in mm Hg on admission to the hospital)\n",
    "chol - serum cholestoral in mg/dl\n",
    "fbs - (fasting blood sugar > 120 mg/dl) (1 = true; 0 = false)\n",
    "restecg - resting electrocardiographic results\n",
    "thalach - maximum heart rate achieved\n",
    "exang - exercise induced angina (1 = yes; 0 = no)\n",
    "oldpeak - ST depression induced by exercise relative to rest\n",
    "slope - the slope of the peak exercise ST segment\n",
    "ca - number of major vessels (0-3) colored by flourosopy\n",
    "thal - 3 = normal; 6 = fixed defect; 7 = reversable defect\n",
    "target - have disease or not (1=yes, 0=no)'''"
   ]
  },
  {
   "cell_type": "code",
   "execution_count": null,
   "metadata": {},
   "outputs": [],
   "source": []
  },
  {
   "cell_type": "code",
   "execution_count": 12,
   "metadata": {},
   "outputs": [],
   "source": [
    "import pandas as pd\n",
    "import matplotlib.pyplot as plt\n",
    "import sklearn as sk\n",
    "%matplotlib inline\n",
    "import seaborn as sns\n",
    "#import random"
   ]
  },
  {
   "cell_type": "code",
   "execution_count": 13,
   "metadata": {},
   "outputs": [],
   "source": [
    "data = pd.read_csv(\"heart.csv\")"
   ]
  },
  {
   "cell_type": "code",
   "execution_count": 14,
   "metadata": {},
   "outputs": [
    {
     "data": {
      "text/plain": [
       "age         0\n",
       "gender      0\n",
       "cp          0\n",
       "trestbps    0\n",
       "chol        0\n",
       "fbs         0\n",
       "restecg     0\n",
       "thalach     0\n",
       "exang       0\n",
       "oldpeak     0\n",
       "slope       0\n",
       "ca          0\n",
       "thal        0\n",
       "target      0\n",
       "dtype: int64"
      ]
     },
     "execution_count": 14,
     "metadata": {},
     "output_type": "execute_result"
    }
   ],
   "source": [
    "data.isnull().sum()"
   ]
  },
  {
   "cell_type": "code",
   "execution_count": 15,
   "metadata": {},
   "outputs": [
    {
     "data": {
      "text/html": [
       "<div>\n",
       "<style scoped>\n",
       "    .dataframe tbody tr th:only-of-type {\n",
       "        vertical-align: middle;\n",
       "    }\n",
       "\n",
       "    .dataframe tbody tr th {\n",
       "        vertical-align: top;\n",
       "    }\n",
       "\n",
       "    .dataframe thead th {\n",
       "        text-align: right;\n",
       "    }\n",
       "</style>\n",
       "<table border=\"1\" class=\"dataframe\">\n",
       "  <thead>\n",
       "    <tr style=\"text-align: right;\">\n",
       "      <th></th>\n",
       "      <th>age</th>\n",
       "      <th>gender</th>\n",
       "      <th>cp</th>\n",
       "      <th>trestbps</th>\n",
       "      <th>chol</th>\n",
       "      <th>fbs</th>\n",
       "      <th>restecg</th>\n",
       "      <th>thalach</th>\n",
       "      <th>exang</th>\n",
       "      <th>oldpeak</th>\n",
       "      <th>slope</th>\n",
       "      <th>ca</th>\n",
       "      <th>thal</th>\n",
       "      <th>target</th>\n",
       "    </tr>\n",
       "  </thead>\n",
       "  <tbody>\n",
       "    <tr>\n",
       "      <th>count</th>\n",
       "      <td>303.000000</td>\n",
       "      <td>303.000000</td>\n",
       "      <td>303.000000</td>\n",
       "      <td>303.000000</td>\n",
       "      <td>303.000000</td>\n",
       "      <td>303.000000</td>\n",
       "      <td>303.000000</td>\n",
       "      <td>303.000000</td>\n",
       "      <td>303.000000</td>\n",
       "      <td>303.000000</td>\n",
       "      <td>303.000000</td>\n",
       "      <td>303.000000</td>\n",
       "      <td>303.000000</td>\n",
       "      <td>303.000000</td>\n",
       "    </tr>\n",
       "    <tr>\n",
       "      <th>mean</th>\n",
       "      <td>54.366337</td>\n",
       "      <td>0.683168</td>\n",
       "      <td>0.966997</td>\n",
       "      <td>131.623762</td>\n",
       "      <td>246.264026</td>\n",
       "      <td>0.148515</td>\n",
       "      <td>0.528053</td>\n",
       "      <td>149.646865</td>\n",
       "      <td>0.326733</td>\n",
       "      <td>1.039604</td>\n",
       "      <td>1.399340</td>\n",
       "      <td>0.729373</td>\n",
       "      <td>2.313531</td>\n",
       "      <td>0.544554</td>\n",
       "    </tr>\n",
       "    <tr>\n",
       "      <th>std</th>\n",
       "      <td>9.082101</td>\n",
       "      <td>0.466011</td>\n",
       "      <td>1.032052</td>\n",
       "      <td>17.538143</td>\n",
       "      <td>51.830751</td>\n",
       "      <td>0.356198</td>\n",
       "      <td>0.525860</td>\n",
       "      <td>22.905161</td>\n",
       "      <td>0.469794</td>\n",
       "      <td>1.161075</td>\n",
       "      <td>0.616226</td>\n",
       "      <td>1.022606</td>\n",
       "      <td>0.612277</td>\n",
       "      <td>0.498835</td>\n",
       "    </tr>\n",
       "    <tr>\n",
       "      <th>min</th>\n",
       "      <td>29.000000</td>\n",
       "      <td>0.000000</td>\n",
       "      <td>0.000000</td>\n",
       "      <td>94.000000</td>\n",
       "      <td>126.000000</td>\n",
       "      <td>0.000000</td>\n",
       "      <td>0.000000</td>\n",
       "      <td>71.000000</td>\n",
       "      <td>0.000000</td>\n",
       "      <td>0.000000</td>\n",
       "      <td>0.000000</td>\n",
       "      <td>0.000000</td>\n",
       "      <td>0.000000</td>\n",
       "      <td>0.000000</td>\n",
       "    </tr>\n",
       "    <tr>\n",
       "      <th>25%</th>\n",
       "      <td>47.500000</td>\n",
       "      <td>0.000000</td>\n",
       "      <td>0.000000</td>\n",
       "      <td>120.000000</td>\n",
       "      <td>211.000000</td>\n",
       "      <td>0.000000</td>\n",
       "      <td>0.000000</td>\n",
       "      <td>133.500000</td>\n",
       "      <td>0.000000</td>\n",
       "      <td>0.000000</td>\n",
       "      <td>1.000000</td>\n",
       "      <td>0.000000</td>\n",
       "      <td>2.000000</td>\n",
       "      <td>0.000000</td>\n",
       "    </tr>\n",
       "    <tr>\n",
       "      <th>50%</th>\n",
       "      <td>55.000000</td>\n",
       "      <td>1.000000</td>\n",
       "      <td>1.000000</td>\n",
       "      <td>130.000000</td>\n",
       "      <td>240.000000</td>\n",
       "      <td>0.000000</td>\n",
       "      <td>1.000000</td>\n",
       "      <td>153.000000</td>\n",
       "      <td>0.000000</td>\n",
       "      <td>0.800000</td>\n",
       "      <td>1.000000</td>\n",
       "      <td>0.000000</td>\n",
       "      <td>2.000000</td>\n",
       "      <td>1.000000</td>\n",
       "    </tr>\n",
       "    <tr>\n",
       "      <th>75%</th>\n",
       "      <td>61.000000</td>\n",
       "      <td>1.000000</td>\n",
       "      <td>2.000000</td>\n",
       "      <td>140.000000</td>\n",
       "      <td>274.500000</td>\n",
       "      <td>0.000000</td>\n",
       "      <td>1.000000</td>\n",
       "      <td>166.000000</td>\n",
       "      <td>1.000000</td>\n",
       "      <td>1.600000</td>\n",
       "      <td>2.000000</td>\n",
       "      <td>1.000000</td>\n",
       "      <td>3.000000</td>\n",
       "      <td>1.000000</td>\n",
       "    </tr>\n",
       "    <tr>\n",
       "      <th>max</th>\n",
       "      <td>77.000000</td>\n",
       "      <td>1.000000</td>\n",
       "      <td>3.000000</td>\n",
       "      <td>200.000000</td>\n",
       "      <td>564.000000</td>\n",
       "      <td>1.000000</td>\n",
       "      <td>2.000000</td>\n",
       "      <td>202.000000</td>\n",
       "      <td>1.000000</td>\n",
       "      <td>6.200000</td>\n",
       "      <td>2.000000</td>\n",
       "      <td>4.000000</td>\n",
       "      <td>3.000000</td>\n",
       "      <td>1.000000</td>\n",
       "    </tr>\n",
       "  </tbody>\n",
       "</table>\n",
       "</div>"
      ],
      "text/plain": [
       "              age      gender          cp    trestbps        chol         fbs  \\\n",
       "count  303.000000  303.000000  303.000000  303.000000  303.000000  303.000000   \n",
       "mean    54.366337    0.683168    0.966997  131.623762  246.264026    0.148515   \n",
       "std      9.082101    0.466011    1.032052   17.538143   51.830751    0.356198   \n",
       "min     29.000000    0.000000    0.000000   94.000000  126.000000    0.000000   \n",
       "25%     47.500000    0.000000    0.000000  120.000000  211.000000    0.000000   \n",
       "50%     55.000000    1.000000    1.000000  130.000000  240.000000    0.000000   \n",
       "75%     61.000000    1.000000    2.000000  140.000000  274.500000    0.000000   \n",
       "max     77.000000    1.000000    3.000000  200.000000  564.000000    1.000000   \n",
       "\n",
       "          restecg     thalach       exang     oldpeak       slope          ca  \\\n",
       "count  303.000000  303.000000  303.000000  303.000000  303.000000  303.000000   \n",
       "mean     0.528053  149.646865    0.326733    1.039604    1.399340    0.729373   \n",
       "std      0.525860   22.905161    0.469794    1.161075    0.616226    1.022606   \n",
       "min      0.000000   71.000000    0.000000    0.000000    0.000000    0.000000   \n",
       "25%      0.000000  133.500000    0.000000    0.000000    1.000000    0.000000   \n",
       "50%      1.000000  153.000000    0.000000    0.800000    1.000000    0.000000   \n",
       "75%      1.000000  166.000000    1.000000    1.600000    2.000000    1.000000   \n",
       "max      2.000000  202.000000    1.000000    6.200000    2.000000    4.000000   \n",
       "\n",
       "             thal      target  \n",
       "count  303.000000  303.000000  \n",
       "mean     2.313531    0.544554  \n",
       "std      0.612277    0.498835  \n",
       "min      0.000000    0.000000  \n",
       "25%      2.000000    0.000000  \n",
       "50%      2.000000    1.000000  \n",
       "75%      3.000000    1.000000  \n",
       "max      3.000000    1.000000  "
      ]
     },
     "execution_count": 15,
     "metadata": {},
     "output_type": "execute_result"
    }
   ],
   "source": [
    "data.describe()"
   ]
  },
  {
   "cell_type": "code",
   "execution_count": 16,
   "metadata": {},
   "outputs": [
    {
     "data": {
      "text/html": [
       "<div>\n",
       "<style scoped>\n",
       "    .dataframe tbody tr th:only-of-type {\n",
       "        vertical-align: middle;\n",
       "    }\n",
       "\n",
       "    .dataframe tbody tr th {\n",
       "        vertical-align: top;\n",
       "    }\n",
       "\n",
       "    .dataframe thead th {\n",
       "        text-align: right;\n",
       "    }\n",
       "</style>\n",
       "<table border=\"1\" class=\"dataframe\">\n",
       "  <thead>\n",
       "    <tr style=\"text-align: right;\">\n",
       "      <th></th>\n",
       "      <th>age</th>\n",
       "      <th>gender</th>\n",
       "      <th>cp</th>\n",
       "      <th>trestbps</th>\n",
       "      <th>chol</th>\n",
       "      <th>fbs</th>\n",
       "      <th>restecg</th>\n",
       "      <th>thalach</th>\n",
       "      <th>exang</th>\n",
       "      <th>oldpeak</th>\n",
       "      <th>slope</th>\n",
       "      <th>ca</th>\n",
       "      <th>thal</th>\n",
       "      <th>target</th>\n",
       "    </tr>\n",
       "  </thead>\n",
       "  <tbody>\n",
       "    <tr>\n",
       "      <th>age</th>\n",
       "      <td>1.000000</td>\n",
       "      <td>-0.098447</td>\n",
       "      <td>-0.068653</td>\n",
       "      <td>0.279351</td>\n",
       "      <td>0.213678</td>\n",
       "      <td>0.121308</td>\n",
       "      <td>-0.116211</td>\n",
       "      <td>-0.398522</td>\n",
       "      <td>0.096801</td>\n",
       "      <td>0.210013</td>\n",
       "      <td>-0.168814</td>\n",
       "      <td>0.276326</td>\n",
       "      <td>0.068001</td>\n",
       "      <td>-0.225439</td>\n",
       "    </tr>\n",
       "    <tr>\n",
       "      <th>gender</th>\n",
       "      <td>-0.098447</td>\n",
       "      <td>1.000000</td>\n",
       "      <td>-0.049353</td>\n",
       "      <td>-0.056769</td>\n",
       "      <td>-0.197912</td>\n",
       "      <td>0.045032</td>\n",
       "      <td>-0.058196</td>\n",
       "      <td>-0.044020</td>\n",
       "      <td>0.141664</td>\n",
       "      <td>0.096093</td>\n",
       "      <td>-0.030711</td>\n",
       "      <td>0.118261</td>\n",
       "      <td>0.210041</td>\n",
       "      <td>-0.280937</td>\n",
       "    </tr>\n",
       "    <tr>\n",
       "      <th>cp</th>\n",
       "      <td>-0.068653</td>\n",
       "      <td>-0.049353</td>\n",
       "      <td>1.000000</td>\n",
       "      <td>0.047608</td>\n",
       "      <td>-0.076904</td>\n",
       "      <td>0.094444</td>\n",
       "      <td>0.044421</td>\n",
       "      <td>0.295762</td>\n",
       "      <td>-0.394280</td>\n",
       "      <td>-0.149230</td>\n",
       "      <td>0.119717</td>\n",
       "      <td>-0.181053</td>\n",
       "      <td>-0.161736</td>\n",
       "      <td>0.433798</td>\n",
       "    </tr>\n",
       "    <tr>\n",
       "      <th>trestbps</th>\n",
       "      <td>0.279351</td>\n",
       "      <td>-0.056769</td>\n",
       "      <td>0.047608</td>\n",
       "      <td>1.000000</td>\n",
       "      <td>0.123174</td>\n",
       "      <td>0.177531</td>\n",
       "      <td>-0.114103</td>\n",
       "      <td>-0.046698</td>\n",
       "      <td>0.067616</td>\n",
       "      <td>0.193216</td>\n",
       "      <td>-0.121475</td>\n",
       "      <td>0.101389</td>\n",
       "      <td>0.062210</td>\n",
       "      <td>-0.144931</td>\n",
       "    </tr>\n",
       "    <tr>\n",
       "      <th>chol</th>\n",
       "      <td>0.213678</td>\n",
       "      <td>-0.197912</td>\n",
       "      <td>-0.076904</td>\n",
       "      <td>0.123174</td>\n",
       "      <td>1.000000</td>\n",
       "      <td>0.013294</td>\n",
       "      <td>-0.151040</td>\n",
       "      <td>-0.009940</td>\n",
       "      <td>0.067023</td>\n",
       "      <td>0.053952</td>\n",
       "      <td>-0.004038</td>\n",
       "      <td>0.070511</td>\n",
       "      <td>0.098803</td>\n",
       "      <td>-0.085239</td>\n",
       "    </tr>\n",
       "    <tr>\n",
       "      <th>fbs</th>\n",
       "      <td>0.121308</td>\n",
       "      <td>0.045032</td>\n",
       "      <td>0.094444</td>\n",
       "      <td>0.177531</td>\n",
       "      <td>0.013294</td>\n",
       "      <td>1.000000</td>\n",
       "      <td>-0.084189</td>\n",
       "      <td>-0.008567</td>\n",
       "      <td>0.025665</td>\n",
       "      <td>0.005747</td>\n",
       "      <td>-0.059894</td>\n",
       "      <td>0.137979</td>\n",
       "      <td>-0.032019</td>\n",
       "      <td>-0.028046</td>\n",
       "    </tr>\n",
       "    <tr>\n",
       "      <th>restecg</th>\n",
       "      <td>-0.116211</td>\n",
       "      <td>-0.058196</td>\n",
       "      <td>0.044421</td>\n",
       "      <td>-0.114103</td>\n",
       "      <td>-0.151040</td>\n",
       "      <td>-0.084189</td>\n",
       "      <td>1.000000</td>\n",
       "      <td>0.044123</td>\n",
       "      <td>-0.070733</td>\n",
       "      <td>-0.058770</td>\n",
       "      <td>0.093045</td>\n",
       "      <td>-0.072042</td>\n",
       "      <td>-0.011981</td>\n",
       "      <td>0.137230</td>\n",
       "    </tr>\n",
       "    <tr>\n",
       "      <th>thalach</th>\n",
       "      <td>-0.398522</td>\n",
       "      <td>-0.044020</td>\n",
       "      <td>0.295762</td>\n",
       "      <td>-0.046698</td>\n",
       "      <td>-0.009940</td>\n",
       "      <td>-0.008567</td>\n",
       "      <td>0.044123</td>\n",
       "      <td>1.000000</td>\n",
       "      <td>-0.378812</td>\n",
       "      <td>-0.344187</td>\n",
       "      <td>0.386784</td>\n",
       "      <td>-0.213177</td>\n",
       "      <td>-0.096439</td>\n",
       "      <td>0.421741</td>\n",
       "    </tr>\n",
       "    <tr>\n",
       "      <th>exang</th>\n",
       "      <td>0.096801</td>\n",
       "      <td>0.141664</td>\n",
       "      <td>-0.394280</td>\n",
       "      <td>0.067616</td>\n",
       "      <td>0.067023</td>\n",
       "      <td>0.025665</td>\n",
       "      <td>-0.070733</td>\n",
       "      <td>-0.378812</td>\n",
       "      <td>1.000000</td>\n",
       "      <td>0.288223</td>\n",
       "      <td>-0.257748</td>\n",
       "      <td>0.115739</td>\n",
       "      <td>0.206754</td>\n",
       "      <td>-0.436757</td>\n",
       "    </tr>\n",
       "    <tr>\n",
       "      <th>oldpeak</th>\n",
       "      <td>0.210013</td>\n",
       "      <td>0.096093</td>\n",
       "      <td>-0.149230</td>\n",
       "      <td>0.193216</td>\n",
       "      <td>0.053952</td>\n",
       "      <td>0.005747</td>\n",
       "      <td>-0.058770</td>\n",
       "      <td>-0.344187</td>\n",
       "      <td>0.288223</td>\n",
       "      <td>1.000000</td>\n",
       "      <td>-0.577537</td>\n",
       "      <td>0.222682</td>\n",
       "      <td>0.210244</td>\n",
       "      <td>-0.430696</td>\n",
       "    </tr>\n",
       "    <tr>\n",
       "      <th>slope</th>\n",
       "      <td>-0.168814</td>\n",
       "      <td>-0.030711</td>\n",
       "      <td>0.119717</td>\n",
       "      <td>-0.121475</td>\n",
       "      <td>-0.004038</td>\n",
       "      <td>-0.059894</td>\n",
       "      <td>0.093045</td>\n",
       "      <td>0.386784</td>\n",
       "      <td>-0.257748</td>\n",
       "      <td>-0.577537</td>\n",
       "      <td>1.000000</td>\n",
       "      <td>-0.080155</td>\n",
       "      <td>-0.104764</td>\n",
       "      <td>0.345877</td>\n",
       "    </tr>\n",
       "    <tr>\n",
       "      <th>ca</th>\n",
       "      <td>0.276326</td>\n",
       "      <td>0.118261</td>\n",
       "      <td>-0.181053</td>\n",
       "      <td>0.101389</td>\n",
       "      <td>0.070511</td>\n",
       "      <td>0.137979</td>\n",
       "      <td>-0.072042</td>\n",
       "      <td>-0.213177</td>\n",
       "      <td>0.115739</td>\n",
       "      <td>0.222682</td>\n",
       "      <td>-0.080155</td>\n",
       "      <td>1.000000</td>\n",
       "      <td>0.151832</td>\n",
       "      <td>-0.391724</td>\n",
       "    </tr>\n",
       "    <tr>\n",
       "      <th>thal</th>\n",
       "      <td>0.068001</td>\n",
       "      <td>0.210041</td>\n",
       "      <td>-0.161736</td>\n",
       "      <td>0.062210</td>\n",
       "      <td>0.098803</td>\n",
       "      <td>-0.032019</td>\n",
       "      <td>-0.011981</td>\n",
       "      <td>-0.096439</td>\n",
       "      <td>0.206754</td>\n",
       "      <td>0.210244</td>\n",
       "      <td>-0.104764</td>\n",
       "      <td>0.151832</td>\n",
       "      <td>1.000000</td>\n",
       "      <td>-0.344029</td>\n",
       "    </tr>\n",
       "    <tr>\n",
       "      <th>target</th>\n",
       "      <td>-0.225439</td>\n",
       "      <td>-0.280937</td>\n",
       "      <td>0.433798</td>\n",
       "      <td>-0.144931</td>\n",
       "      <td>-0.085239</td>\n",
       "      <td>-0.028046</td>\n",
       "      <td>0.137230</td>\n",
       "      <td>0.421741</td>\n",
       "      <td>-0.436757</td>\n",
       "      <td>-0.430696</td>\n",
       "      <td>0.345877</td>\n",
       "      <td>-0.391724</td>\n",
       "      <td>-0.344029</td>\n",
       "      <td>1.000000</td>\n",
       "    </tr>\n",
       "  </tbody>\n",
       "</table>\n",
       "</div>"
      ],
      "text/plain": [
       "               age    gender        cp  trestbps      chol       fbs  \\\n",
       "age       1.000000 -0.098447 -0.068653  0.279351  0.213678  0.121308   \n",
       "gender   -0.098447  1.000000 -0.049353 -0.056769 -0.197912  0.045032   \n",
       "cp       -0.068653 -0.049353  1.000000  0.047608 -0.076904  0.094444   \n",
       "trestbps  0.279351 -0.056769  0.047608  1.000000  0.123174  0.177531   \n",
       "chol      0.213678 -0.197912 -0.076904  0.123174  1.000000  0.013294   \n",
       "fbs       0.121308  0.045032  0.094444  0.177531  0.013294  1.000000   \n",
       "restecg  -0.116211 -0.058196  0.044421 -0.114103 -0.151040 -0.084189   \n",
       "thalach  -0.398522 -0.044020  0.295762 -0.046698 -0.009940 -0.008567   \n",
       "exang     0.096801  0.141664 -0.394280  0.067616  0.067023  0.025665   \n",
       "oldpeak   0.210013  0.096093 -0.149230  0.193216  0.053952  0.005747   \n",
       "slope    -0.168814 -0.030711  0.119717 -0.121475 -0.004038 -0.059894   \n",
       "ca        0.276326  0.118261 -0.181053  0.101389  0.070511  0.137979   \n",
       "thal      0.068001  0.210041 -0.161736  0.062210  0.098803 -0.032019   \n",
       "target   -0.225439 -0.280937  0.433798 -0.144931 -0.085239 -0.028046   \n",
       "\n",
       "           restecg   thalach     exang   oldpeak     slope        ca  \\\n",
       "age      -0.116211 -0.398522  0.096801  0.210013 -0.168814  0.276326   \n",
       "gender   -0.058196 -0.044020  0.141664  0.096093 -0.030711  0.118261   \n",
       "cp        0.044421  0.295762 -0.394280 -0.149230  0.119717 -0.181053   \n",
       "trestbps -0.114103 -0.046698  0.067616  0.193216 -0.121475  0.101389   \n",
       "chol     -0.151040 -0.009940  0.067023  0.053952 -0.004038  0.070511   \n",
       "fbs      -0.084189 -0.008567  0.025665  0.005747 -0.059894  0.137979   \n",
       "restecg   1.000000  0.044123 -0.070733 -0.058770  0.093045 -0.072042   \n",
       "thalach   0.044123  1.000000 -0.378812 -0.344187  0.386784 -0.213177   \n",
       "exang    -0.070733 -0.378812  1.000000  0.288223 -0.257748  0.115739   \n",
       "oldpeak  -0.058770 -0.344187  0.288223  1.000000 -0.577537  0.222682   \n",
       "slope     0.093045  0.386784 -0.257748 -0.577537  1.000000 -0.080155   \n",
       "ca       -0.072042 -0.213177  0.115739  0.222682 -0.080155  1.000000   \n",
       "thal     -0.011981 -0.096439  0.206754  0.210244 -0.104764  0.151832   \n",
       "target    0.137230  0.421741 -0.436757 -0.430696  0.345877 -0.391724   \n",
       "\n",
       "              thal    target  \n",
       "age       0.068001 -0.225439  \n",
       "gender    0.210041 -0.280937  \n",
       "cp       -0.161736  0.433798  \n",
       "trestbps  0.062210 -0.144931  \n",
       "chol      0.098803 -0.085239  \n",
       "fbs      -0.032019 -0.028046  \n",
       "restecg  -0.011981  0.137230  \n",
       "thalach  -0.096439  0.421741  \n",
       "exang     0.206754 -0.436757  \n",
       "oldpeak   0.210244 -0.430696  \n",
       "slope    -0.104764  0.345877  \n",
       "ca        0.151832 -0.391724  \n",
       "thal      1.000000 -0.344029  \n",
       "target   -0.344029  1.000000  "
      ]
     },
     "execution_count": 16,
     "metadata": {},
     "output_type": "execute_result"
    }
   ],
   "source": [
    "data.corr()"
   ]
  },
  {
   "cell_type": "code",
   "execution_count": 17,
   "metadata": {},
   "outputs": [
    {
     "data": {
      "text/plain": [
       "<matplotlib.axes._subplots.AxesSubplot at 0x2b950218d48>"
      ]
     },
     "execution_count": 17,
     "metadata": {},
     "output_type": "execute_result"
    },
    {
     "data": {
      "image/png": "[encoded data removed]",
      "text/plain": [
       "<Figure size 432x288 with 2 Axes>"
      ]
     },
     "metadata": {
      "needs_background": "light"
     },
     "output_type": "display_data"
    }
   ],
   "source": [
    "sns.heatmap(data)"
   ]
  },
  {
   "cell_type": "code",
   "execution_count": 18,
   "metadata": {},
   "outputs": [
    {
     "data": {
      "text/html": [
       "<div>\n",
       "<style scoped>\n",
       "    .dataframe tbody tr th:only-of-type {\n",
       "        vertical-align: middle;\n",
       "    }\n",
       "\n",
       "    .dataframe tbody tr th {\n",
       "        vertical-align: top;\n",
       "    }\n",
       "\n",
       "    .dataframe thead th {\n",
       "        text-align: right;\n",
       "    }\n",
       "</style>\n",
       "<table border=\"1\" class=\"dataframe\">\n",
       "  <thead>\n",
       "    <tr style=\"text-align: right;\">\n",
       "      <th></th>\n",
       "      <th>age</th>\n",
       "      <th>gender</th>\n",
       "      <th>cp</th>\n",
       "      <th>trestbps</th>\n",
       "      <th>chol</th>\n",
       "      <th>fbs</th>\n",
       "      <th>restecg</th>\n",
       "      <th>thalach</th>\n",
       "      <th>exang</th>\n",
       "      <th>oldpeak</th>\n",
       "      <th>slope</th>\n",
       "      <th>ca</th>\n",
       "      <th>thal</th>\n",
       "      <th>target</th>\n",
       "    </tr>\n",
       "  </thead>\n",
       "  <tbody>\n",
       "    <tr>\n",
       "      <th>age</th>\n",
       "      <td>82.484558</td>\n",
       "      <td>-0.416661</td>\n",
       "      <td>-0.643499</td>\n",
       "      <td>44.495902</td>\n",
       "      <td>100.585076</td>\n",
       "      <td>0.392433</td>\n",
       "      <td>-0.555013</td>\n",
       "      <td>-82.903318</td>\n",
       "      <td>0.413022</td>\n",
       "      <td>2.214583</td>\n",
       "      <td>-0.944791</td>\n",
       "      <td>2.566356</td>\n",
       "      <td>0.378139</td>\n",
       "      <td>-1.021343</td>\n",
       "    </tr>\n",
       "    <tr>\n",
       "      <th>gender</th>\n",
       "      <td>-0.416661</td>\n",
       "      <td>0.217166</td>\n",
       "      <td>-0.023736</td>\n",
       "      <td>-0.463970</td>\n",
       "      <td>-4.780309</td>\n",
       "      <td>0.007475</td>\n",
       "      <td>-0.014261</td>\n",
       "      <td>-0.469871</td>\n",
       "      <td>0.031014</td>\n",
       "      <td>0.051993</td>\n",
       "      <td>-0.008819</td>\n",
       "      <td>0.056357</td>\n",
       "      <td>0.059930</td>\n",
       "      <td>-0.065307</td>\n",
       "    </tr>\n",
       "    <tr>\n",
       "      <th>cp</th>\n",
       "      <td>-0.643499</td>\n",
       "      <td>-0.023736</td>\n",
       "      <td>1.065132</td>\n",
       "      <td>0.861714</td>\n",
       "      <td>-4.113774</td>\n",
       "      <td>0.034719</td>\n",
       "      <td>0.024108</td>\n",
       "      <td>6.991618</td>\n",
       "      <td>-0.191168</td>\n",
       "      <td>-0.178821</td>\n",
       "      <td>0.076137</td>\n",
       "      <td>-0.191080</td>\n",
       "      <td>-0.102201</td>\n",
       "      <td>0.223330</td>\n",
       "    </tr>\n",
       "    <tr>\n",
       "      <th>trestbps</th>\n",
       "      <td>44.495902</td>\n",
       "      <td>-0.463970</td>\n",
       "      <td>0.861714</td>\n",
       "      <td>307.586453</td>\n",
       "      <td>111.967215</td>\n",
       "      <td>1.109042</td>\n",
       "      <td>-1.052324</td>\n",
       "      <td>-18.759131</td>\n",
       "      <td>0.557111</td>\n",
       "      <td>3.934486</td>\n",
       "      <td>-1.312832</td>\n",
       "      <td>1.818373</td>\n",
       "      <td>0.668022</td>\n",
       "      <td>-1.267950</td>\n",
       "    </tr>\n",
       "    <tr>\n",
       "      <th>chol</th>\n",
       "      <td>100.585076</td>\n",
       "      <td>-4.780309</td>\n",
       "      <td>-4.113774</td>\n",
       "      <td>111.967215</td>\n",
       "      <td>2686.426748</td>\n",
       "      <td>0.245427</td>\n",
       "      <td>-4.116703</td>\n",
       "      <td>-11.800494</td>\n",
       "      <td>1.631991</td>\n",
       "      <td>3.246794</td>\n",
       "      <td>-0.128964</td>\n",
       "      <td>3.737252</td>\n",
       "      <td>3.135488</td>\n",
       "      <td>-2.203855</td>\n",
       "    </tr>\n",
       "    <tr>\n",
       "      <th>fbs</th>\n",
       "      <td>0.392433</td>\n",
       "      <td>0.007475</td>\n",
       "      <td>0.034719</td>\n",
       "      <td>1.109042</td>\n",
       "      <td>0.245427</td>\n",
       "      <td>0.126877</td>\n",
       "      <td>-0.015769</td>\n",
       "      <td>-0.069897</td>\n",
       "      <td>0.004295</td>\n",
       "      <td>0.002377</td>\n",
       "      <td>-0.013147</td>\n",
       "      <td>0.050259</td>\n",
       "      <td>-0.006983</td>\n",
       "      <td>-0.004983</td>\n",
       "    </tr>\n",
       "    <tr>\n",
       "      <th>restecg</th>\n",
       "      <td>-0.555013</td>\n",
       "      <td>-0.014261</td>\n",
       "      <td>0.024108</td>\n",
       "      <td>-1.052324</td>\n",
       "      <td>-4.116703</td>\n",
       "      <td>-0.015769</td>\n",
       "      <td>0.276528</td>\n",
       "      <td>0.531462</td>\n",
       "      <td>-0.017474</td>\n",
       "      <td>-0.035883</td>\n",
       "      <td>0.030151</td>\n",
       "      <td>-0.038741</td>\n",
       "      <td>-0.003858</td>\n",
       "      <td>0.035998</td>\n",
       "    </tr>\n",
       "    <tr>\n",
       "      <th>thalach</th>\n",
       "      <td>-82.903318</td>\n",
       "      <td>-0.469871</td>\n",
       "      <td>6.991618</td>\n",
       "      <td>-18.759131</td>\n",
       "      <td>-11.800494</td>\n",
       "      <td>-0.069897</td>\n",
       "      <td>0.531462</td>\n",
       "      <td>524.646406</td>\n",
       "      <td>-4.076290</td>\n",
       "      <td>-9.153518</td>\n",
       "      <td>5.459369</td>\n",
       "      <td>-4.993235</td>\n",
       "      <td>-1.352491</td>\n",
       "      <td>4.818766</td>\n",
       "    </tr>\n",
       "    <tr>\n",
       "      <th>exang</th>\n",
       "      <td>0.413022</td>\n",
       "      <td>0.031014</td>\n",
       "      <td>-0.191168</td>\n",
       "      <td>0.557111</td>\n",
       "      <td>1.631991</td>\n",
       "      <td>0.004295</td>\n",
       "      <td>-0.017474</td>\n",
       "      <td>-4.076290</td>\n",
       "      <td>0.220707</td>\n",
       "      <td>0.157216</td>\n",
       "      <td>-0.074618</td>\n",
       "      <td>0.055603</td>\n",
       "      <td>0.059472</td>\n",
       "      <td>-0.102354</td>\n",
       "    </tr>\n",
       "    <tr>\n",
       "      <th>oldpeak</th>\n",
       "      <td>2.214583</td>\n",
       "      <td>0.051993</td>\n",
       "      <td>-0.178821</td>\n",
       "      <td>3.934486</td>\n",
       "      <td>3.246794</td>\n",
       "      <td>0.002377</td>\n",
       "      <td>-0.035883</td>\n",
       "      <td>-9.153518</td>\n",
       "      <td>0.157216</td>\n",
       "      <td>1.348095</td>\n",
       "      <td>-0.413219</td>\n",
       "      <td>0.264396</td>\n",
       "      <td>0.149462</td>\n",
       "      <td>-0.249452</td>\n",
       "    </tr>\n",
       "    <tr>\n",
       "      <th>slope</th>\n",
       "      <td>-0.944791</td>\n",
       "      <td>-0.008819</td>\n",
       "      <td>0.076137</td>\n",
       "      <td>-1.312832</td>\n",
       "      <td>-0.128964</td>\n",
       "      <td>-0.013147</td>\n",
       "      <td>0.030151</td>\n",
       "      <td>5.459369</td>\n",
       "      <td>-0.074618</td>\n",
       "      <td>-0.413219</td>\n",
       "      <td>0.379735</td>\n",
       "      <td>-0.050510</td>\n",
       "      <td>-0.039527</td>\n",
       "      <td>0.106321</td>\n",
       "    </tr>\n",
       "    <tr>\n",
       "      <th>ca</th>\n",
       "      <td>2.566356</td>\n",
       "      <td>0.056357</td>\n",
       "      <td>-0.191080</td>\n",
       "      <td>1.818373</td>\n",
       "      <td>3.737252</td>\n",
       "      <td>0.050259</td>\n",
       "      <td>-0.038741</td>\n",
       "      <td>-4.993235</td>\n",
       "      <td>0.055603</td>\n",
       "      <td>0.264396</td>\n",
       "      <td>-0.050510</td>\n",
       "      <td>1.045724</td>\n",
       "      <td>0.095065</td>\n",
       "      <td>-0.199823</td>\n",
       "    </tr>\n",
       "    <tr>\n",
       "      <th>thal</th>\n",
       "      <td>0.378139</td>\n",
       "      <td>0.059930</td>\n",
       "      <td>-0.102201</td>\n",
       "      <td>0.668022</td>\n",
       "      <td>3.135488</td>\n",
       "      <td>-0.006983</td>\n",
       "      <td>-0.003858</td>\n",
       "      <td>-1.352491</td>\n",
       "      <td>0.059472</td>\n",
       "      <td>0.149462</td>\n",
       "      <td>-0.039527</td>\n",
       "      <td>0.095065</td>\n",
       "      <td>0.374883</td>\n",
       "      <td>-0.105075</td>\n",
       "    </tr>\n",
       "    <tr>\n",
       "      <th>target</th>\n",
       "      <td>-1.021343</td>\n",
       "      <td>-0.065307</td>\n",
       "      <td>0.223330</td>\n",
       "      <td>-1.267950</td>\n",
       "      <td>-2.203855</td>\n",
       "      <td>-0.004983</td>\n",
       "      <td>0.035998</td>\n",
       "      <td>4.818766</td>\n",
       "      <td>-0.102354</td>\n",
       "      <td>-0.249452</td>\n",
       "      <td>0.106321</td>\n",
       "      <td>-0.199823</td>\n",
       "      <td>-0.105075</td>\n",
       "      <td>0.248836</td>\n",
       "    </tr>\n",
       "  </tbody>\n",
       "</table>\n",
       "</div>"
      ],
      "text/plain": [
       "                 age    gender        cp    trestbps         chol       fbs  \\\n",
       "age        82.484558 -0.416661 -0.643499   44.495902   100.585076  0.392433   \n",
       "gender     -0.416661  0.217166 -0.023736   -0.463970    -4.780309  0.007475   \n",
       "cp         -0.643499 -0.023736  1.065132    0.861714    -4.113774  0.034719   \n",
       "trestbps   44.495902 -0.463970  0.861714  307.586453   111.967215  1.109042   \n",
       "chol      100.585076 -4.780309 -4.113774  111.967215  2686.426748  0.245427   \n",
       "fbs         0.392433  0.007475  0.034719    1.109042     0.245427  0.126877   \n",
       "restecg    -0.555013 -0.014261  0.024108   -1.052324    -4.116703 -0.015769   \n",
       "thalach   -82.903318 -0.469871  6.991618  -18.759131   -11.800494 -0.069897   \n",
       "exang       0.413022  0.031014 -0.191168    0.557111     1.631991  0.004295   \n",
       "oldpeak     2.214583  0.051993 -0.178821    3.934486     3.246794  0.002377   \n",
       "slope      -0.944791 -0.008819  0.076137   -1.312832    -0.128964 -0.013147   \n",
       "ca          2.566356  0.056357 -0.191080    1.818373     3.737252  0.050259   \n",
       "thal        0.378139  0.059930 -0.102201    0.668022     3.135488 -0.006983   \n",
       "target     -1.021343 -0.065307  0.223330   -1.267950    -2.203855 -0.004983   \n",
       "\n",
       "           restecg     thalach     exang   oldpeak     slope        ca  \\\n",
       "age      -0.555013  -82.903318  0.413022  2.214583 -0.944791  2.566356   \n",
       "gender   -0.014261   -0.469871  0.031014  0.051993 -0.008819  0.056357   \n",
       "cp        0.024108    6.991618 -0.191168 -0.178821  0.076137 -0.191080   \n",
       "trestbps -1.052324  -18.759131  0.557111  3.934486 -1.312832  1.818373   \n",
       "chol     -4.116703  -11.800494  1.631991  3.246794 -0.128964  3.737252   \n",
       "fbs      -0.015769   -0.069897  0.004295  0.002377 -0.013147  0.050259   \n",
       "restecg   0.276528    0.531462 -0.017474 -0.035883  0.030151 -0.038741   \n",
       "thalach   0.531462  524.646406 -4.076290 -9.153518  5.459369 -4.993235   \n",
       "exang    -0.017474   -4.076290  0.220707  0.157216 -0.074618  0.055603   \n",
       "oldpeak  -0.035883   -9.153518  0.157216  1.348095 -0.413219  0.264396   \n",
       "slope     0.030151    5.459369 -0.074618 -0.413219  0.379735 -0.050510   \n",
       "ca       -0.038741   -4.993235  0.055603  0.264396 -0.050510  1.045724   \n",
       "thal     -0.003858   -1.352491  0.059472  0.149462 -0.039527  0.095065   \n",
       "target    0.035998    4.818766 -0.102354 -0.249452  0.106321 -0.199823   \n",
       "\n",
       "              thal    target  \n",
       "age       0.378139 -1.021343  \n",
       "gender    0.059930 -0.065307  \n",
       "cp       -0.102201  0.223330  \n",
       "trestbps  0.668022 -1.267950  \n",
       "chol      3.135488 -2.203855  \n",
       "fbs      -0.006983 -0.004983  \n",
       "restecg  -0.003858  0.035998  \n",
       "thalach  -1.352491  4.818766  \n",
       "exang     0.059472 -0.102354  \n",
       "oldpeak   0.149462 -0.249452  \n",
       "slope    -0.039527  0.106321  \n",
       "ca        0.095065 -0.199823  \n",
       "thal      0.374883 -0.105075  \n",
       "target   -0.105075  0.248836  "
      ]
     },
     "execution_count": 18,
     "metadata": {},
     "output_type": "execute_result"
    }
   ],
   "source": [
    "data.cov()"
   ]
  },
  {
   "cell_type": "code",
   "execution_count": 19,
   "metadata": {},
   "outputs": [
    {
     "name": "stdout",
     "output_type": "stream",
     "text": [
      "age\n"
     ]
    },
    {
     "data": {
      "image/png": "[encoded data removed]",
      "text/plain": [
       "<Figure size 432x288 with 1 Axes>"
      ]
     },
     "metadata": {
      "needs_background": "light"
     },
     "output_type": "display_data"
    },
    {
     "name": "stdout",
     "output_type": "stream",
     "text": [
      "gender\n"
     ]
    },
    {
     "data": {
      "image/png": "[encoded data removed]",
      "text/plain": [
       "<Figure size 432x288 with 1 Axes>"
      ]
     },
     "metadata": {
      "needs_background": "light"
     },
     "output_type": "display_data"
    },
    {
     "name": "stdout",
     "output_type": "stream",
     "text": [
      "cp\n"
     ]
    },
    {
     "data": {
      "image/png": "[encoded data removed]",
      "text/plain": [
       "<Figure size 432x288 with 1 Axes>"
      ]
     },
     "metadata": {
      "needs_background": "light"
     },
     "output_type": "display_data"
    },
    {
     "name": "stdout",
     "output_type": "stream",
     "text": [
      "trestbps\n"
     ]
    },
    {
     "data": {
      "image/png": "[encoded data removed]",
      "text/plain": [
       "<Figure size 432x288 with 1 Axes>"
      ]
     },
     "metadata": {
      "needs_background": "light"
     },
     "output_type": "display_data"
    },
    {
     "name": "stdout",
     "output_type": "stream",
     "text": [
      "chol\n"
     ]
    },
    {
     "data": {
      "image/png": "[encoded data removed]",
      "text/plain": [
       "<Figure size 432x288 with 1 Axes>"
      ]
     },
     "metadata": {
      "needs_background": "light"
     },
     "output_type": "display_data"
    },
    {
     "name": "stdout",
     "output_type": "stream",
     "text": [
      "fbs\n"
     ]
    },
    {
     "data": {
      "image/png": "[encoded data removed]",
      "text/plain": [
       "<Figure size 432x288 with 1 Axes>"
      ]
     },
     "metadata": {
      "needs_background": "light"
     },
     "output_type": "display_data"
    },
    {
     "name": "stdout",
     "output_type": "stream",
     "text": [
      "restecg\n"
     ]
    },
    {
     "data": {
      "image/png": "[encoded data removed]",
      "text/plain": [
       "<Figure size 432x288 with 1 Axes>"
      ]
     },
     "metadata": {
      "needs_background": "light"
     },
     "output_type": "display_data"
    },
    {
     "name": "stdout",
     "output_type": "stream",
     "text": [
      "thalach\n"
     ]
    },
    {
     "data": {
      "image/png": "[encoded data removed]",
      "text/plain": [
       "<Figure size 432x288 with 1 Axes>"
      ]
     },
     "metadata": {
      "needs_background": "light"
     },
     "output_type": "display_data"
    },
    {
     "name": "stdout",
     "output_type": "stream",
     "text": [
      "exang\n"
     ]
    },
    {
     "data": {
      "image/png": "[encoded data removed]",
      "text/plain": [
       "<Figure size 432x288 with 1 Axes>"
      ]
     },
     "metadata": {
      "needs_background": "light"
     },
     "output_type": "display_data"
    },
    {
     "name": "stdout",
     "output_type": "stream",
     "text": [
      "oldpeak\n"
     ]
    },
    {
     "data": {
      "image/png": "[encoded data removed]",
      "text/plain": [
       "<Figure size 432x288 with 1 Axes>"
      ]
     },
     "metadata": {
      "needs_background": "light"
     },
     "output_type": "display_data"
    },
    {
     "name": "stdout",
     "output_type": "stream",
     "text": [
      "slope\n"
     ]
    },
    {
     "data": {
      "image/png": "[encoded data removed]",
      "text/plain": [
       "<Figure size 432x288 with 1 Axes>"
      ]
     },
     "metadata": {
      "needs_background": "light"
     },
     "output_type": "display_data"
    },
    {
     "name": "stdout",
     "output_type": "stream",
     "text": [
      "ca\n"
     ]
    },
    {
     "data": {
      "image/png": "[encoded data removed]",
      "text/plain": [
       "<Figure size 432x288 with 1 Axes>"
      ]
     },
     "metadata": {
      "needs_background": "light"
     },
     "output_type": "display_data"
    },
    {
     "name": "stdout",
     "output_type": "stream",
     "text": [
      "thal\n"
     ]
    },
    {
     "data": {
      "image/png": "[encoded data removed]",
      "text/plain": [
       "<Figure size 432x288 with 1 Axes>"
      ]
     },
     "metadata": {
      "needs_background": "light"
     },
     "output_type": "display_data"
    },
    {
     "name": "stdout",
     "output_type": "stream",
     "text": [
      "target\n"
     ]
    },
    {
     "data": {
      "image/png": "[encoded data removed]",
      "text/plain": [
       "<Figure size 432x288 with 1 Axes>"
      ]
     },
     "metadata": {
      "needs_background": "light"
     },
     "output_type": "display_data"
    },
    {
     "ename": "IndexError",
     "evalue": "index 14 is out of bounds for axis 0 with size 14",
     "output_type": "error",
     "traceback": [
      "\u001b[1;31m---------------------------------------------------------------------------\u001b[0m",
      "\u001b[1;31mIndexError\u001b[0m                                Traceback (most recent call last)",
      "\u001b[1;32m<ipython-input-19-e528ff60ec14>\u001b[0m in \u001b[0;36m<module>\u001b[1;34m\u001b[0m\n\u001b[0;32m      1\u001b[0m \u001b[1;32mfor\u001b[0m \u001b[0mi\u001b[0m \u001b[1;32min\u001b[0m \u001b[0mrange\u001b[0m\u001b[1;33m(\u001b[0m\u001b[0mlen\u001b[0m\u001b[1;33m(\u001b[0m\u001b[0mdata\u001b[0m\u001b[1;33m)\u001b[0m\u001b[1;33m-\u001b[0m\u001b[1;36m1\u001b[0m\u001b[1;33m)\u001b[0m\u001b[1;33m:\u001b[0m\u001b[1;33m\u001b[0m\u001b[1;33m\u001b[0m\u001b[0m\n\u001b[0;32m      2\u001b[0m     \u001b[0msns\u001b[0m\u001b[1;33m.\u001b[0m\u001b[0mdistplot\u001b[0m\u001b[1;33m(\u001b[0m\u001b[0mdata\u001b[0m\u001b[1;33m.\u001b[0m\u001b[0miloc\u001b[0m\u001b[1;33m[\u001b[0m\u001b[0mi\u001b[0m\u001b[1;33m]\u001b[0m\u001b[1;33m)\u001b[0m\u001b[1;33m\u001b[0m\u001b[1;33m\u001b[0m\u001b[0m\n\u001b[1;32m----> 3\u001b[1;33m     \u001b[0mprint\u001b[0m\u001b[1;33m(\u001b[0m\u001b[0mdata\u001b[0m\u001b[1;33m.\u001b[0m\u001b[0mcolumns\u001b[0m\u001b[1;33m[\u001b[0m\u001b[0mi\u001b[0m\u001b[1;33m]\u001b[0m\u001b[1;33m)\u001b[0m\u001b[1;33m\u001b[0m\u001b[1;33m\u001b[0m\u001b[0m\n\u001b[0m\u001b[0;32m      4\u001b[0m     \u001b[0mplt\u001b[0m\u001b[1;33m.\u001b[0m\u001b[0mshow\u001b[0m\u001b[1;33m(\u001b[0m\u001b[1;33m)\u001b[0m\u001b[1;33m\u001b[0m\u001b[1;33m\u001b[0m\u001b[0m\n",
      "\u001b[1;32m~\\Anaconda3\\lib\\site-packages\\pandas\\core\\indexes\\base.py\u001b[0m in \u001b[0;36m__getitem__\u001b[1;34m(self, key)\u001b[0m\n\u001b[0;32m   4278\u001b[0m         \u001b[1;32mif\u001b[0m \u001b[0mis_scalar\u001b[0m\u001b[1;33m(\u001b[0m\u001b[0mkey\u001b[0m\u001b[1;33m)\u001b[0m\u001b[1;33m:\u001b[0m\u001b[1;33m\u001b[0m\u001b[1;33m\u001b[0m\u001b[0m\n\u001b[0;32m   4279\u001b[0m             \u001b[0mkey\u001b[0m \u001b[1;33m=\u001b[0m \u001b[0mcom\u001b[0m\u001b[1;33m.\u001b[0m\u001b[0mcast_scalar_indexer\u001b[0m\u001b[1;33m(\u001b[0m\u001b[0mkey\u001b[0m\u001b[1;33m)\u001b[0m\u001b[1;33m\u001b[0m\u001b[1;33m\u001b[0m\u001b[0m\n\u001b[1;32m-> 4280\u001b[1;33m             \u001b[1;32mreturn\u001b[0m \u001b[0mgetitem\u001b[0m\u001b[1;33m(\u001b[0m\u001b[0mkey\u001b[0m\u001b[1;33m)\u001b[0m\u001b[1;33m\u001b[0m\u001b[1;33m\u001b[0m\u001b[0m\n\u001b[0m\u001b[0;32m   4281\u001b[0m \u001b[1;33m\u001b[0m\u001b[0m\n\u001b[0;32m   4282\u001b[0m         \u001b[1;32mif\u001b[0m \u001b[0misinstance\u001b[0m\u001b[1;33m(\u001b[0m\u001b[0mkey\u001b[0m\u001b[1;33m,\u001b[0m \u001b[0mslice\u001b[0m\u001b[1;33m)\u001b[0m\u001b[1;33m:\u001b[0m\u001b[1;33m\u001b[0m\u001b[1;33m\u001b[0m\u001b[0m\n",
      "\u001b[1;31mIndexError\u001b[0m: index 14 is out of bounds for axis 0 with size 14"
     ]
    },
    {
     "data": {
      "image/png": "[encoded data removed]",
      "text/plain": [
       "<Figure size 432x288 with 1 Axes>"
      ]
     },
     "metadata": {
      "needs_background": "light"
     },
     "output_type": "display_data"
    }
   ],
   "source": [
    "for i in range(len(data)-1):\n",
    "    sns.distplot(data.iloc[i])\n",
    "    print(data.columns[i])\n",
    "    plt.show()"
   ]
  },
  {
   "cell_type": "code",
   "execution_count": null,
   "metadata": {},
   "outputs": [],
   "source": [
    "data.plot()"
   ]
  },
  {
   "cell_type": "code",
   "execution_count": null,
   "metadata": {},
   "outputs": [],
   "source": [
    "sns.pairplot(data)"
   ]
  },
  {
   "cell_type": "code",
   "execution_count": null,
   "metadata": {},
   "outputs": [],
   "source": [
    "mean_target = data['target'].mean()"
   ]
  },
  {
   "cell_type": "code",
   "execution_count": 20,
   "metadata": {},
   "outputs": [
    {
     "ename": "NameError",
     "evalue": "name 'mean_target' is not defined",
     "output_type": "error",
     "traceback": [
      "\u001b[1;31m---------------------------------------------------------------------------\u001b[0m",
      "\u001b[1;31mNameError\u001b[0m                                 Traceback (most recent call last)",
      "\u001b[1;32m<ipython-input-20-7c778afa740d>\u001b[0m in \u001b[0;36m<module>\u001b[1;34m\u001b[0m\n\u001b[0;32m      5\u001b[0m     \u001b[0mplt\u001b[0m\u001b[1;33m.\u001b[0m\u001b[0mxlabel\u001b[0m\u001b[1;33m(\u001b[0m\u001b[0mi\u001b[0m\u001b[1;33m)\u001b[0m\u001b[1;33m\u001b[0m\u001b[1;33m\u001b[0m\u001b[0m\n\u001b[0;32m      6\u001b[0m     \u001b[0mplt\u001b[0m\u001b[1;33m.\u001b[0m\u001b[0mylabel\u001b[0m\u001b[1;33m(\u001b[0m\u001b[1;34m'target'\u001b[0m\u001b[1;33m)\u001b[0m\u001b[1;33m\u001b[0m\u001b[1;33m\u001b[0m\u001b[0m\n\u001b[1;32m----> 7\u001b[1;33m     \u001b[0mplt\u001b[0m\u001b[1;33m.\u001b[0m\u001b[0maxhline\u001b[0m\u001b[1;33m(\u001b[0m\u001b[0mmean_target\u001b[0m\u001b[1;33m,\u001b[0m\u001b[0mcolor\u001b[0m\u001b[1;33m=\u001b[0m\u001b[1;34m'k'\u001b[0m\u001b[1;33m)\u001b[0m\u001b[1;33m\u001b[0m\u001b[1;33m\u001b[0m\u001b[0m\n\u001b[0m\u001b[0;32m      8\u001b[0m     \u001b[0mplt\u001b[0m\u001b[1;33m.\u001b[0m\u001b[0mshow\u001b[0m\u001b[1;33m(\u001b[0m\u001b[1;33m)\u001b[0m\u001b[1;33m\u001b[0m\u001b[1;33m\u001b[0m\u001b[0m\n",
      "\u001b[1;31mNameError\u001b[0m: name 'mean_target' is not defined"
     ]
    },
    {
     "data": {
      "image/png": "[encoded data removed]",
      "text/plain": [
       "<Figure size 432x288 with 1 Axes>"
      ]
     },
     "metadata": {
      "needs_background": "light"
     },
     "output_type": "display_data"
    }
   ],
   "source": [
    "l = data.columns\n",
    "for i in l[:-1]:\n",
    "    #print(i)\n",
    "    plt.scatter(data[i],data['target'])\n",
    "    plt.xlabel(i)\n",
    "    plt.ylabel('target')\n",
    "    plt.axhline(mean_target,color='k')\n",
    "    plt.show()"
   ]
  },
  {
   "cell_type": "code",
   "execution_count": 21,
   "metadata": {},
   "outputs": [],
   "source": [
    "x = data.iloc[:,0:13]\n",
    "y = data.iloc[:,13]"
   ]
  },
  {
   "cell_type": "code",
   "execution_count": 22,
   "metadata": {},
   "outputs": [
    {
     "data": {
      "text/plain": [
       "array([[0.70833333, 1.        , 1.        , ..., 0.        , 0.        ,\n",
       "        0.33333333],\n",
       "       [0.16666667, 1.        , 0.66666667, ..., 0.        , 0.        ,\n",
       "        0.66666667],\n",
       "       [0.25      , 0.        , 0.33333333, ..., 1.        , 0.        ,\n",
       "        0.66666667],\n",
       "       ...,\n",
       "       [0.8125    , 1.        , 0.        , ..., 0.5       , 0.5       ,\n",
       "        1.        ],\n",
       "       [0.58333333, 1.        , 0.        , ..., 0.5       , 0.25      ,\n",
       "        1.        ],\n",
       "       [0.58333333, 0.        , 0.33333333, ..., 0.5       , 0.25      ,\n",
       "        0.66666667]])"
      ]
     },
     "execution_count": 22,
     "metadata": {},
     "output_type": "execute_result"
    }
   ],
   "source": [
    "from sklearn import preprocessing\n",
    "minmax=preprocessing.MinMaxScaler(feature_range=(0,1))\n",
    "minmax.fit(x).transform(x)"
   ]
  },
  {
   "cell_type": "code",
   "execution_count": 23,
   "metadata": {},
   "outputs": [
    {
     "data": {
      "text/html": [
       "<div>\n",
       "<style scoped>\n",
       "    .dataframe tbody tr th:only-of-type {\n",
       "        vertical-align: middle;\n",
       "    }\n",
       "\n",
       "    .dataframe tbody tr th {\n",
       "        vertical-align: top;\n",
       "    }\n",
       "\n",
       "    .dataframe thead th {\n",
       "        text-align: right;\n",
       "    }\n",
       "</style>\n",
       "<table border=\"1\" class=\"dataframe\">\n",
       "  <thead>\n",
       "    <tr style=\"text-align: right;\">\n",
       "      <th></th>\n",
       "      <th>age</th>\n",
       "      <th>gender</th>\n",
       "      <th>cp</th>\n",
       "      <th>trestbps</th>\n",
       "      <th>chol</th>\n",
       "      <th>fbs</th>\n",
       "      <th>restecg</th>\n",
       "      <th>thalach</th>\n",
       "      <th>exang</th>\n",
       "      <th>oldpeak</th>\n",
       "      <th>slope</th>\n",
       "      <th>ca</th>\n",
       "      <th>thal</th>\n",
       "    </tr>\n",
       "  </thead>\n",
       "  <tbody>\n",
       "    <tr>\n",
       "      <th>0</th>\n",
       "      <td>63</td>\n",
       "      <td>1</td>\n",
       "      <td>3</td>\n",
       "      <td>145</td>\n",
       "      <td>233</td>\n",
       "      <td>1</td>\n",
       "      <td>0</td>\n",
       "      <td>150</td>\n",
       "      <td>0</td>\n",
       "      <td>2.3</td>\n",
       "      <td>0</td>\n",
       "      <td>0</td>\n",
       "      <td>1</td>\n",
       "    </tr>\n",
       "    <tr>\n",
       "      <th>1</th>\n",
       "      <td>37</td>\n",
       "      <td>1</td>\n",
       "      <td>2</td>\n",
       "      <td>130</td>\n",
       "      <td>250</td>\n",
       "      <td>0</td>\n",
       "      <td>1</td>\n",
       "      <td>187</td>\n",
       "      <td>0</td>\n",
       "      <td>3.5</td>\n",
       "      <td>0</td>\n",
       "      <td>0</td>\n",
       "      <td>2</td>\n",
       "    </tr>\n",
       "    <tr>\n",
       "      <th>2</th>\n",
       "      <td>41</td>\n",
       "      <td>0</td>\n",
       "      <td>1</td>\n",
       "      <td>130</td>\n",
       "      <td>204</td>\n",
       "      <td>0</td>\n",
       "      <td>0</td>\n",
       "      <td>172</td>\n",
       "      <td>0</td>\n",
       "      <td>1.4</td>\n",
       "      <td>2</td>\n",
       "      <td>0</td>\n",
       "      <td>2</td>\n",
       "    </tr>\n",
       "    <tr>\n",
       "      <th>3</th>\n",
       "      <td>56</td>\n",
       "      <td>1</td>\n",
       "      <td>1</td>\n",
       "      <td>120</td>\n",
       "      <td>236</td>\n",
       "      <td>0</td>\n",
       "      <td>1</td>\n",
       "      <td>178</td>\n",
       "      <td>0</td>\n",
       "      <td>0.8</td>\n",
       "      <td>2</td>\n",
       "      <td>0</td>\n",
       "      <td>2</td>\n",
       "    </tr>\n",
       "    <tr>\n",
       "      <th>4</th>\n",
       "      <td>57</td>\n",
       "      <td>0</td>\n",
       "      <td>0</td>\n",
       "      <td>120</td>\n",
       "      <td>354</td>\n",
       "      <td>0</td>\n",
       "      <td>1</td>\n",
       "      <td>163</td>\n",
       "      <td>1</td>\n",
       "      <td>0.6</td>\n",
       "      <td>2</td>\n",
       "      <td>0</td>\n",
       "      <td>2</td>\n",
       "    </tr>\n",
       "  </tbody>\n",
       "</table>\n",
       "</div>"
      ],
      "text/plain": [
       "   age  gender  cp  trestbps  chol  fbs  restecg  thalach  exang  oldpeak  \\\n",
       "0   63       1   3       145   233    1        0      150      0      2.3   \n",
       "1   37       1   2       130   250    0        1      187      0      3.5   \n",
       "2   41       0   1       130   204    0        0      172      0      1.4   \n",
       "3   56       1   1       120   236    0        1      178      0      0.8   \n",
       "4   57       0   0       120   354    0        1      163      1      0.6   \n",
       "\n",
       "   slope  ca  thal  \n",
       "0      0   0     1  \n",
       "1      0   0     2  \n",
       "2      2   0     2  \n",
       "3      2   0     2  \n",
       "4      2   0     2  "
      ]
     },
     "execution_count": 23,
     "metadata": {},
     "output_type": "execute_result"
    }
   ],
   "source": [
    "x.head()"
   ]
  },
  {
   "cell_type": "code",
   "execution_count": 24,
   "metadata": {},
   "outputs": [
    {
     "data": {
      "text/plain": [
       "0    1\n",
       "1    1\n",
       "2    1\n",
       "3    1\n",
       "4    1\n",
       "Name: target, dtype: int64"
      ]
     },
     "execution_count": 24,
     "metadata": {},
     "output_type": "execute_result"
    }
   ],
   "source": [
    "y.head()"
   ]
  },
  {
   "cell_type": "code",
   "execution_count": 25,
   "metadata": {},
   "outputs": [],
   "source": [
    "from sklearn.model_selection import train_test_split\n",
    "x_train,x_test,y_train,y_test = train_test_split(x,y,test_size = 0.33)"
   ]
  },
  {
   "cell_type": "code",
   "execution_count": 26,
   "metadata": {},
   "outputs": [
    {
     "data": {
      "text/html": [
       "<div>\n",
       "<style scoped>\n",
       "    .dataframe tbody tr th:only-of-type {\n",
       "        vertical-align: middle;\n",
       "    }\n",
       "\n",
       "    .dataframe tbody tr th {\n",
       "        vertical-align: top;\n",
       "    }\n",
       "\n",
       "    .dataframe thead th {\n",
       "        text-align: right;\n",
       "    }\n",
       "</style>\n",
       "<table border=\"1\" class=\"dataframe\">\n",
       "  <thead>\n",
       "    <tr style=\"text-align: right;\">\n",
       "      <th></th>\n",
       "      <th>age</th>\n",
       "      <th>gender</th>\n",
       "      <th>cp</th>\n",
       "      <th>trestbps</th>\n",
       "      <th>chol</th>\n",
       "      <th>fbs</th>\n",
       "      <th>restecg</th>\n",
       "      <th>thalach</th>\n",
       "      <th>exang</th>\n",
       "      <th>oldpeak</th>\n",
       "      <th>slope</th>\n",
       "      <th>ca</th>\n",
       "      <th>thal</th>\n",
       "    </tr>\n",
       "  </thead>\n",
       "  <tbody>\n",
       "    <tr>\n",
       "      <th>63</th>\n",
       "      <td>41</td>\n",
       "      <td>1</td>\n",
       "      <td>1</td>\n",
       "      <td>135</td>\n",
       "      <td>203</td>\n",
       "      <td>0</td>\n",
       "      <td>1</td>\n",
       "      <td>132</td>\n",
       "      <td>0</td>\n",
       "      <td>0.0</td>\n",
       "      <td>1</td>\n",
       "      <td>0</td>\n",
       "      <td>1</td>\n",
       "    </tr>\n",
       "    <tr>\n",
       "      <th>256</th>\n",
       "      <td>58</td>\n",
       "      <td>1</td>\n",
       "      <td>0</td>\n",
       "      <td>128</td>\n",
       "      <td>259</td>\n",
       "      <td>0</td>\n",
       "      <td>0</td>\n",
       "      <td>130</td>\n",
       "      <td>1</td>\n",
       "      <td>3.0</td>\n",
       "      <td>1</td>\n",
       "      <td>2</td>\n",
       "      <td>3</td>\n",
       "    </tr>\n",
       "    <tr>\n",
       "      <th>166</th>\n",
       "      <td>67</td>\n",
       "      <td>1</td>\n",
       "      <td>0</td>\n",
       "      <td>120</td>\n",
       "      <td>229</td>\n",
       "      <td>0</td>\n",
       "      <td>0</td>\n",
       "      <td>129</td>\n",
       "      <td>1</td>\n",
       "      <td>2.6</td>\n",
       "      <td>1</td>\n",
       "      <td>2</td>\n",
       "      <td>3</td>\n",
       "    </tr>\n",
       "    <tr>\n",
       "      <th>203</th>\n",
       "      <td>68</td>\n",
       "      <td>1</td>\n",
       "      <td>2</td>\n",
       "      <td>180</td>\n",
       "      <td>274</td>\n",
       "      <td>1</td>\n",
       "      <td>0</td>\n",
       "      <td>150</td>\n",
       "      <td>1</td>\n",
       "      <td>1.6</td>\n",
       "      <td>1</td>\n",
       "      <td>0</td>\n",
       "      <td>3</td>\n",
       "    </tr>\n",
       "    <tr>\n",
       "      <th>300</th>\n",
       "      <td>68</td>\n",
       "      <td>1</td>\n",
       "      <td>0</td>\n",
       "      <td>144</td>\n",
       "      <td>193</td>\n",
       "      <td>1</td>\n",
       "      <td>1</td>\n",
       "      <td>141</td>\n",
       "      <td>0</td>\n",
       "      <td>3.4</td>\n",
       "      <td>1</td>\n",
       "      <td>2</td>\n",
       "      <td>3</td>\n",
       "    </tr>\n",
       "    <tr>\n",
       "      <th>...</th>\n",
       "      <td>...</td>\n",
       "      <td>...</td>\n",
       "      <td>...</td>\n",
       "      <td>...</td>\n",
       "      <td>...</td>\n",
       "      <td>...</td>\n",
       "      <td>...</td>\n",
       "      <td>...</td>\n",
       "      <td>...</td>\n",
       "      <td>...</td>\n",
       "      <td>...</td>\n",
       "      <td>...</td>\n",
       "      <td>...</td>\n",
       "    </tr>\n",
       "    <tr>\n",
       "      <th>257</th>\n",
       "      <td>50</td>\n",
       "      <td>1</td>\n",
       "      <td>0</td>\n",
       "      <td>144</td>\n",
       "      <td>200</td>\n",
       "      <td>0</td>\n",
       "      <td>0</td>\n",
       "      <td>126</td>\n",
       "      <td>1</td>\n",
       "      <td>0.9</td>\n",
       "      <td>1</td>\n",
       "      <td>0</td>\n",
       "      <td>3</td>\n",
       "    </tr>\n",
       "    <tr>\n",
       "      <th>229</th>\n",
       "      <td>64</td>\n",
       "      <td>1</td>\n",
       "      <td>2</td>\n",
       "      <td>125</td>\n",
       "      <td>309</td>\n",
       "      <td>0</td>\n",
       "      <td>1</td>\n",
       "      <td>131</td>\n",
       "      <td>1</td>\n",
       "      <td>1.8</td>\n",
       "      <td>1</td>\n",
       "      <td>0</td>\n",
       "      <td>3</td>\n",
       "    </tr>\n",
       "    <tr>\n",
       "      <th>292</th>\n",
       "      <td>58</td>\n",
       "      <td>0</td>\n",
       "      <td>0</td>\n",
       "      <td>170</td>\n",
       "      <td>225</td>\n",
       "      <td>1</td>\n",
       "      <td>0</td>\n",
       "      <td>146</td>\n",
       "      <td>1</td>\n",
       "      <td>2.8</td>\n",
       "      <td>1</td>\n",
       "      <td>2</td>\n",
       "      <td>1</td>\n",
       "    </tr>\n",
       "    <tr>\n",
       "      <th>157</th>\n",
       "      <td>35</td>\n",
       "      <td>1</td>\n",
       "      <td>1</td>\n",
       "      <td>122</td>\n",
       "      <td>192</td>\n",
       "      <td>0</td>\n",
       "      <td>1</td>\n",
       "      <td>174</td>\n",
       "      <td>0</td>\n",
       "      <td>0.0</td>\n",
       "      <td>2</td>\n",
       "      <td>0</td>\n",
       "      <td>2</td>\n",
       "    </tr>\n",
       "    <tr>\n",
       "      <th>287</th>\n",
       "      <td>57</td>\n",
       "      <td>1</td>\n",
       "      <td>1</td>\n",
       "      <td>154</td>\n",
       "      <td>232</td>\n",
       "      <td>0</td>\n",
       "      <td>0</td>\n",
       "      <td>164</td>\n",
       "      <td>0</td>\n",
       "      <td>0.0</td>\n",
       "      <td>2</td>\n",
       "      <td>1</td>\n",
       "      <td>2</td>\n",
       "    </tr>\n",
       "  </tbody>\n",
       "</table>\n",
       "<p>203 rows × 13 columns</p>\n",
       "</div>"
      ],
      "text/plain": [
       "     age  gender  cp  trestbps  chol  fbs  restecg  thalach  exang  oldpeak  \\\n",
       "63    41       1   1       135   203    0        1      132      0      0.0   \n",
       "256   58       1   0       128   259    0        0      130      1      3.0   \n",
       "166   67       1   0       120   229    0        0      129      1      2.6   \n",
       "203   68       1   2       180   274    1        0      150      1      1.6   \n",
       "300   68       1   0       144   193    1        1      141      0      3.4   \n",
       "..   ...     ...  ..       ...   ...  ...      ...      ...    ...      ...   \n",
       "257   50       1   0       144   200    0        0      126      1      0.9   \n",
       "229   64       1   2       125   309    0        1      131      1      1.8   \n",
       "292   58       0   0       170   225    1        0      146      1      2.8   \n",
       "157   35       1   1       122   192    0        1      174      0      0.0   \n",
       "287   57       1   1       154   232    0        0      164      0      0.0   \n",
       "\n",
       "     slope  ca  thal  \n",
       "63       1   0     1  \n",
       "256      1   2     3  \n",
       "166      1   2     3  \n",
       "203      1   0     3  \n",
       "300      1   2     3  \n",
       "..     ...  ..   ...  \n",
       "257      1   0     3  \n",
       "229      1   0     3  \n",
       "292      1   2     1  \n",
       "157      2   0     2  \n",
       "287      2   1     2  \n",
       "\n",
       "[203 rows x 13 columns]"
      ]
     },
     "execution_count": 26,
     "metadata": {},
     "output_type": "execute_result"
    }
   ],
   "source": [
    "x_train"
   ]
  },
  {
   "cell_type": "code",
   "execution_count": 27,
   "metadata": {},
   "outputs": [
    {
     "data": {
      "text/html": [
       "<div>\n",
       "<style scoped>\n",
       "    .dataframe tbody tr th:only-of-type {\n",
       "        vertical-align: middle;\n",
       "    }\n",
       "\n",
       "    .dataframe tbody tr th {\n",
       "        vertical-align: top;\n",
       "    }\n",
       "\n",
       "    .dataframe thead th {\n",
       "        text-align: right;\n",
       "    }\n",
       "</style>\n",
       "<table border=\"1\" class=\"dataframe\">\n",
       "  <thead>\n",
       "    <tr style=\"text-align: right;\">\n",
       "      <th></th>\n",
       "      <th>age</th>\n",
       "      <th>gender</th>\n",
       "      <th>cp</th>\n",
       "      <th>trestbps</th>\n",
       "      <th>chol</th>\n",
       "      <th>fbs</th>\n",
       "      <th>restecg</th>\n",
       "      <th>thalach</th>\n",
       "      <th>exang</th>\n",
       "      <th>oldpeak</th>\n",
       "      <th>slope</th>\n",
       "      <th>ca</th>\n",
       "      <th>thal</th>\n",
       "    </tr>\n",
       "  </thead>\n",
       "  <tbody>\n",
       "    <tr>\n",
       "      <th>123</th>\n",
       "      <td>54</td>\n",
       "      <td>0</td>\n",
       "      <td>2</td>\n",
       "      <td>108</td>\n",
       "      <td>267</td>\n",
       "      <td>0</td>\n",
       "      <td>0</td>\n",
       "      <td>167</td>\n",
       "      <td>0</td>\n",
       "      <td>0.0</td>\n",
       "      <td>2</td>\n",
       "      <td>0</td>\n",
       "      <td>2</td>\n",
       "    </tr>\n",
       "    <tr>\n",
       "      <th>5</th>\n",
       "      <td>57</td>\n",
       "      <td>1</td>\n",
       "      <td>0</td>\n",
       "      <td>140</td>\n",
       "      <td>192</td>\n",
       "      <td>0</td>\n",
       "      <td>1</td>\n",
       "      <td>148</td>\n",
       "      <td>0</td>\n",
       "      <td>0.4</td>\n",
       "      <td>1</td>\n",
       "      <td>0</td>\n",
       "      <td>1</td>\n",
       "    </tr>\n",
       "    <tr>\n",
       "      <th>207</th>\n",
       "      <td>60</td>\n",
       "      <td>0</td>\n",
       "      <td>0</td>\n",
       "      <td>150</td>\n",
       "      <td>258</td>\n",
       "      <td>0</td>\n",
       "      <td>0</td>\n",
       "      <td>157</td>\n",
       "      <td>0</td>\n",
       "      <td>2.6</td>\n",
       "      <td>1</td>\n",
       "      <td>2</td>\n",
       "      <td>3</td>\n",
       "    </tr>\n",
       "    <tr>\n",
       "      <th>43</th>\n",
       "      <td>53</td>\n",
       "      <td>0</td>\n",
       "      <td>0</td>\n",
       "      <td>130</td>\n",
       "      <td>264</td>\n",
       "      <td>0</td>\n",
       "      <td>0</td>\n",
       "      <td>143</td>\n",
       "      <td>0</td>\n",
       "      <td>0.4</td>\n",
       "      <td>1</td>\n",
       "      <td>0</td>\n",
       "      <td>2</td>\n",
       "    </tr>\n",
       "    <tr>\n",
       "      <th>106</th>\n",
       "      <td>69</td>\n",
       "      <td>1</td>\n",
       "      <td>3</td>\n",
       "      <td>160</td>\n",
       "      <td>234</td>\n",
       "      <td>1</td>\n",
       "      <td>0</td>\n",
       "      <td>131</td>\n",
       "      <td>0</td>\n",
       "      <td>0.1</td>\n",
       "      <td>1</td>\n",
       "      <td>1</td>\n",
       "      <td>2</td>\n",
       "    </tr>\n",
       "    <tr>\n",
       "      <th>...</th>\n",
       "      <td>...</td>\n",
       "      <td>...</td>\n",
       "      <td>...</td>\n",
       "      <td>...</td>\n",
       "      <td>...</td>\n",
       "      <td>...</td>\n",
       "      <td>...</td>\n",
       "      <td>...</td>\n",
       "      <td>...</td>\n",
       "      <td>...</td>\n",
       "      <td>...</td>\n",
       "      <td>...</td>\n",
       "      <td>...</td>\n",
       "    </tr>\n",
       "    <tr>\n",
       "      <th>137</th>\n",
       "      <td>62</td>\n",
       "      <td>1</td>\n",
       "      <td>1</td>\n",
       "      <td>128</td>\n",
       "      <td>208</td>\n",
       "      <td>1</td>\n",
       "      <td>0</td>\n",
       "      <td>140</td>\n",
       "      <td>0</td>\n",
       "      <td>0.0</td>\n",
       "      <td>2</td>\n",
       "      <td>0</td>\n",
       "      <td>2</td>\n",
       "    </tr>\n",
       "    <tr>\n",
       "      <th>238</th>\n",
       "      <td>77</td>\n",
       "      <td>1</td>\n",
       "      <td>0</td>\n",
       "      <td>125</td>\n",
       "      <td>304</td>\n",
       "      <td>0</td>\n",
       "      <td>0</td>\n",
       "      <td>162</td>\n",
       "      <td>1</td>\n",
       "      <td>0.0</td>\n",
       "      <td>2</td>\n",
       "      <td>3</td>\n",
       "      <td>2</td>\n",
       "    </tr>\n",
       "    <tr>\n",
       "      <th>250</th>\n",
       "      <td>51</td>\n",
       "      <td>1</td>\n",
       "      <td>0</td>\n",
       "      <td>140</td>\n",
       "      <td>298</td>\n",
       "      <td>0</td>\n",
       "      <td>1</td>\n",
       "      <td>122</td>\n",
       "      <td>1</td>\n",
       "      <td>4.2</td>\n",
       "      <td>1</td>\n",
       "      <td>3</td>\n",
       "      <td>3</td>\n",
       "    </tr>\n",
       "    <tr>\n",
       "      <th>264</th>\n",
       "      <td>54</td>\n",
       "      <td>1</td>\n",
       "      <td>0</td>\n",
       "      <td>110</td>\n",
       "      <td>206</td>\n",
       "      <td>0</td>\n",
       "      <td>0</td>\n",
       "      <td>108</td>\n",
       "      <td>1</td>\n",
       "      <td>0.0</td>\n",
       "      <td>1</td>\n",
       "      <td>1</td>\n",
       "      <td>2</td>\n",
       "    </tr>\n",
       "    <tr>\n",
       "      <th>132</th>\n",
       "      <td>42</td>\n",
       "      <td>1</td>\n",
       "      <td>1</td>\n",
       "      <td>120</td>\n",
       "      <td>295</td>\n",
       "      <td>0</td>\n",
       "      <td>1</td>\n",
       "      <td>162</td>\n",
       "      <td>0</td>\n",
       "      <td>0.0</td>\n",
       "      <td>2</td>\n",
       "      <td>0</td>\n",
       "      <td>2</td>\n",
       "    </tr>\n",
       "  </tbody>\n",
       "</table>\n",
       "<p>100 rows × 13 columns</p>\n",
       "</div>"
      ],
      "text/plain": [
       "     age  gender  cp  trestbps  chol  fbs  restecg  thalach  exang  oldpeak  \\\n",
       "123   54       0   2       108   267    0        0      167      0      0.0   \n",
       "5     57       1   0       140   192    0        1      148      0      0.4   \n",
       "207   60       0   0       150   258    0        0      157      0      2.6   \n",
       "43    53       0   0       130   264    0        0      143      0      0.4   \n",
       "106   69       1   3       160   234    1        0      131      0      0.1   \n",
       "..   ...     ...  ..       ...   ...  ...      ...      ...    ...      ...   \n",
       "137   62       1   1       128   208    1        0      140      0      0.0   \n",
       "238   77       1   0       125   304    0        0      162      1      0.0   \n",
       "250   51       1   0       140   298    0        1      122      1      4.2   \n",
       "264   54       1   0       110   206    0        0      108      1      0.0   \n",
       "132   42       1   1       120   295    0        1      162      0      0.0   \n",
       "\n",
       "     slope  ca  thal  \n",
       "123      2   0     2  \n",
       "5        1   0     1  \n",
       "207      1   2     3  \n",
       "43       1   0     2  \n",
       "106      1   1     2  \n",
       "..     ...  ..   ...  \n",
       "137      2   0     2  \n",
       "238      2   3     2  \n",
       "250      1   3     3  \n",
       "264      1   1     2  \n",
       "132      2   0     2  \n",
       "\n",
       "[100 rows x 13 columns]"
      ]
     },
     "execution_count": 27,
     "metadata": {},
     "output_type": "execute_result"
    }
   ],
   "source": [
    "x_test "
   ]
  },
  {
   "cell_type": "code",
   "execution_count": 28,
   "metadata": {},
   "outputs": [
    {
     "data": {
      "text/plain": [
       "63     1\n",
       "256    0\n",
       "166    0\n",
       "203    0\n",
       "300    0\n",
       "      ..\n",
       "257    0\n",
       "229    0\n",
       "292    0\n",
       "157    1\n",
       "287    0\n",
       "Name: target, Length: 203, dtype: int64"
      ]
     },
     "execution_count": 28,
     "metadata": {},
     "output_type": "execute_result"
    }
   ],
   "source": [
    "y_train"
   ]
  },
  {
   "cell_type": "code",
   "execution_count": 29,
   "metadata": {},
   "outputs": [
    {
     "data": {
      "text/plain": [
       "123    1\n",
       "5      1\n",
       "207    0\n",
       "43     1\n",
       "106    1\n",
       "      ..\n",
       "137    1\n",
       "238    0\n",
       "250    0\n",
       "264    0\n",
       "132    1\n",
       "Name: target, Length: 100, dtype: int64"
      ]
     },
     "execution_count": 29,
     "metadata": {},
     "output_type": "execute_result"
    }
   ],
   "source": [
    "y_test"
   ]
  },
  {
   "cell_type": "markdown",
   "metadata": {},
   "source": [
    "# SVM\n"
   ]
  },
  {
   "cell_type": "code",
   "execution_count": 30,
   "metadata": {},
   "outputs": [
    {
     "name": "stderr",
     "output_type": "stream",
     "text": [
      "C:\\Users\\Personal\\Anaconda3\\lib\\site-packages\\sklearn\\svm\\base.py:193: FutureWarning: The default value of gamma will change from 'auto' to 'scale' in version 0.22 to account better for unscaled features. Set gamma explicitly to 'auto' or 'scale' to avoid this warning.\n",
      "  \"avoid this warning.\", FutureWarning)\n"
     ]
    }
   ],
   "source": [
    "from sklearn.svm import SVC\n",
    "svc = SVC(kernel='rbf',probability = True)\n",
    "svc_classifier = svc.fit(x_train,y_train)"
   ]
  },
  {
   "cell_type": "code",
   "execution_count": 31,
   "metadata": {},
   "outputs": [],
   "source": [
    "x_train_std = minmax.fit_transform(x_train)\n",
    "x_test_std = minmax.transform(x_test)"
   ]
  },
  {
   "cell_type": "code",
   "execution_count": 32,
   "metadata": {},
   "outputs": [
    {
     "name": "stderr",
     "output_type": "stream",
     "text": [
      "C:\\Users\\Personal\\Anaconda3\\lib\\site-packages\\sklearn\\svm\\base.py:193: FutureWarning: The default value of gamma will change from 'auto' to 'scale' in version 0.22 to account better for unscaled features. Set gamma explicitly to 'auto' or 'scale' to avoid this warning.\n",
      "  \"avoid this warning.\", FutureWarning)\n",
      "C:\\Users\\Personal\\Anaconda3\\lib\\site-packages\\sklearn\\svm\\base.py:193: FutureWarning: The default value of gamma will change from 'auto' to 'scale' in version 0.22 to account better for unscaled features. Set gamma explicitly to 'auto' or 'scale' to avoid this warning.\n",
      "  \"avoid this warning.\", FutureWarning)\n",
      "C:\\Users\\Personal\\Anaconda3\\lib\\site-packages\\sklearn\\svm\\base.py:193: FutureWarning: The default value of gamma will change from 'auto' to 'scale' in version 0.22 to account better for unscaled features. Set gamma explicitly to 'auto' or 'scale' to avoid this warning.\n",
      "  \"avoid this warning.\", FutureWarning)\n"
     ]
    }
   ],
   "source": [
    "from sklearn.model_selection import cross_val_score,cross_val_predict\n",
    "svc_acc = cross_val_score(svc_classifier, x_train_std, y_train, cv=3, scoring=\"accuracy\",  n_jobs=-1)\n",
    "svc_proba = cross_val_predict(svc_classifier, x_train_std, y_train, cv=3, method='predict_proba')\n",
    "svc_scores = svc_proba[:, 1]"
   ]
  },
  {
   "cell_type": "code",
   "execution_count": 33,
   "metadata": {},
   "outputs": [],
   "source": [
    "y_pred=svc_classifier.predict(x_test)"
   ]
  },
  {
   "cell_type": "code",
   "execution_count": 34,
   "metadata": {},
   "outputs": [
    {
     "name": "stdout",
     "output_type": "stream",
     "text": [
      "actual values:\n",
      "\n",
      "[1 1 0 1 1 0 0 1 0 1 0 1 0 1 1 0 0 1 1 0 0 0 1 1 1 1 1 1 1 0 1 1 0 1 1 0 0\n",
      " 1 0 1 1 0 0 1 1 1 1 1 1 0 1 1 0 1 0 1 1 0 1 0 0 1 0 1 1 0 1 0 1 1 1 1 1 1\n",
      " 0 0 1 0 1 0 1 1 1 0 0 1 1 0 1 1 1 0 0 1 1 1 0 0 0 1]\n"
     ]
    }
   ],
   "source": [
    "print(\"actual values:\\n\")\n",
    "print(y_test.values)"
   ]
  },
  {
   "cell_type": "code",
   "execution_count": 35,
   "metadata": {},
   "outputs": [
    {
     "name": "stdout",
     "output_type": "stream",
     "text": [
      "predicted values:\n",
      "\n",
      "[1 1 1 1 1 1 1 1 1 1 1 1 0 1 1 1 1 1 1 0 1 1 1 1 1 1 1 1 1 1 1 1 1 1 1 1 0\n",
      " 1 1 1 1 1 1 1 1 1 1 1 1 1 1 1 1 1 1 1 1 1 1 1 1 1 1 1 1 1 1 1 1 1 1 1 1 1\n",
      " 1 1 1 1 1 1 1 1 1 1 1 1 1 1 1 1 1 1 1 1 1 1 1 1 1 1]\n"
     ]
    }
   ],
   "source": [
    "print(\"predicted values:\\n\")\n",
    "print(y_pred)"
   ]
  },
  {
   "cell_type": "code",
   "execution_count": 36,
   "metadata": {},
   "outputs": [
    {
     "name": "stdout",
     "output_type": "stream",
     "text": [
      "\n",
      "Accuracy score: 64.000000\n",
      "Recall score : 100.000000\n",
      "ROC score : 53.846154\n",
      "\n",
      "[[ 3 36]\n",
      " [ 0 61]]\n"
     ]
    }
   ],
   "source": [
    "from sklearn.metrics import accuracy_score, recall_score, roc_auc_score, confusion_matrix\n",
    "\n",
    "print(\"\\nAccuracy score: %f\" %(accuracy_score(y_test,y_pred) * 100))\n",
    "print(\"Recall score : %f\" %(recall_score(y_test, y_pred) * 100))\n",
    "print(\"ROC score : %f\\n\" %(roc_auc_score(y_test, y_pred) * 100))\n",
    "print(confusion_matrix(y_test, y_pred)) "
   ]
  },
  {
   "cell_type": "markdown",
   "metadata": {},
   "source": [
    "# KNN"
   ]
  },
  {
   "cell_type": "code",
   "execution_count": 37,
   "metadata": {},
   "outputs": [],
   "source": [
    "from sklearn import neighbors"
   ]
  },
  {
   "cell_type": "code",
   "execution_count": 38,
   "metadata": {},
   "outputs": [
    {
     "data": {
      "text/plain": [
       "KNeighborsClassifier(algorithm='auto', leaf_size=30, metric='minkowski',\n",
       "                     metric_params=None, n_jobs=None, n_neighbors=5, p=2,\n",
       "                     weights='uniform')"
      ]
     },
     "execution_count": 38,
     "metadata": {},
     "output_type": "execute_result"
    }
   ],
   "source": [
    "clf = neighbors.KNeighborsClassifier()\n",
    "clf.fit(x_train,y_train)"
   ]
  },
  {
   "cell_type": "code",
   "execution_count": 39,
   "metadata": {},
   "outputs": [],
   "source": [
    "y_pred=clf.predict(x_test)"
   ]
  },
  {
   "cell_type": "code",
   "execution_count": 40,
   "metadata": {},
   "outputs": [
    {
     "name": "stdout",
     "output_type": "stream",
     "text": [
      "Actual values : \n",
      "[1 1 0 1 1 0 0 1 0 1 0 1 0 1 1 0 0 1 1 0 0 0 1 1 1 1 1 1 1 0 1 1 0 1 1 0 0\n",
      " 1 0 1 1 0 0 1 1 1 1 1 1 0 1 1 0 1 0 1 1 0 1 0 0 1 0 1 1 0 1 0 1 1 1 1 1 1\n",
      " 0 0 1 0 1 0 1 1 1 0 0 1 1 0 1 1 1 0 0 1 1 1 0 0 0 1]\n"
     ]
    }
   ],
   "source": [
    "print(\"Actual values : \")\n",
    "print(y_test.values)"
   ]
  },
  {
   "cell_type": "code",
   "execution_count": 41,
   "metadata": {},
   "outputs": [
    {
     "name": "stdout",
     "output_type": "stream",
     "text": [
      "Predicted values : \n",
      "[1 0 1 0 1 0 1 0 1 0 0 0 0 1 1 1 1 1 1 0 0 1 1 1 0 0 1 0 0 1 1 1 1 1 1 0 0\n",
      " 0 1 1 1 1 0 1 1 1 1 1 1 0 1 1 0 0 0 1 1 0 0 1 1 1 1 1 0 1 1 1 1 0 1 0 0 1\n",
      " 0 1 1 1 1 1 1 1 1 1 1 0 1 0 1 1 1 0 1 1 1 0 0 0 0 1]\n"
     ]
    }
   ],
   "source": [
    "print(\"Predicted values : \")\n",
    "print(y_pred)"
   ]
  },
  {
   "cell_type": "code",
   "execution_count": 42,
   "metadata": {},
   "outputs": [
    {
     "name": "stdout",
     "output_type": "stream",
     "text": [
      "\n",
      "Accuracy score: 61.000000\n",
      "Recall score : 70.491803\n",
      "ROC score : 58.322825\n",
      "\n",
      "[[18 21]\n",
      " [18 43]]\n"
     ]
    }
   ],
   "source": [
    "print(\"\\nAccuracy score: %f\" %(accuracy_score(y_test,y_pred) * 100))\n",
    "print(\"Recall score : %f\" %(recall_score(y_test, y_pred) * 100))\n",
    "print(\"ROC score : %f\\n\" %(roc_auc_score(y_test, y_pred) * 100))\n",
    "print(confusion_matrix(y_test, y_pred)) "
   ]
  },
  {
   "cell_type": "code",
   "execution_count": 43,
   "metadata": {},
   "outputs": [],
   "source": [
    "x_train_std = minmax.fit_transform(x_train)\n",
    "x_test_std = minmax.transform(x_test)\n",
    "clf_acc = cross_val_score(clf, x_train_std, y_train, cv=3, scoring=\"accuracy\",  n_jobs=-1)\n",
    "clf_proba = cross_val_predict(clf, x_train_std, y_train, cv=3, method='predict_proba')\n",
    "clf_scores = clf_proba[:, 1] "
   ]
  },
  {
   "cell_type": "markdown",
   "metadata": {},
   "source": [
    "# DECISION TREE"
   ]
  },
  {
   "cell_type": "code",
   "execution_count": 44,
   "metadata": {},
   "outputs": [
    {
     "data": {
      "text/plain": [
       "DecisionTreeClassifier(class_weight=None, criterion='gini', max_depth=None,\n",
       "                       max_features=None, max_leaf_nodes=None,\n",
       "                       min_impurity_decrease=0.0, min_impurity_split=None,\n",
       "                       min_samples_leaf=1, min_samples_split=2,\n",
       "                       min_weight_fraction_leaf=0.0, presort=False,\n",
       "                       random_state=None, splitter='best')"
      ]
     },
     "execution_count": 44,
     "metadata": {},
     "output_type": "execute_result"
    }
   ],
   "source": [
    "from sklearn.tree import DecisionTreeClassifier\n",
    "dtc_clf = DecisionTreeClassifier()\n",
    "dtc_clf.fit(x_train,y_train)"
   ]
  },
  {
   "cell_type": "code",
   "execution_count": 45,
   "metadata": {},
   "outputs": [],
   "source": [
    "dtc_clf_acc = cross_val_score(dtc_clf, x_train_std, y_train, cv=3, scoring=\"accuracy\",  n_jobs=-1)\n",
    "dtc_proba = cross_val_predict(dtc_clf, x_train_std, y_train, cv=3, method='predict_proba')\n",
    "dtc_clf_scores = dtc_proba[:, 1]"
   ]
  },
  {
   "cell_type": "code",
   "execution_count": 46,
   "metadata": {},
   "outputs": [],
   "source": [
    "y_pred=dtc_clf.predict(x_test)"
   ]
  },
  {
   "cell_type": "code",
   "execution_count": 47,
   "metadata": {},
   "outputs": [
    {
     "name": "stdout",
     "output_type": "stream",
     "text": [
      "Actual values : \n",
      "[1 1 0 1 1 0 0 1 0 1 0 1 0 1 1 0 0 1 1 0 0 0 1 1 1 1 1 1 1 0 1 1 0 1 1 0 0\n",
      " 1 0 1 1 0 0 1 1 1 1 1 1 0 1 1 0 1 0 1 1 0 1 0 0 1 0 1 1 0 1 0 1 1 1 1 1 1\n",
      " 0 0 1 0 1 0 1 1 1 0 0 1 1 0 1 1 1 0 0 1 1 1 0 0 0 1]\n"
     ]
    }
   ],
   "source": [
    "print(\"Actual values : \")\n",
    "print(y_test.values)"
   ]
  },
  {
   "cell_type": "code",
   "execution_count": 48,
   "metadata": {},
   "outputs": [
    {
     "name": "stdout",
     "output_type": "stream",
     "text": [
      "Predicted values : \n",
      "[0 1 1 1 1 0 0 1 0 1 0 0 0 1 1 0 1 1 1 0 0 1 1 1 0 0 1 0 1 1 1 1 1 1 0 1 0\n",
      " 1 0 1 1 1 1 1 1 1 1 0 1 1 1 1 0 0 0 1 1 1 0 0 0 1 0 1 0 1 1 0 1 1 1 1 1 1\n",
      " 0 0 0 0 1 1 1 1 1 1 0 1 1 0 1 1 1 0 0 0 0 1 0 0 0 1]\n"
     ]
    }
   ],
   "source": [
    "print(\"Predicted values : \")\n",
    "print(y_pred)"
   ]
  },
  {
   "cell_type": "code",
   "execution_count": 49,
   "metadata": {},
   "outputs": [
    {
     "name": "stdout",
     "output_type": "stream",
     "text": [
      "\n",
      "Accuracy score: 74.000000\n",
      "Recall score : 78.688525\n",
      "ROC score : 72.677596\n",
      "\n",
      "[[26 13]\n",
      " [13 48]]\n"
     ]
    }
   ],
   "source": [
    "print(\"\\nAccuracy score: %f\" %(accuracy_score(y_test,y_pred) * 100))\n",
    "print(\"Recall score : %f\" %(recall_score(y_test, y_pred) * 100))\n",
    "print(\"ROC score : %f\\n\" %(roc_auc_score(y_test, y_pred) * 100))\n",
    "print(confusion_matrix(y_test, y_pred)) "
   ]
  },
  {
   "cell_type": "markdown",
   "metadata": {},
   "source": [
    "# RANDOM FOREST"
   ]
  },
  {
   "cell_type": "code",
   "execution_count": 50,
   "metadata": {},
   "outputs": [
    {
     "name": "stderr",
     "output_type": "stream",
     "text": [
      "C:\\Users\\Personal\\Anaconda3\\lib\\site-packages\\sklearn\\ensemble\\forest.py:245: FutureWarning: The default value of n_estimators will change from 10 in version 0.20 to 100 in 0.22.\n",
      "  \"10 in version 0.20 to 100 in 0.22.\", FutureWarning)\n"
     ]
    }
   ],
   "source": [
    "from sklearn.ensemble import RandomForestClassifier\n",
    "rmf = RandomForestClassifier(max_depth=5, random_state=0)\n",
    "rmf_clf = rmf.fit(x_train, y_train)"
   ]
  },
  {
   "cell_type": "code",
   "execution_count": 51,
   "metadata": {},
   "outputs": [],
   "source": [
    "rmf_clf_acc = cross_val_score(rmf_clf, x_train_std, y_train, cv=3, scoring=\"accuracy\",  n_jobs=-1)\n",
    "rmf_proba = cross_val_predict(rmf_clf, x_train_std, y_train, cv=3, method='predict_proba')\n",
    "rmf_clf_scores = rmf_proba[:, 1]"
   ]
  },
  {
   "cell_type": "code",
   "execution_count": 52,
   "metadata": {},
   "outputs": [],
   "source": [
    "y_pred=rmf_clf.predict(x_test)"
   ]
  },
  {
   "cell_type": "code",
   "execution_count": 53,
   "metadata": {},
   "outputs": [
    {
     "name": "stdout",
     "output_type": "stream",
     "text": [
      "Actual values : \n",
      "[1 1 0 1 1 0 0 1 0 1 0 1 0 1 1 0 0 1 1 0 0 0 1 1 1 1 1 1 1 0 1 1 0 1 1 0 0\n",
      " 1 0 1 1 0 0 1 1 1 1 1 1 0 1 1 0 1 0 1 1 0 1 0 0 1 0 1 1 0 1 0 1 1 1 1 1 1\n",
      " 0 0 1 0 1 0 1 1 1 0 0 1 1 0 1 1 1 0 0 1 1 1 0 0 0 1]\n"
     ]
    }
   ],
   "source": [
    "print(\"Actual values : \")\n",
    "print(y_test.values)"
   ]
  },
  {
   "cell_type": "code",
   "execution_count": 54,
   "metadata": {},
   "outputs": [
    {
     "name": "stdout",
     "output_type": "stream",
     "text": [
      "Predicted values : \n",
      "[1 0 0 1 0 0 0 1 0 0 0 0 0 1 1 0 0 1 1 0 0 0 1 1 0 0 1 0 1 0 0 1 1 1 1 1 0\n",
      " 1 0 1 1 1 0 1 1 1 1 0 1 0 1 1 0 0 0 1 1 1 1 1 0 1 0 1 0 0 1 0 1 1 1 1 0 1\n",
      " 0 1 0 0 1 1 1 1 1 0 0 0 1 0 0 1 1 0 0 0 1 1 1 0 0 1]\n"
     ]
    }
   ],
   "source": [
    "print(\"Predicted values : \")\n",
    "print(y_pred)"
   ]
  },
  {
   "cell_type": "code",
   "execution_count": 55,
   "metadata": {},
   "outputs": [
    {
     "name": "stdout",
     "output_type": "stream",
     "text": [
      "\n",
      "Accuracy score: 76.000000\n",
      "Recall score : 73.770492\n",
      "ROC score : 76.628836\n",
      "\n",
      "[[31  8]\n",
      " [16 45]]\n"
     ]
    }
   ],
   "source": [
    "print(\"\\nAccuracy score: %f\" %(accuracy_score(y_test,y_pred) * 100))\n",
    "print(\"Recall score : %f\" %(recall_score(y_test, y_pred) * 100))\n",
    "print(\"ROC score : %f\\n\" %(roc_auc_score(y_test, y_pred) * 100))\n",
    "print(confusion_matrix(y_test, y_pred)) "
   ]
  },
  {
   "cell_type": "code",
   "execution_count": 56,
   "metadata": {},
   "outputs": [
    {
     "name": "stderr",
     "output_type": "stream",
     "text": [
      "C:\\Users\\Personal\\Anaconda3\\lib\\site-packages\\sklearn\\linear_model\\logistic.py:432: FutureWarning: Default solver will be changed to 'lbfgs' in 0.22. Specify a solver to silence this warning.\n",
      "  FutureWarning)\n",
      "C:\\Users\\Personal\\Anaconda3\\lib\\site-packages\\sklearn\\linear_model\\logistic.py:432: FutureWarning: Default solver will be changed to 'lbfgs' in 0.22. Specify a solver to silence this warning.\n",
      "  FutureWarning)\n",
      "C:\\Users\\Personal\\Anaconda3\\lib\\site-packages\\sklearn\\linear_model\\logistic.py:432: FutureWarning: Default solver will be changed to 'lbfgs' in 0.22. Specify a solver to silence this warning.\n",
      "  FutureWarning)\n",
      "C:\\Users\\Personal\\Anaconda3\\lib\\site-packages\\sklearn\\linear_model\\logistic.py:432: FutureWarning: Default solver will be changed to 'lbfgs' in 0.22. Specify a solver to silence this warning.\n",
      "  FutureWarning)\n"
     ]
    }
   ],
   "source": [
    "from sklearn.linear_model import LogisticRegression\n",
    "lr = LogisticRegression()\n",
    "lr.fit(x_train,y_train)\n",
    "lr_acc = cross_val_score(lr, x_train_std, y_train, cv=3, scoring='accuracy', n_jobs=-1)\n",
    "lr_proba = cross_val_predict(lr, x_train_std, y_train, cv=3, method='predict_proba')\n",
    "lr_scores = lr_proba[:, 1]"
   ]
  },
  {
   "cell_type": "code",
   "execution_count": 57,
   "metadata": {},
   "outputs": [],
   "source": [
    "y_pred=lr.predict(x_test)"
   ]
  },
  {
   "cell_type": "code",
   "execution_count": 58,
   "metadata": {},
   "outputs": [
    {
     "name": "stdout",
     "output_type": "stream",
     "text": [
      "Actual values : \n",
      "[1 1 0 1 1 0 0 1 0 1 0 1 0 1 1 0 0 1 1 0 0 0 1 1 1 1 1 1 1 0 1 1 0 1 1 0 0\n",
      " 1 0 1 1 0 0 1 1 1 1 1 1 0 1 1 0 1 0 1 1 0 1 0 0 1 0 1 1 0 1 0 1 1 1 1 1 1\n",
      " 0 0 1 0 1 0 1 1 1 0 0 1 1 0 1 1 1 0 0 1 1 1 0 0 0 1]\n"
     ]
    }
   ],
   "source": [
    "print(\"Actual values : \")\n",
    "print(y_test.values)"
   ]
  },
  {
   "cell_type": "code",
   "execution_count": 59,
   "metadata": {},
   "outputs": [
    {
     "name": "stdout",
     "output_type": "stream",
     "text": [
      "Predicted values : \n",
      "[1 1 0 1 1 0 0 1 0 1 0 1 0 1 1 0 0 1 1 0 0 1 1 1 0 0 1 1 1 0 0 1 1 1 1 0 0\n",
      " 1 0 1 1 1 0 1 1 1 1 0 1 0 0 1 0 0 0 1 1 1 0 1 0 1 0 1 0 0 1 0 1 1 1 1 1 1\n",
      " 0 0 1 0 1 1 1 1 1 0 0 1 1 0 1 1 1 0 0 0 1 1 0 0 0 1]\n"
     ]
    }
   ],
   "source": [
    "print(\"Predicted values : \")\n",
    "print(y_pred)"
   ]
  },
  {
   "cell_type": "code",
   "execution_count": 60,
   "metadata": {},
   "outputs": [
    {
     "name": "stdout",
     "output_type": "stream",
     "text": [
      "\n",
      "Accuracy score: 85.000000\n",
      "Recall score : 85.245902\n",
      "ROC score : 84.930643\n",
      "\n",
      "[[33  6]\n",
      " [ 9 52]]\n"
     ]
    }
   ],
   "source": [
    "print(\"\\nAccuracy score: %f\" %(accuracy_score(y_test,y_pred) * 100))\n",
    "print(\"Recall score : %f\" %(recall_score(y_test, y_pred) * 100))\n",
    "print(\"ROC score : %f\\n\" %(roc_auc_score(y_test, y_pred) * 100))\n",
    "print(confusion_matrix(y_test, y_pred)) "
   ]
  },
  {
   "cell_type": "markdown",
   "metadata": {},
   "source": [
    " # Naive Bayes Classification"
   ]
  },
  {
   "cell_type": "code",
   "execution_count": 79,
   "metadata": {},
   "outputs": [
    {
     "data": {
      "text/plain": [
       "array([[1.23519342e-01, 8.76480658e-01],\n",
       "       [9.99991416e-01, 8.58410885e-06],\n",
       "       [9.99977333e-01, 2.26666241e-05],\n",
       "       [9.98660236e-01, 1.33976353e-03],\n",
       "       [9.99924791e-01, 7.52091293e-05],\n",
       "       [2.39086523e-02, 9.76091348e-01],\n",
       "       [1.14292116e-02, 9.88570788e-01],\n",
       "       [1.13022396e-01, 8.86977604e-01],\n",
       "       [2.94794111e-03, 9.97052059e-01],\n",
       "       [4.52195361e-01, 5.47804639e-01],\n",
       "       [4.00584690e-02, 9.59941531e-01],\n",
       "       [9.99870623e-01, 1.29377403e-04],\n",
       "       [1.41984474e-01, 8.58015526e-01],\n",
       "       [1.74369475e-01, 8.25630525e-01],\n",
       "       [1.72626110e-01, 8.27373890e-01],\n",
       "       [9.85911726e-01, 1.40882740e-02],\n",
       "       [4.60369276e-02, 9.53963072e-01],\n",
       "       [5.85397488e-03, 9.94146025e-01],\n",
       "       [3.58675199e-03, 9.96413248e-01],\n",
       "       [9.99291022e-01, 7.08978278e-04],\n",
       "       [7.80591934e-01, 2.19408066e-01],\n",
       "       [9.99999083e-01, 9.16968776e-07],\n",
       "       [5.13019046e-01, 4.86980954e-01],\n",
       "       [9.49454235e-01, 5.05457654e-02],\n",
       "       [1.58750904e-03, 9.98412491e-01],\n",
       "       [1.81479874e-03, 9.98185201e-01],\n",
       "       [9.98620753e-01, 1.37924684e-03],\n",
       "       [9.99981042e-01, 1.89577100e-05],\n",
       "       [9.99998501e-01, 1.49914042e-06],\n",
       "       [4.53754668e-02, 9.54624533e-01],\n",
       "       [9.99783339e-01, 2.16660973e-04],\n",
       "       [9.78129268e-01, 2.18707320e-02],\n",
       "       [1.18167044e-04, 9.99881833e-01],\n",
       "       [6.56158904e-01, 3.43841096e-01],\n",
       "       [9.99584931e-01, 4.15069086e-04],\n",
       "       [7.33014780e-01, 2.66985220e-01],\n",
       "       [2.21021940e-02, 9.77897806e-01],\n",
       "       [6.33481946e-01, 3.66518054e-01],\n",
       "       [1.65347602e-03, 9.98346524e-01],\n",
       "       [6.00959671e-01, 3.99040329e-01],\n",
       "       [2.02445655e-03, 9.97975543e-01],\n",
       "       [7.31047488e-02, 9.26895251e-01],\n",
       "       [7.80350221e-01, 2.19649779e-01],\n",
       "       [2.65394551e-03, 9.97346054e-01],\n",
       "       [9.99876356e-01, 1.23643763e-04],\n",
       "       [9.55453317e-01, 4.45466831e-02],\n",
       "       [9.99988529e-01, 1.14710764e-05],\n",
       "       [1.36455656e-02, 9.86354434e-01],\n",
       "       [6.56773549e-03, 9.93432265e-01],\n",
       "       [1.45198389e-02, 9.85480161e-01],\n",
       "       [9.91876896e-01, 8.12310409e-03],\n",
       "       [3.60616174e-02, 9.63938383e-01],\n",
       "       [9.99999381e-01, 6.18615953e-07],\n",
       "       [9.16070381e-01, 8.39296186e-02],\n",
       "       [7.32734325e-03, 9.92672657e-01],\n",
       "       [2.09585364e-01, 7.90414636e-01],\n",
       "       [9.99969064e-01, 3.09360022e-05],\n",
       "       [1.87991946e-01, 8.12008054e-01],\n",
       "       [9.99951130e-01, 4.88695723e-05],\n",
       "       [9.92791697e-01, 7.20830283e-03],\n",
       "       [2.60452397e-01, 7.39547603e-01],\n",
       "       [3.53631311e-01, 6.46368689e-01],\n",
       "       [5.41109999e-03, 9.94588900e-01],\n",
       "       [4.39500212e-01, 5.60499788e-01],\n",
       "       [4.88236677e-01, 5.11763323e-01],\n",
       "       [7.00146828e-01, 2.99853172e-01],\n",
       "       [1.61005205e-02, 9.83899480e-01],\n",
       "       [9.99868856e-01, 1.31144040e-04],\n",
       "       [9.99983889e-01, 1.61107447e-05],\n",
       "       [1.22137260e-01, 8.77862740e-01],\n",
       "       [9.99984293e-01, 1.57072558e-05],\n",
       "       [1.20263937e-03, 9.98797361e-01],\n",
       "       [8.56435531e-01, 1.43564469e-01],\n",
       "       [6.22363167e-03, 9.93776368e-01],\n",
       "       [1.60600496e-02, 9.83939950e-01],\n",
       "       [9.99704601e-01, 2.95398964e-04],\n",
       "       [2.30033280e-04, 9.99769967e-01],\n",
       "       [9.99999874e-01, 1.25777641e-07],\n",
       "       [9.99999421e-01, 5.79085015e-07],\n",
       "       [1.30495601e-01, 8.69504399e-01],\n",
       "       [4.09114908e-05, 9.99959089e-01],\n",
       "       [8.01424570e-04, 9.99198575e-01],\n",
       "       [6.91242028e-03, 9.93087580e-01],\n",
       "       [5.28226098e-04, 9.99471774e-01],\n",
       "       [5.98404135e-04, 9.99401596e-01],\n",
       "       [2.69357333e-04, 9.99730643e-01],\n",
       "       [1.27393285e-02, 9.87260672e-01],\n",
       "       [9.82153604e-01, 1.78463958e-02],\n",
       "       [9.74315846e-01, 2.56841540e-02],\n",
       "       [1.36624478e-02, 9.86337552e-01],\n",
       "       [7.74164905e-01, 2.25835095e-01],\n",
       "       [5.43871400e-01, 4.56128600e-01],\n",
       "       [1.00867115e-03, 9.98991329e-01],\n",
       "       [5.99618329e-03, 9.94003817e-01],\n",
       "       [9.99450074e-01, 5.49925756e-04],\n",
       "       [9.98952838e-01, 1.04716238e-03],\n",
       "       [9.99527208e-01, 4.72792221e-04],\n",
       "       [3.25119295e-01, 6.74880705e-01],\n",
       "       [9.19846996e-01, 8.01530038e-02],\n",
       "       [9.04707832e-01, 9.52921684e-02],\n",
       "       [9.99072129e-01, 9.27870873e-04],\n",
       "       [9.88476313e-04, 9.99011524e-01],\n",
       "       [9.62733680e-01, 3.72663196e-02],\n",
       "       [8.16950991e-02, 9.18304901e-01],\n",
       "       [1.51866779e-04, 9.99848133e-01],\n",
       "       [9.99792125e-01, 2.07874770e-04],\n",
       "       [8.80114807e-01, 1.19885193e-01],\n",
       "       [1.66381861e-04, 9.99833618e-01],\n",
       "       [9.99996292e-01, 3.70797440e-06],\n",
       "       [6.72206574e-01, 3.27793426e-01],\n",
       "       [9.93068566e-01, 6.93143427e-03],\n",
       "       [6.08809392e-03, 9.93911906e-01],\n",
       "       [1.73520417e-03, 9.98264796e-01],\n",
       "       [9.99660971e-01, 3.39029127e-04],\n",
       "       [6.20208116e-05, 9.99937979e-01],\n",
       "       [9.99396143e-01, 6.03856788e-04],\n",
       "       [9.77387601e-01, 2.26123988e-02],\n",
       "       [9.99999448e-01, 5.52375481e-07],\n",
       "       [9.58226609e-01, 4.17733915e-02],\n",
       "       [8.47900761e-02, 9.15209924e-01],\n",
       "       [3.77759509e-02, 9.62224049e-01],\n",
       "       [8.70597062e-01, 1.29402938e-01],\n",
       "       [9.85408977e-01, 1.45910229e-02],\n",
       "       [9.97780064e-01, 2.21993589e-03],\n",
       "       [1.14125994e-02, 9.88587401e-01],\n",
       "       [9.99830931e-01, 1.69069338e-04],\n",
       "       [9.99999970e-01, 2.99381707e-08],\n",
       "       [9.99996612e-01, 3.38800294e-06],\n",
       "       [9.32933784e-03, 9.90670662e-01],\n",
       "       [2.95537620e-04, 9.99704462e-01],\n",
       "       [4.38119332e-03, 9.95618807e-01],\n",
       "       [2.91976941e-01, 7.08023059e-01],\n",
       "       [3.69259886e-01, 6.30740114e-01],\n",
       "       [9.99998631e-01, 1.36861564e-06],\n",
       "       [9.99996887e-01, 3.11256292e-06],\n",
       "       [7.34791761e-02, 9.26520824e-01],\n",
       "       [1.45297598e-04, 9.99854702e-01],\n",
       "       [9.99900788e-01, 9.92117968e-05],\n",
       "       [9.84742508e-01, 1.52574919e-02],\n",
       "       [9.81141256e-01, 1.88587440e-02],\n",
       "       [3.44726680e-02, 9.65527332e-01],\n",
       "       [1.00000000e+00, 2.63785924e-10],\n",
       "       [2.87414993e-04, 9.99712585e-01],\n",
       "       [1.64432734e-03, 9.98355673e-01],\n",
       "       [1.00000000e+00, 8.00461704e-16],\n",
       "       [9.96844660e-05, 9.99900316e-01],\n",
       "       [9.99951225e-01, 4.87748580e-05],\n",
       "       [9.99999989e-01, 1.11174768e-08],\n",
       "       [8.96433050e-01, 1.03566950e-01],\n",
       "       [9.99996831e-01, 3.16851258e-06],\n",
       "       [1.31709805e-03, 9.98682902e-01],\n",
       "       [9.97715215e-01, 2.28478467e-03],\n",
       "       [9.98851071e-01, 1.14892936e-03],\n",
       "       [3.80453506e-02, 9.61954649e-01],\n",
       "       [5.78200989e-01, 4.21799011e-01],\n",
       "       [9.98851071e-01, 1.14892936e-03],\n",
       "       [5.02064815e-01, 4.97935185e-01],\n",
       "       [6.89128977e-01, 3.10871023e-01],\n",
       "       [7.64045263e-01, 2.35954737e-01],\n",
       "       [4.15252965e-01, 5.84747035e-01],\n",
       "       [4.76396577e-01, 5.23603423e-01],\n",
       "       [9.99993497e-01, 6.50290953e-06],\n",
       "       [6.02015109e-01, 3.97984891e-01],\n",
       "       [9.99993862e-01, 6.13797903e-06],\n",
       "       [9.71393220e-01, 2.86067795e-02],\n",
       "       [1.15732857e-02, 9.88426714e-01],\n",
       "       [2.65278567e-02, 9.73472143e-01],\n",
       "       [5.78376372e-03, 9.94216236e-01],\n",
       "       [3.17775763e-01, 6.82224237e-01],\n",
       "       [3.38264950e-01, 6.61735050e-01],\n",
       "       [2.53571373e-03, 9.97464286e-01],\n",
       "       [4.95433387e-03, 9.95045666e-01],\n",
       "       [9.99999553e-01, 4.46530115e-07],\n",
       "       [9.77358307e-01, 2.26416928e-02],\n",
       "       [3.79734966e-03, 9.96202650e-01],\n",
       "       [6.37494613e-01, 3.62505387e-01],\n",
       "       [1.81125570e-04, 9.99818874e-01],\n",
       "       [6.17539310e-01, 3.82460690e-01],\n",
       "       [1.69787254e-01, 8.30212746e-01],\n",
       "       [3.33332233e-03, 9.96666678e-01],\n",
       "       [1.63805339e-02, 9.83619466e-01],\n",
       "       [7.66248963e-02, 9.23375104e-01],\n",
       "       [6.79840441e-02, 9.32015956e-01],\n",
       "       [6.76373617e-01, 3.23626383e-01],\n",
       "       [1.64596310e-02, 9.83540369e-01],\n",
       "       [8.87290804e-01, 1.12709196e-01],\n",
       "       [6.29252013e-02, 9.37074799e-01],\n",
       "       [9.99999717e-01, 2.82662128e-07],\n",
       "       [7.44002304e-05, 9.99925600e-01],\n",
       "       [2.12431721e-03, 9.97875683e-01],\n",
       "       [9.99364978e-01, 6.35022401e-04],\n",
       "       [9.99996536e-01, 3.46421262e-06],\n",
       "       [9.96716920e-01, 3.28308028e-03],\n",
       "       [8.29981518e-01, 1.70018482e-01],\n",
       "       [5.27319790e-04, 9.99472680e-01],\n",
       "       [6.33964753e-02, 9.36603525e-01],\n",
       "       [2.93291101e-01, 7.06708899e-01],\n",
       "       [4.81831823e-02, 9.51816818e-01],\n",
       "       [9.98809940e-01, 1.19005963e-03],\n",
       "       [9.98271275e-01, 1.72872526e-03],\n",
       "       [9.99996989e-01, 3.01063019e-06],\n",
       "       [8.27275488e-04, 9.99172725e-01],\n",
       "       [4.17741380e-02, 9.58225862e-01]])"
      ]
     },
     "execution_count": 79,
     "metadata": {},
     "output_type": "execute_result"
    }
   ],
   "source": [
    "from sklearn.naive_bayes import GaussianNB\n",
    "nb_classifier =GaussianNB()\n",
    "nb_classifier.fit(x_train, y_train)\n",
    "nb_acc = cross_val_score(nb_classifier, x_train_std, y_train, cv=3, scoring='accuracy', n_jobs=-1)\n",
    "nb_proba = cross_val_predict(nb_classifier, x_train_std, y_train, cv=3, method='predict_proba')\n",
    "nb_scores = nb_proba[:, 1]\n",
    "nb_proba"
   ]
  },
  {
   "cell_type": "code",
   "execution_count": 62,
   "metadata": {},
   "outputs": [],
   "source": [
    "y_pred=nb_classifier.predict(x_test)"
   ]
  },
  {
   "cell_type": "code",
   "execution_count": 63,
   "metadata": {},
   "outputs": [
    {
     "name": "stdout",
     "output_type": "stream",
     "text": [
      "Actual values : \n",
      "[1 1 0 1 1 0 0 1 0 1 0 1 0 1 1 0 0 1 1 0 0 0 1 1 1 1 1 1 1 0 1 1 0 1 1 0 0\n",
      " 1 0 1 1 0 0 1 1 1 1 1 1 0 1 1 0 1 0 1 1 0 1 0 0 1 0 1 1 0 1 0 1 1 1 1 1 1\n",
      " 0 0 1 0 1 0 1 1 1 0 0 1 1 0 1 1 1 0 0 1 1 1 0 0 0 1]\n"
     ]
    }
   ],
   "source": [
    "print(\"Actual values : \")\n",
    "print(y_test.values)"
   ]
  },
  {
   "cell_type": "code",
   "execution_count": 64,
   "metadata": {},
   "outputs": [
    {
     "name": "stdout",
     "output_type": "stream",
     "text": [
      "Predicted values : \n",
      "[1 0 0 1 1 0 0 1 0 1 0 1 0 1 1 0 0 1 1 0 0 1 1 1 0 0 1 1 1 0 1 1 1 1 1 0 0\n",
      " 1 0 1 1 0 0 1 1 1 1 0 1 0 1 1 0 0 0 1 1 1 0 1 0 1 0 1 0 0 1 0 1 0 1 1 0 1\n",
      " 0 0 0 0 1 1 1 1 1 0 0 1 1 0 1 1 0 0 0 0 1 1 0 0 0 1]\n"
     ]
    }
   ],
   "source": [
    "print(\"Predicted values : \")\n",
    "print(y_pred)"
   ]
  },
  {
   "cell_type": "code",
   "execution_count": 65,
   "metadata": {},
   "outputs": [
    {
     "name": "stdout",
     "output_type": "stream",
     "text": [
      "\n",
      "Accuracy score: 83.000000\n",
      "Recall score : 80.327869\n",
      "ROC score : 83.753678\n",
      "\n",
      "[[34  5]\n",
      " [12 49]]\n"
     ]
    }
   ],
   "source": [
    "print(\"\\nAccuracy score: %f\" %(accuracy_score(y_test,y_pred) * 100))\n",
    "print(\"Recall score : %f\" %(recall_score(y_test, y_pred) * 100))\n",
    "print(\"ROC score : %f\\n\" %(roc_auc_score(y_test, y_pred) * 100))\n",
    "print(confusion_matrix(y_test, y_pred)) "
   ]
  },
  {
   "cell_type": "code",
   "execution_count": 66,
   "metadata": {},
   "outputs": [],
   "source": [
    "from sklearn.metrics import roc_auc_score,roc_curve\n",
    "def ROC_curve(title, y_train, scores, label=None):\n",
    "    fpr, tpr, thresholds = roc_curve(y_train, scores)\n",
    "    print('AUC Score ({}): {:.2f} '.format(title, roc_auc_score(y_train, scores)))\n",
    "    plt.figure(figsize=(8,6))\n",
    "    plt.plot(fpr, tpr, linewidth=2, label=label, color='b')\n",
    "    plt.xlabel('False Positive Rate', fontsize=16)\n",
    "    plt.ylabel('True Positive Rate', fontsize=16)\n",
    "    plt.title('ROC Curve: {}'.format(title), fontsize=16)\n",
    "    plt.show()"
   ]
  },
  {
   "cell_type": "code",
   "execution_count": 67,
   "metadata": {},
   "outputs": [
    {
     "name": "stdout",
     "output_type": "stream",
     "text": [
      "AUC Score (kNN): 0.88 \n"
     ]
    },
    {
     "data": {
      "image/png": "[encoded data removed]",
      "text/plain": [
       "<Figure size 576x432 with 1 Axes>"
      ]
     },
     "metadata": {
      "needs_background": "light"
     },
     "output_type": "display_data"
    },
    {
     "name": "stdout",
     "output_type": "stream",
     "text": [
      "AUC Score (Logistic Regression): 0.91 \n"
     ]
    },
    {
     "data": {
      "image/png": "[encoded data removed]",
      "text/plain": [
       "<Figure size 576x432 with 1 Axes>"
      ]
     },
     "metadata": {
      "needs_background": "light"
     },
     "output_type": "display_data"
    },
    {
     "name": "stdout",
     "output_type": "stream",
     "text": [
      "AUC Score (Naive Bayes): 0.89 \n"
     ]
    },
    {
     "data": {
      "image/png": "[encoded data removed]",
      "text/plain": [
       "<Figure size 576x432 with 1 Axes>"
      ]
     },
     "metadata": {
      "needs_background": "light"
     },
     "output_type": "display_data"
    },
    {
     "name": "stdout",
     "output_type": "stream",
     "text": [
      "AUC Score (Support Vector Classification): 0.89 \n"
     ]
    },
    {
     "data": {
      "image/png": "[encoded data removed]",
      "text/plain": [
       "<Figure size 576x432 with 1 Axes>"
      ]
     },
     "metadata": {
      "needs_background": "light"
     },
     "output_type": "display_data"
    },
    {
     "name": "stdout",
     "output_type": "stream",
     "text": [
      "AUC Score (Decision Tree Classifier): 0.75 \n"
     ]
    },
    {
     "data": {
      "image/png": "[encoded data removed]",
      "text/plain": [
       "<Figure size 576x432 with 1 Axes>"
      ]
     },
     "metadata": {
      "needs_background": "light"
     },
     "output_type": "display_data"
    },
    {
     "name": "stdout",
     "output_type": "stream",
     "text": [
      "AUC Score (Random Forest Classifier): 0.89 \n"
     ]
    },
    {
     "data": {
      "image/png": "[encoded data removed]",
      "text/plain": [
       "<Figure size 576x432 with 1 Axes>"
      ]
     },
     "metadata": {
      "needs_background": "light"
     },
     "output_type": "display_data"
    }
   ],
   "source": [
    "ROC_curve('kNN', y_train, clf_scores)\n",
    "ROC_curve('Logistic Regression', y_train, lr_scores)\n",
    "ROC_curve('Naive Bayes',y_train,nb_scores)\n",
    "ROC_curve('Support Vector Classification',y_train,svc_scores)\n",
    "ROC_curve('Decision Tree Classifier',y_train,dtc_clf_scores)\n",
    "ROC_curve('Random Forest Classifier',y_train,rmf_clf_scores)"
   ]
  },
  {
   "cell_type": "code",
   "execution_count": 68,
   "metadata": {},
   "outputs": [
    {
     "name": "stdout",
     "output_type": "stream",
     "text": [
      "WARNING:tensorflow:From C:\\Users\\Personal\\AppData\\Roaming\\Python\\Python37\\site-packages\\tensorflow_core\\python\\compat\\v2_compat.py:65: disable_resource_variables (from tensorflow.python.ops.variable_scope) is deprecated and will be removed in a future version.\n",
      "Instructions for updating:\n",
      "non-resource variables are not supported in the long term\n"
     ]
    }
   ],
   "source": [
    "import tensorflow as tf\n",
    "import tensorflow.compat.v1 as tf\n",
    "tf.disable_v2_behavior()\n",
    "from tensorflow import keras\n",
    "#model = keras.models.Sequential()\n",
    "gpu_options = tf.GPUOptions(per_process_gpu_memory_fraction=0.7)\n",
    "sess = tf.Session(config=tf.ConfigProto(gpu_options=gpu_options))"
   ]
  },
  {
   "cell_type": "code",
   "execution_count": 69,
   "metadata": {},
   "outputs": [],
   "source": [
    "x_train = keras.utils.normalize(x_train,axis=1)\n",
    "x_test = keras.utils.normalize(x_test,axis=1)"
   ]
  },
  {
   "cell_type": "code",
   "execution_count": 70,
   "metadata": {},
   "outputs": [
    {
     "data": {
      "text/plain": [
       "'model.add(keras.layers.Flatten(input_shape = data.shape))\\nmodel.add(keras.layers.Dense(128,activation = tf.nn.relu))\\nmodel.add(keras.layers.Dense(2,activation = tf.nn.softmax))'"
      ]
     },
     "execution_count": 70,
     "metadata": {},
     "output_type": "execute_result"
    }
   ],
   "source": [
    "'''model.add(keras.layers.Flatten(input_shape = data.shape))\n",
    "model.add(keras.layers.Dense(128,activation = tf.nn.relu))\n",
    "model.add(keras.layers.Dense(2,activation = tf.nn.softmax))'''"
   ]
  },
  {
   "cell_type": "code",
   "execution_count": 71,
   "metadata": {},
   "outputs": [
    {
     "name": "stdout",
     "output_type": "stream",
     "text": [
      "WARNING:tensorflow:From C:\\Users\\Personal\\AppData\\Roaming\\Python\\Python37\\site-packages\\tensorflow_core\\python\\keras\\initializers.py:143: calling RandomNormal.__init__ (from tensorflow.python.ops.init_ops) with dtype is deprecated and will be removed in a future version.\n",
      "Instructions for updating:\n",
      "Call initializer instance with the dtype argument instead of passing it to the constructor\n",
      "WARNING:tensorflow:From C:\\Users\\Personal\\AppData\\Roaming\\Python\\Python37\\site-packages\\tensorflow_core\\python\\ops\\resource_variable_ops.py:1630: calling BaseResourceVariable.__init__ (from tensorflow.python.ops.resource_variable_ops) with constraint is deprecated and will be removed in a future version.\n",
      "Instructions for updating:\n",
      "If using Keras pass *_constraint arguments to layers.\n"
     ]
    }
   ],
   "source": [
    "from tensorflow.keras.layers import Dense\n",
    "classifier = keras.models.Sequential()\n",
    "classifier.add(Dense(303, activation='relu', kernel_initializer='random_normal', input_dim=13))\n",
    "classifier.add(Dense(4, activation='relu', kernel_initializer='random_normal'))\n",
    "classifier.add(Dense(1, activation='sigmoid', kernel_initializer='random_normal'))"
   ]
  },
  {
   "cell_type": "code",
   "execution_count": 72,
   "metadata": {},
   "outputs": [
    {
     "name": "stdout",
     "output_type": "stream",
     "text": [
      "Train on 203 samples\n",
      "Epoch 1/100\n",
      "203/203 [==============================] - 1s 7ms/sample - loss: 0.6933 - acc: 0.4926\n",
      "Epoch 2/100\n",
      "203/203 [==============================] - 0s 516us/sample - loss: 0.6932 - acc: 0.5025\n",
      "Epoch 3/100\n",
      "203/203 [==============================] - 0s 408us/sample - loss: 0.6932 - acc: 0.5123\n",
      "Epoch 4/100\n",
      "203/203 [==============================] - 0s 540us/sample - loss: 0.6932 - acc: 0.5123\n",
      "Epoch 5/100\n",
      "203/203 [==============================] - 0s 442us/sample - loss: 0.6931 - acc: 0.5123\n",
      "Epoch 6/100\n",
      "203/203 [==============================] - 0s 403us/sample - loss: 0.6932 - acc: 0.5123\n",
      "Epoch 7/100\n",
      "203/203 [==============================] - 0s 423us/sample - loss: 0.6931 - acc: 0.5123\n",
      "Epoch 8/100\n",
      "203/203 [==============================] - 0s 393us/sample - loss: 0.6931 - acc: 0.5123\n",
      "Epoch 9/100\n",
      "203/203 [==============================] - 0s 418us/sample - loss: 0.6931 - acc: 0.5123\n",
      "Epoch 10/100\n",
      "203/203 [==============================] - 0s 560us/sample - loss: 0.6930 - acc: 0.5123\n",
      "Epoch 11/100\n",
      "203/203 [==============================] - 0s 487us/sample - loss: 0.6930 - acc: 0.5123\n",
      "Epoch 12/100\n",
      "203/203 [==============================] - 0s 501us/sample - loss: 0.6930 - acc: 0.5123\n",
      "Epoch 13/100\n",
      "203/203 [==============================] - 0s 423us/sample - loss: 0.6930 - acc: 0.5123\n",
      "Epoch 14/100\n",
      "203/203 [==============================] - 0s 462us/sample - loss: 0.6929 - acc: 0.5123\n",
      "Epoch 15/100\n",
      "203/203 [==============================] - 0s 408us/sample - loss: 0.6930 - acc: 0.5123\n",
      "Epoch 16/100\n",
      "203/203 [==============================] - 0s 545us/sample - loss: 0.6930 - acc: 0.5123\n",
      "Epoch 17/100\n",
      "203/203 [==============================] - 0s 496us/sample - loss: 0.6930 - acc: 0.5123\n",
      "Epoch 18/100\n",
      "203/203 [==============================] - 0s 521us/sample - loss: 0.6930 - acc: 0.5123\n",
      "Epoch 19/100\n",
      "203/203 [==============================] - 0s 506us/sample - loss: 0.6930 - acc: 0.5123\n",
      "Epoch 20/100\n",
      "203/203 [==============================] - 0s 550us/sample - loss: 0.6929 - acc: 0.5123\n",
      "Epoch 21/100\n",
      "203/203 [==============================] - 0s 526us/sample - loss: 0.6930 - acc: 0.5123\n",
      "Epoch 22/100\n",
      "203/203 [==============================] - 0s 531us/sample - loss: 0.6930 - acc: 0.5123\n",
      "Epoch 23/100\n",
      "203/203 [==============================] - 0s 472us/sample - loss: 0.6930 - acc: 0.5123\n",
      "Epoch 24/100\n",
      "203/203 [==============================] - 0s 536us/sample - loss: 0.6930 - acc: 0.5123\n",
      "Epoch 25/100\n",
      "203/203 [==============================] - 0s 506us/sample - loss: 0.6930 - acc: 0.5123\n",
      "Epoch 26/100\n",
      "203/203 [==============================] - 0s 477us/sample - loss: 0.6930 - acc: 0.5123\n",
      "Epoch 27/100\n",
      "203/203 [==============================] - 0s 467us/sample - loss: 0.6930 - acc: 0.5123\n",
      "Epoch 28/100\n",
      "203/203 [==============================] - 0s 364us/sample - loss: 0.6931 - acc: 0.5123\n",
      "Epoch 29/100\n",
      "203/203 [==============================] - 0s 388us/sample - loss: 0.6930 - acc: 0.5123\n",
      "Epoch 30/100\n",
      "203/203 [==============================] - 0s 462us/sample - loss: 0.6930 - acc: 0.5123\n",
      "Epoch 31/100\n",
      "203/203 [==============================] - 0s 418us/sample - loss: 0.6931 - acc: 0.5123\n",
      "Epoch 32/100\n",
      "203/203 [==============================] - 0s 467us/sample - loss: 0.6930 - acc: 0.5123\n",
      "Epoch 33/100\n",
      "203/203 [==============================] - 0s 378us/sample - loss: 0.6930 - acc: 0.5123\n",
      "Epoch 34/100\n",
      "203/203 [==============================] - 0s 403us/sample - loss: 0.6929 - acc: 0.5123\n",
      "Epoch 35/100\n",
      "203/203 [==============================] - 0s 398us/sample - loss: 0.6930 - acc: 0.5123\n",
      "Epoch 36/100\n",
      "203/203 [==============================] - 0s 521us/sample - loss: 0.6929 - acc: 0.5123\n",
      "Epoch 37/100\n",
      "203/203 [==============================] - 0s 501us/sample - loss: 0.6930 - acc: 0.5123\n",
      "Epoch 38/100\n",
      "203/203 [==============================] - 0s 437us/sample - loss: 0.6930 - acc: 0.5123\n",
      "Epoch 39/100\n",
      "203/203 [==============================] - 0s 462us/sample - loss: 0.6930 - acc: 0.5123\n",
      "Epoch 40/100\n",
      "203/203 [==============================] - 0s 393us/sample - loss: 0.6930 - acc: 0.5123\n",
      "Epoch 41/100\n",
      "203/203 [==============================] - 0s 452us/sample - loss: 0.6930 - acc: 0.5123\n",
      "Epoch 42/100\n",
      "203/203 [==============================] - 0s 511us/sample - loss: 0.6930 - acc: 0.5123\n",
      "Epoch 43/100\n",
      "203/203 [==============================] - 0s 516us/sample - loss: 0.6929 - acc: 0.5123\n",
      "Epoch 44/100\n",
      "203/203 [==============================] - 0s 545us/sample - loss: 0.6930 - acc: 0.5123\n",
      "Epoch 45/100\n",
      "203/203 [==============================] - 0s 462us/sample - loss: 0.6930 - acc: 0.5123\n",
      "Epoch 46/100\n",
      "203/203 [==============================] - 0s 516us/sample - loss: 0.6930 - acc: 0.5123\n",
      "Epoch 47/100\n",
      "203/203 [==============================] - 0s 481us/sample - loss: 0.6930 - acc: 0.5123\n",
      "Epoch 48/100\n",
      "203/203 [==============================] - 0s 472us/sample - loss: 0.6930 - acc: 0.5123\n",
      "Epoch 49/100\n",
      "203/203 [==============================] - 0s 467us/sample - loss: 0.6930 - acc: 0.5123\n",
      "Epoch 50/100\n",
      "203/203 [==============================] - 0s 393us/sample - loss: 0.6930 - acc: 0.5123\n",
      "Epoch 51/100\n",
      "203/203 [==============================] - 0s 398us/sample - loss: 0.6930 - acc: 0.5123\n",
      "Epoch 52/100\n",
      "203/203 [==============================] - 0s 418us/sample - loss: 0.6929 - acc: 0.5123\n",
      "Epoch 53/100\n",
      "203/203 [==============================] - 0s 403us/sample - loss: 0.6930 - acc: 0.5123\n",
      "Epoch 54/100\n",
      "203/203 [==============================] - 0s 393us/sample - loss: 0.6930 - acc: 0.5123\n",
      "Epoch 55/100\n",
      "203/203 [==============================] - 0s 378us/sample - loss: 0.6930 - acc: 0.5123\n",
      "Epoch 56/100\n",
      "203/203 [==============================] - 0s 364us/sample - loss: 0.6930 - acc: 0.5123\n",
      "Epoch 57/100\n",
      "203/203 [==============================] - 0s 423us/sample - loss: 0.6930 - acc: 0.5123\n",
      "Epoch 58/100\n",
      "203/203 [==============================] - 0s 388us/sample - loss: 0.6930 - acc: 0.5123\n",
      "Epoch 59/100\n",
      "203/203 [==============================] - 0s 378us/sample - loss: 0.6930 - acc: 0.5123\n",
      "Epoch 60/100\n",
      "203/203 [==============================] - 0s 373us/sample - loss: 0.6929 - acc: 0.5123\n",
      "Epoch 61/100\n",
      "203/203 [==============================] - 0s 369us/sample - loss: 0.6930 - acc: 0.5123\n",
      "Epoch 62/100\n",
      "203/203 [==============================] - 0s 368us/sample - loss: 0.6930 - acc: 0.5123\n",
      "Epoch 63/100\n",
      "203/203 [==============================] - 0s 354us/sample - loss: 0.6930 - acc: 0.5123\n",
      "Epoch 64/100\n",
      "203/203 [==============================] - 0s 383us/sample - loss: 0.6930 - acc: 0.5123\n",
      "Epoch 65/100\n",
      "203/203 [==============================] - 0s 531us/sample - loss: 0.6930 - acc: 0.5123\n",
      "Epoch 66/100\n",
      "203/203 [==============================] - 0s 516us/sample - loss: 0.6930 - acc: 0.5123\n",
      "Epoch 67/100\n",
      "203/203 [==============================] - 0s 447us/sample - loss: 0.6930 - acc: 0.5123\n",
      "Epoch 68/100\n",
      "203/203 [==============================] - 0s 467us/sample - loss: 0.6930 - acc: 0.5123\n",
      "Epoch 69/100\n",
      "203/203 [==============================] - 0s 398us/sample - loss: 0.6929 - acc: 0.5123\n",
      "Epoch 70/100\n",
      "203/203 [==============================] - 0s 486us/sample - loss: 0.6930 - acc: 0.5123\n",
      "Epoch 71/100\n",
      "203/203 [==============================] - 0s 496us/sample - loss: 0.6930 - acc: 0.5123\n",
      "Epoch 72/100\n",
      "203/203 [==============================] - 0s 447us/sample - loss: 0.6930 - acc: 0.5123\n",
      "Epoch 73/100\n",
      "203/203 [==============================] - 0s 462us/sample - loss: 0.6930 - acc: 0.5123\n",
      "Epoch 74/100\n",
      "203/203 [==============================] - 0s 432us/sample - loss: 0.6929 - acc: 0.5123\n",
      "Epoch 75/100\n",
      "203/203 [==============================] - 0s 555us/sample - loss: 0.6930 - acc: 0.5123\n",
      "Epoch 76/100\n",
      "203/203 [==============================] - 0s 506us/sample - loss: 0.6930 - acc: 0.5123\n",
      "Epoch 77/100\n",
      "203/203 [==============================] - 0s 462us/sample - loss: 0.6930 - acc: 0.5123\n",
      "Epoch 78/100\n",
      "203/203 [==============================] - 0s 442us/sample - loss: 0.6930 - acc: 0.5123\n",
      "Epoch 79/100\n",
      "203/203 [==============================] - 0s 437us/sample - loss: 0.6930 - acc: 0.5123\n",
      "Epoch 80/100\n",
      "203/203 [==============================] - 0s 521us/sample - loss: 0.6930 - acc: 0.5123\n",
      "Epoch 81/100\n",
      "203/203 [==============================] - 0s 526us/sample - loss: 0.6930 - acc: 0.5123\n",
      "Epoch 82/100\n"
     ]
    },
    {
     "name": "stdout",
     "output_type": "stream",
     "text": [
      "203/203 [==============================] - 0s 477us/sample - loss: 0.6930 - acc: 0.5123\n",
      "Epoch 83/100\n",
      "203/203 [==============================] - 0s 472us/sample - loss: 0.6930 - acc: 0.5123\n",
      "Epoch 84/100\n",
      "203/203 [==============================] - 0s 383us/sample - loss: 0.6930 - acc: 0.5123\n",
      "Epoch 85/100\n",
      "203/203 [==============================] - 0s 423us/sample - loss: 0.6930 - acc: 0.5123\n",
      "Epoch 86/100\n",
      "203/203 [==============================] - 0s 560us/sample - loss: 0.6929 - acc: 0.5123\n",
      "Epoch 87/100\n",
      "203/203 [==============================] - 0s 531us/sample - loss: 0.6930 - acc: 0.5123\n",
      "Epoch 88/100\n",
      "203/203 [==============================] - 0s 452us/sample - loss: 0.6929 - acc: 0.5123\n",
      "Epoch 89/100\n",
      "203/203 [==============================] - 0s 354us/sample - loss: 0.6929 - acc: 0.5123\n",
      "Epoch 90/100\n",
      "203/203 [==============================] - 0s 388us/sample - loss: 0.6930 - acc: 0.5123\n",
      "Epoch 91/100\n",
      "203/203 [==============================] - 0s 388us/sample - loss: 0.6930 - acc: 0.5123\n",
      "Epoch 92/100\n",
      "203/203 [==============================] - 0s 388us/sample - loss: 0.6930 - acc: 0.5123\n",
      "Epoch 93/100\n",
      "203/203 [==============================] - 0s 418us/sample - loss: 0.6930 - acc: 0.5123\n",
      "Epoch 94/100\n",
      "203/203 [==============================] - 0s 368us/sample - loss: 0.6930 - acc: 0.5123\n",
      "Epoch 95/100\n",
      "203/203 [==============================] - 0s 373us/sample - loss: 0.6930 - acc: 0.5123\n",
      "Epoch 96/100\n",
      "203/203 [==============================] - 0s 383us/sample - loss: 0.6930 - acc: 0.5123\n",
      "Epoch 97/100\n",
      "203/203 [==============================] - 0s 368us/sample - loss: 0.6930 - acc: 0.5123\n",
      "Epoch 98/100\n",
      "203/203 [==============================] - 0s 408us/sample - loss: 0.6930 - acc: 0.5123\n",
      "Epoch 99/100\n",
      "203/203 [==============================] - 0s 378us/sample - loss: 0.6930 - acc: 0.5123\n",
      "Epoch 100/100\n",
      "203/203 [==============================] - 0s 383us/sample - loss: 0.6930 - acc: 0.5123\n"
     ]
    },
    {
     "data": {
      "text/plain": [
       "<tensorflow.python.keras.callbacks.History at 0x2b96235de48>"
      ]
     },
     "execution_count": 72,
     "metadata": {},
     "output_type": "execute_result"
    }
   ],
   "source": [
    "classifier.compile(optimizer ='sgd',loss='binary_crossentropy', metrics =['accuracy'])\n",
    "classifier.fit(x_train,y_train, batch_size=10, epochs=100)"
   ]
  },
  {
   "cell_type": "code",
   "execution_count": 73,
   "metadata": {},
   "outputs": [
    {
     "name": "stdout",
     "output_type": "stream",
     "text": [
      "203/203 [==============================] - 0s 231us/sample - loss: 0.6928 - acc: 0.5123\n"
     ]
    },
    {
     "data": {
      "text/plain": [
       "[0.6928461901660036, 0.5123153]"
      ]
     },
     "execution_count": 73,
     "metadata": {},
     "output_type": "execute_result"
    }
   ],
   "source": [
    "eval_model=classifier.evaluate(x_train, y_train)\n",
    "eval_model"
   ]
  },
  {
   "cell_type": "code",
   "execution_count": 74,
   "metadata": {},
   "outputs": [],
   "source": [
    "y_pred=classifier.predict(x_test)"
   ]
  },
  {
   "cell_type": "code",
   "execution_count": 75,
   "metadata": {
    "scrolled": true
   },
   "outputs": [
    {
     "data": {
      "text/plain": [
       "array([[0.5117396 ],\n",
       "       [0.5117004 ],\n",
       "       [0.511716  ],\n",
       "       [0.5117233 ],\n",
       "       [0.51170653],\n",
       "       [0.51172584],\n",
       "       [0.5117097 ],\n",
       "       [0.511746  ],\n",
       "       [0.5117259 ],\n",
       "       [0.5117061 ],\n",
       "       [0.51173574],\n",
       "       [0.5117282 ],\n",
       "       [0.5117268 ],\n",
       "       [0.51174283],\n",
       "       [0.5117263 ],\n",
       "       [0.5117128 ],\n",
       "       [0.5117145 ],\n",
       "       [0.5117296 ],\n",
       "       [0.51171654],\n",
       "       [0.5117094 ],\n",
       "       [0.5117385 ],\n",
       "       [0.5117114 ],\n",
       "       [0.5117226 ],\n",
       "       [0.5117215 ],\n",
       "       [0.5117354 ],\n",
       "       [0.51171714],\n",
       "       [0.51171434],\n",
       "       [0.51173615],\n",
       "       [0.5117467 ],\n",
       "       [0.51172394],\n",
       "       [0.51172996],\n",
       "       [0.5117116 ],\n",
       "       [0.51170665],\n",
       "       [0.5117067 ],\n",
       "       [0.51171345],\n",
       "       [0.5117012 ],\n",
       "       [0.5117226 ],\n",
       "       [0.51171535],\n",
       "       [0.51171166],\n",
       "       [0.5117279 ],\n",
       "       [0.51173604],\n",
       "       [0.5117054 ],\n",
       "       [0.5117385 ],\n",
       "       [0.51171607],\n",
       "       [0.5117277 ],\n",
       "       [0.51171905],\n",
       "       [0.5117375 ],\n",
       "       [0.51173246],\n",
       "       [0.5117153 ],\n",
       "       [0.5117257 ],\n",
       "       [0.5117373 ],\n",
       "       [0.5117203 ],\n",
       "       [0.51172423],\n",
       "       [0.51172787],\n",
       "       [0.51171774],\n",
       "       [0.51171064],\n",
       "       [0.51172215],\n",
       "       [0.511731  ],\n",
       "       [0.5117056 ],\n",
       "       [0.5117285 ],\n",
       "       [0.51171625],\n",
       "       [0.5117262 ],\n",
       "       [0.51171297],\n",
       "       [0.5117161 ],\n",
       "       [0.5117113 ],\n",
       "       [0.5117189 ],\n",
       "       [0.511718  ],\n",
       "       [0.5117079 ],\n",
       "       [0.5117253 ],\n",
       "       [0.51170886],\n",
       "       [0.5117005 ],\n",
       "       [0.511707  ],\n",
       "       [0.5117728 ],\n",
       "       [0.5117335 ],\n",
       "       [0.511736  ],\n",
       "       [0.5117107 ],\n",
       "       [0.5117115 ],\n",
       "       [0.51173174],\n",
       "       [0.51172036],\n",
       "       [0.5117371 ],\n",
       "       [0.51170695],\n",
       "       [0.51172423],\n",
       "       [0.5117083 ],\n",
       "       [0.5117347 ],\n",
       "       [0.51171714],\n",
       "       [0.51169884],\n",
       "       [0.5117266 ],\n",
       "       [0.511708  ],\n",
       "       [0.5117174 ],\n",
       "       [0.5117287 ],\n",
       "       [0.51173276],\n",
       "       [0.5117082 ],\n",
       "       [0.5117245 ],\n",
       "       [0.5117164 ],\n",
       "       [0.5117114 ],\n",
       "       [0.5117101 ],\n",
       "       [0.51173437],\n",
       "       [0.51173174],\n",
       "       [0.5117186 ],\n",
       "       [0.5117364 ]], dtype=float32)"
      ]
     },
     "execution_count": 75,
     "metadata": {},
     "output_type": "execute_result"
    }
   ],
   "source": [
    "y_pred"
   ]
  },
  {
   "cell_type": "code",
   "execution_count": null,
   "metadata": {},
   "outputs": [],
   "source": []
  },
  {
   "cell_type": "code",
   "execution_count": null,
   "metadata": {},
   "outputs": [],
   "source": []
  },
  {
   "cell_type": "code",
   "execution_count": null,
   "metadata": {},
   "outputs": [],
   "source": []
  },
  {
   "cell_type": "code",
   "execution_count": null,
   "metadata": {},
   "outputs": [],
   "source": []
  },
  {
   "cell_type": "code",
   "execution_count": null,
   "metadata": {},
   "outputs": [],
   "source": []
  },
  {
   "cell_type": "code",
   "execution_count": null,
   "metadata": {},
   "outputs": [],
   "source": []
  },
  {
   "cell_type": "code",
   "execution_count": null,
   "metadata": {},
   "outputs": [],
   "source": []
  },
  {
   "cell_type": "code",
   "execution_count": null,
   "metadata": {},
   "outputs": [],
   "source": []
  },
  {
   "cell_type": "code",
   "execution_count": null,
   "metadata": {},
   "outputs": [],
   "source": []
  },
  {
   "cell_type": "code",
   "execution_count": null,
   "metadata": {},
   "outputs": [],
   "source": []
  },
  {
   "cell_type": "code",
   "execution_count": null,
   "metadata": {},
   "outputs": [],
   "source": []
  },
  {
   "cell_type": "code",
   "execution_count": null,
   "metadata": {},
   "outputs": [],
   "source": []
  },
  {
   "cell_type": "code",
   "execution_count": null,
   "metadata": {},
   "outputs": [],
   "source": []
  },
  {
   "cell_type": "code",
   "execution_count": null,
   "metadata": {},
   "outputs": [],
   "source": []
  },
  {
   "cell_type": "code",
   "execution_count": null,
   "metadata": {},
   "outputs": [],
   "source": []
  },
  {
   "cell_type": "code",
   "execution_count": null,
   "metadata": {},
   "outputs": [],
   "source": []
  },
  {
   "cell_type": "code",
   "execution_count": null,
   "metadata": {},
   "outputs": [],
   "source": []
  },
  {
   "cell_type": "code",
   "execution_count": null,
   "metadata": {},
   "outputs": [],
   "source": []
  },
  {
   "cell_type": "code",
   "execution_count": null,
   "metadata": {},
   "outputs": [],
   "source": []
  },
  {
   "cell_type": "code",
   "execution_count": null,
   "metadata": {},
   "outputs": [],
   "source": []
  }
 ],
 "metadata": {
  "kernelspec": {
   "display_name": "Python 3",
   "language": "python",
   "name": "python3"
  },
  "language_info": {
   "codemirror_mode": {
    "name": "ipython",
    "version": 3
   },
   "file_extension": ".py",
   "mimetype": "text/x-python",
   "name": "python",
   "nbconvert_exporter": "python",
   "pygments_lexer": "ipython3",
   "version": "3.7.4"
  }
 },
 "nbformat": 4,
 "nbformat_minor": 2
}
