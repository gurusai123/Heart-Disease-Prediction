{
  "nbformat": 4,
  "nbformat_minor": 0,
  "metadata": {
    "kernelspec": {
      "display_name": "Python 3",
      "language": "python",
      "name": "python3"
    },
    "language_info": {
      "codemirror_mode": {
        "name": "ipython",
        "version": 3
      },
      "file_extension": ".py",
      "mimetype": "text/x-python",
      "name": "python",
      "nbconvert_exporter": "python",
      "pygments_lexer": "ipython3",
      "version": "3.7.4"
    },
    "colab": {
      "name": "heart disease prediction.ipynb",
      "provenance": []
    },
    "accelerator": "GPU"
  },
  "cells": [
    {
      "cell_type": "code",
      "metadata": {
        "id": "PzfwuzT-zuAs",
        "outputId": "4aa0cc38-9097-4fc0-beda-5b3ea1868104",
        "colab": {
          "base_uri": "https://localhost:8080/",
          "height": 138
        }
      },
      "source": [
        "'''age - age in years\n",
        "gender - (1 = male; 0 = female)\n",
        "cp - chest pain type\n",
        "trestbps - resting blood pressure (in mm Hg on admission to the hospital)\n",
        "chol - serum cholestoral in mg/dl\n",
        "fbs - (fasting blood sugar > 120 mg/dl) (1 = true; 0 = false)\n",
        "restecg - resting electrocardiographic results\n",
        "thalach - maximum heart rate achieved\n",
        "exang - exercise induced angina (1 = yes; 0 = no)\n",
        "oldpeak - ST depression induced by exercise relative to rest\n",
        "slope - the slope of the peak exercise ST segment\n",
        "ca - number of major vessels (0-3) colored by flourosopy\n",
        "thal - 3 = normal; 6 = fixed defect; 7 = reversable defect\n",
        "target - have disease or not (1=yes, 0=no)'''"
      ],
      "execution_count": 1,
      "outputs": [
        {
          "output_type": "execute_result",
          "data": {
            "application/vnd.google.colaboratory.intrinsic+json": {
              "type": "string"
            },
            "text/plain": [
              "'age - age in years\\ngender - (1 = male; 0 = female)\\ncp - chest pain type\\ntrestbps - resting blood pressure (in mm Hg on admission to the hospital)\\nchol - serum cholestoral in mg/dl\\nfbs - (fasting blood sugar > 120 mg/dl) (1 = true; 0 = false)\\nrestecg - resting electrocardiographic results\\nthalach - maximum heart rate achieved\\nexang - exercise induced angina (1 = yes; 0 = no)\\noldpeak - ST depression induced by exercise relative to rest\\nslope - the slope of the peak exercise ST segment\\nca - number of major vessels (0-3) colored by flourosopy\\nthal - 3 = normal; 6 = fixed defect; 7 = reversable defect\\ntarget - have disease or not (1=yes, 0=no)'"
            ]
          },
          "metadata": {
            "tags": []
          },
          "execution_count": 1
        }
      ]
    },
    {
      "cell_type": "code",
      "metadata": {
        "id": "Qea7pAe0zuAx"
      },
      "source": [
        ""
      ],
      "execution_count": 1,
      "outputs": []
    },
    {
      "cell_type": "code",
      "metadata": {
        "id": "dcLt48jtzuA2"
      },
      "source": [
        "import pandas as pd\n",
        "import matplotlib.pyplot as plt\n",
        "import sklearn as sk\n",
        "%matplotlib inline\n",
        "import seaborn as sns\n",
        "#import random"
      ],
      "execution_count": 5,
      "outputs": []
    },
    {
      "cell_type": "code",
      "metadata": {
        "id": "89AG1aJczuA7"
      },
      "source": [
        "data = pd.read_csv(\"heart.csv\")"
      ],
      "execution_count": 6,
      "outputs": []
    },
    {
      "cell_type": "code",
      "metadata": {
        "id": "MXgQRE8YzuA-",
        "outputId": "f65541cc-26df-4e35-91bf-5fd0ca1659ef",
        "colab": {
          "base_uri": "https://localhost:8080/"
        }
      },
      "source": [
        "data.isnull().sum()"
      ],
      "execution_count": 7,
      "outputs": [
        {
          "output_type": "execute_result",
          "data": {
            "text/plain": [
              "age         0\n",
              "gender      0\n",
              "cp          0\n",
              "trestbps    0\n",
              "chol        0\n",
              "fbs         0\n",
              "restecg     0\n",
              "thalach     0\n",
              "exang       0\n",
              "oldpeak     0\n",
              "slope       0\n",
              "ca          0\n",
              "thal        0\n",
              "target      0\n",
              "dtype: int64"
            ]
          },
          "metadata": {
            "tags": []
          },
          "execution_count": 7
        }
      ]
    },
    {
      "cell_type": "code",
      "metadata": {
        "id": "WcXpU_9qzuBB",
        "outputId": "0cfc1431-2d56-4c77-bee5-e297ae994f20",
        "colab": {
          "base_uri": "https://localhost:8080/",
          "height": 308
        }
      },
      "source": [
        "data.describe()"
      ],
      "execution_count": 8,
      "outputs": [
        {
          "output_type": "execute_result",
          "data": {
            "text/html": [
              "<div>\n",
              "<style scoped>\n",
              "    .dataframe tbody tr th:only-of-type {\n",
              "        vertical-align: middle;\n",
              "    }\n",
              "\n",
              "    .dataframe tbody tr th {\n",
              "        vertical-align: top;\n",
              "    }\n",
              "\n",
              "    .dataframe thead th {\n",
              "        text-align: right;\n",
              "    }\n",
              "</style>\n",
              "<table border=\"1\" class=\"dataframe\">\n",
              "  <thead>\n",
              "    <tr style=\"text-align: right;\">\n",
              "      <th></th>\n",
              "      <th>age</th>\n",
              "      <th>gender</th>\n",
              "      <th>cp</th>\n",
              "      <th>trestbps</th>\n",
              "      <th>chol</th>\n",
              "      <th>fbs</th>\n",
              "      <th>restecg</th>\n",
              "      <th>thalach</th>\n",
              "      <th>exang</th>\n",
              "      <th>oldpeak</th>\n",
              "      <th>slope</th>\n",
              "      <th>ca</th>\n",
              "      <th>thal</th>\n",
              "      <th>target</th>\n",
              "    </tr>\n",
              "  </thead>\n",
              "  <tbody>\n",
              "    <tr>\n",
              "      <th>count</th>\n",
              "      <td>303.000000</td>\n",
              "      <td>303.000000</td>\n",
              "      <td>303.000000</td>\n",
              "      <td>303.000000</td>\n",
              "      <td>303.000000</td>\n",
              "      <td>303.000000</td>\n",
              "      <td>303.000000</td>\n",
              "      <td>303.000000</td>\n",
              "      <td>303.000000</td>\n",
              "      <td>303.000000</td>\n",
              "      <td>303.000000</td>\n",
              "      <td>303.000000</td>\n",
              "      <td>303.000000</td>\n",
              "      <td>303.000000</td>\n",
              "    </tr>\n",
              "    <tr>\n",
              "      <th>mean</th>\n",
              "      <td>54.366337</td>\n",
              "      <td>0.683168</td>\n",
              "      <td>0.966997</td>\n",
              "      <td>131.623762</td>\n",
              "      <td>246.264026</td>\n",
              "      <td>0.148515</td>\n",
              "      <td>0.528053</td>\n",
              "      <td>149.646865</td>\n",
              "      <td>0.326733</td>\n",
              "      <td>1.039604</td>\n",
              "      <td>1.399340</td>\n",
              "      <td>0.729373</td>\n",
              "      <td>2.313531</td>\n",
              "      <td>0.544554</td>\n",
              "    </tr>\n",
              "    <tr>\n",
              "      <th>std</th>\n",
              "      <td>9.082101</td>\n",
              "      <td>0.466011</td>\n",
              "      <td>1.032052</td>\n",
              "      <td>17.538143</td>\n",
              "      <td>51.830751</td>\n",
              "      <td>0.356198</td>\n",
              "      <td>0.525860</td>\n",
              "      <td>22.905161</td>\n",
              "      <td>0.469794</td>\n",
              "      <td>1.161075</td>\n",
              "      <td>0.616226</td>\n",
              "      <td>1.022606</td>\n",
              "      <td>0.612277</td>\n",
              "      <td>0.498835</td>\n",
              "    </tr>\n",
              "    <tr>\n",
              "      <th>min</th>\n",
              "      <td>29.000000</td>\n",
              "      <td>0.000000</td>\n",
              "      <td>0.000000</td>\n",
              "      <td>94.000000</td>\n",
              "      <td>126.000000</td>\n",
              "      <td>0.000000</td>\n",
              "      <td>0.000000</td>\n",
              "      <td>71.000000</td>\n",
              "      <td>0.000000</td>\n",
              "      <td>0.000000</td>\n",
              "      <td>0.000000</td>\n",
              "      <td>0.000000</td>\n",
              "      <td>0.000000</td>\n",
              "      <td>0.000000</td>\n",
              "    </tr>\n",
              "    <tr>\n",
              "      <th>25%</th>\n",
              "      <td>47.500000</td>\n",
              "      <td>0.000000</td>\n",
              "      <td>0.000000</td>\n",
              "      <td>120.000000</td>\n",
              "      <td>211.000000</td>\n",
              "      <td>0.000000</td>\n",
              "      <td>0.000000</td>\n",
              "      <td>133.500000</td>\n",
              "      <td>0.000000</td>\n",
              "      <td>0.000000</td>\n",
              "      <td>1.000000</td>\n",
              "      <td>0.000000</td>\n",
              "      <td>2.000000</td>\n",
              "      <td>0.000000</td>\n",
              "    </tr>\n",
              "    <tr>\n",
              "      <th>50%</th>\n",
              "      <td>55.000000</td>\n",
              "      <td>1.000000</td>\n",
              "      <td>1.000000</td>\n",
              "      <td>130.000000</td>\n",
              "      <td>240.000000</td>\n",
              "      <td>0.000000</td>\n",
              "      <td>1.000000</td>\n",
              "      <td>153.000000</td>\n",
              "      <td>0.000000</td>\n",
              "      <td>0.800000</td>\n",
              "      <td>1.000000</td>\n",
              "      <td>0.000000</td>\n",
              "      <td>2.000000</td>\n",
              "      <td>1.000000</td>\n",
              "    </tr>\n",
              "    <tr>\n",
              "      <th>75%</th>\n",
              "      <td>61.000000</td>\n",
              "      <td>1.000000</td>\n",
              "      <td>2.000000</td>\n",
              "      <td>140.000000</td>\n",
              "      <td>274.500000</td>\n",
              "      <td>0.000000</td>\n",
              "      <td>1.000000</td>\n",
              "      <td>166.000000</td>\n",
              "      <td>1.000000</td>\n",
              "      <td>1.600000</td>\n",
              "      <td>2.000000</td>\n",
              "      <td>1.000000</td>\n",
              "      <td>3.000000</td>\n",
              "      <td>1.000000</td>\n",
              "    </tr>\n",
              "    <tr>\n",
              "      <th>max</th>\n",
              "      <td>77.000000</td>\n",
              "      <td>1.000000</td>\n",
              "      <td>3.000000</td>\n",
              "      <td>200.000000</td>\n",
              "      <td>564.000000</td>\n",
              "      <td>1.000000</td>\n",
              "      <td>2.000000</td>\n",
              "      <td>202.000000</td>\n",
              "      <td>1.000000</td>\n",
              "      <td>6.200000</td>\n",
              "      <td>2.000000</td>\n",
              "      <td>4.000000</td>\n",
              "      <td>3.000000</td>\n",
              "      <td>1.000000</td>\n",
              "    </tr>\n",
              "  </tbody>\n",
              "</table>\n",
              "</div>"
            ],
            "text/plain": [
              "              age      gender          cp  ...          ca        thal      target\n",
              "count  303.000000  303.000000  303.000000  ...  303.000000  303.000000  303.000000\n",
              "mean    54.366337    0.683168    0.966997  ...    0.729373    2.313531    0.544554\n",
              "std      9.082101    0.466011    1.032052  ...    1.022606    0.612277    0.498835\n",
              "min     29.000000    0.000000    0.000000  ...    0.000000    0.000000    0.000000\n",
              "25%     47.500000    0.000000    0.000000  ...    0.000000    2.000000    0.000000\n",
              "50%     55.000000    1.000000    1.000000  ...    0.000000    2.000000    1.000000\n",
              "75%     61.000000    1.000000    2.000000  ...    1.000000    3.000000    1.000000\n",
              "max     77.000000    1.000000    3.000000  ...    4.000000    3.000000    1.000000\n",
              "\n",
              "[8 rows x 14 columns]"
            ]
          },
          "metadata": {
            "tags": []
          },
          "execution_count": 8
        }
      ]
    },
    {
      "cell_type": "code",
      "metadata": {
        "id": "bRi0o3bBzuBE",
        "outputId": "3c62f399-5cb3-4bc8-fca9-2ca1eb9f516f",
        "colab": {
          "base_uri": "https://localhost:8080/",
          "height": 489
        }
      },
      "source": [
        "data.corr()"
      ],
      "execution_count": 9,
      "outputs": [
        {
          "output_type": "execute_result",
          "data": {
            "text/html": [
              "<div>\n",
              "<style scoped>\n",
              "    .dataframe tbody tr th:only-of-type {\n",
              "        vertical-align: middle;\n",
              "    }\n",
              "\n",
              "    .dataframe tbody tr th {\n",
              "        vertical-align: top;\n",
              "    }\n",
              "\n",
              "    .dataframe thead th {\n",
              "        text-align: right;\n",
              "    }\n",
              "</style>\n",
              "<table border=\"1\" class=\"dataframe\">\n",
              "  <thead>\n",
              "    <tr style=\"text-align: right;\">\n",
              "      <th></th>\n",
              "      <th>age</th>\n",
              "      <th>gender</th>\n",
              "      <th>cp</th>\n",
              "      <th>trestbps</th>\n",
              "      <th>chol</th>\n",
              "      <th>fbs</th>\n",
              "      <th>restecg</th>\n",
              "      <th>thalach</th>\n",
              "      <th>exang</th>\n",
              "      <th>oldpeak</th>\n",
              "      <th>slope</th>\n",
              "      <th>ca</th>\n",
              "      <th>thal</th>\n",
              "      <th>target</th>\n",
              "    </tr>\n",
              "  </thead>\n",
              "  <tbody>\n",
              "    <tr>\n",
              "      <th>age</th>\n",
              "      <td>1.000000</td>\n",
              "      <td>-0.098447</td>\n",
              "      <td>-0.068653</td>\n",
              "      <td>0.279351</td>\n",
              "      <td>0.213678</td>\n",
              "      <td>0.121308</td>\n",
              "      <td>-0.116211</td>\n",
              "      <td>-0.398522</td>\n",
              "      <td>0.096801</td>\n",
              "      <td>0.210013</td>\n",
              "      <td>-0.168814</td>\n",
              "      <td>0.276326</td>\n",
              "      <td>0.068001</td>\n",
              "      <td>-0.225439</td>\n",
              "    </tr>\n",
              "    <tr>\n",
              "      <th>gender</th>\n",
              "      <td>-0.098447</td>\n",
              "      <td>1.000000</td>\n",
              "      <td>-0.049353</td>\n",
              "      <td>-0.056769</td>\n",
              "      <td>-0.197912</td>\n",
              "      <td>0.045032</td>\n",
              "      <td>-0.058196</td>\n",
              "      <td>-0.044020</td>\n",
              "      <td>0.141664</td>\n",
              "      <td>0.096093</td>\n",
              "      <td>-0.030711</td>\n",
              "      <td>0.118261</td>\n",
              "      <td>0.210041</td>\n",
              "      <td>-0.280937</td>\n",
              "    </tr>\n",
              "    <tr>\n",
              "      <th>cp</th>\n",
              "      <td>-0.068653</td>\n",
              "      <td>-0.049353</td>\n",
              "      <td>1.000000</td>\n",
              "      <td>0.047608</td>\n",
              "      <td>-0.076904</td>\n",
              "      <td>0.094444</td>\n",
              "      <td>0.044421</td>\n",
              "      <td>0.295762</td>\n",
              "      <td>-0.394280</td>\n",
              "      <td>-0.149230</td>\n",
              "      <td>0.119717</td>\n",
              "      <td>-0.181053</td>\n",
              "      <td>-0.161736</td>\n",
              "      <td>0.433798</td>\n",
              "    </tr>\n",
              "    <tr>\n",
              "      <th>trestbps</th>\n",
              "      <td>0.279351</td>\n",
              "      <td>-0.056769</td>\n",
              "      <td>0.047608</td>\n",
              "      <td>1.000000</td>\n",
              "      <td>0.123174</td>\n",
              "      <td>0.177531</td>\n",
              "      <td>-0.114103</td>\n",
              "      <td>-0.046698</td>\n",
              "      <td>0.067616</td>\n",
              "      <td>0.193216</td>\n",
              "      <td>-0.121475</td>\n",
              "      <td>0.101389</td>\n",
              "      <td>0.062210</td>\n",
              "      <td>-0.144931</td>\n",
              "    </tr>\n",
              "    <tr>\n",
              "      <th>chol</th>\n",
              "      <td>0.213678</td>\n",
              "      <td>-0.197912</td>\n",
              "      <td>-0.076904</td>\n",
              "      <td>0.123174</td>\n",
              "      <td>1.000000</td>\n",
              "      <td>0.013294</td>\n",
              "      <td>-0.151040</td>\n",
              "      <td>-0.009940</td>\n",
              "      <td>0.067023</td>\n",
              "      <td>0.053952</td>\n",
              "      <td>-0.004038</td>\n",
              "      <td>0.070511</td>\n",
              "      <td>0.098803</td>\n",
              "      <td>-0.085239</td>\n",
              "    </tr>\n",
              "    <tr>\n",
              "      <th>fbs</th>\n",
              "      <td>0.121308</td>\n",
              "      <td>0.045032</td>\n",
              "      <td>0.094444</td>\n",
              "      <td>0.177531</td>\n",
              "      <td>0.013294</td>\n",
              "      <td>1.000000</td>\n",
              "      <td>-0.084189</td>\n",
              "      <td>-0.008567</td>\n",
              "      <td>0.025665</td>\n",
              "      <td>0.005747</td>\n",
              "      <td>-0.059894</td>\n",
              "      <td>0.137979</td>\n",
              "      <td>-0.032019</td>\n",
              "      <td>-0.028046</td>\n",
              "    </tr>\n",
              "    <tr>\n",
              "      <th>restecg</th>\n",
              "      <td>-0.116211</td>\n",
              "      <td>-0.058196</td>\n",
              "      <td>0.044421</td>\n",
              "      <td>-0.114103</td>\n",
              "      <td>-0.151040</td>\n",
              "      <td>-0.084189</td>\n",
              "      <td>1.000000</td>\n",
              "      <td>0.044123</td>\n",
              "      <td>-0.070733</td>\n",
              "      <td>-0.058770</td>\n",
              "      <td>0.093045</td>\n",
              "      <td>-0.072042</td>\n",
              "      <td>-0.011981</td>\n",
              "      <td>0.137230</td>\n",
              "    </tr>\n",
              "    <tr>\n",
              "      <th>thalach</th>\n",
              "      <td>-0.398522</td>\n",
              "      <td>-0.044020</td>\n",
              "      <td>0.295762</td>\n",
              "      <td>-0.046698</td>\n",
              "      <td>-0.009940</td>\n",
              "      <td>-0.008567</td>\n",
              "      <td>0.044123</td>\n",
              "      <td>1.000000</td>\n",
              "      <td>-0.378812</td>\n",
              "      <td>-0.344187</td>\n",
              "      <td>0.386784</td>\n",
              "      <td>-0.213177</td>\n",
              "      <td>-0.096439</td>\n",
              "      <td>0.421741</td>\n",
              "    </tr>\n",
              "    <tr>\n",
              "      <th>exang</th>\n",
              "      <td>0.096801</td>\n",
              "      <td>0.141664</td>\n",
              "      <td>-0.394280</td>\n",
              "      <td>0.067616</td>\n",
              "      <td>0.067023</td>\n",
              "      <td>0.025665</td>\n",
              "      <td>-0.070733</td>\n",
              "      <td>-0.378812</td>\n",
              "      <td>1.000000</td>\n",
              "      <td>0.288223</td>\n",
              "      <td>-0.257748</td>\n",
              "      <td>0.115739</td>\n",
              "      <td>0.206754</td>\n",
              "      <td>-0.436757</td>\n",
              "    </tr>\n",
              "    <tr>\n",
              "      <th>oldpeak</th>\n",
              "      <td>0.210013</td>\n",
              "      <td>0.096093</td>\n",
              "      <td>-0.149230</td>\n",
              "      <td>0.193216</td>\n",
              "      <td>0.053952</td>\n",
              "      <td>0.005747</td>\n",
              "      <td>-0.058770</td>\n",
              "      <td>-0.344187</td>\n",
              "      <td>0.288223</td>\n",
              "      <td>1.000000</td>\n",
              "      <td>-0.577537</td>\n",
              "      <td>0.222682</td>\n",
              "      <td>0.210244</td>\n",
              "      <td>-0.430696</td>\n",
              "    </tr>\n",
              "    <tr>\n",
              "      <th>slope</th>\n",
              "      <td>-0.168814</td>\n",
              "      <td>-0.030711</td>\n",
              "      <td>0.119717</td>\n",
              "      <td>-0.121475</td>\n",
              "      <td>-0.004038</td>\n",
              "      <td>-0.059894</td>\n",
              "      <td>0.093045</td>\n",
              "      <td>0.386784</td>\n",
              "      <td>-0.257748</td>\n",
              "      <td>-0.577537</td>\n",
              "      <td>1.000000</td>\n",
              "      <td>-0.080155</td>\n",
              "      <td>-0.104764</td>\n",
              "      <td>0.345877</td>\n",
              "    </tr>\n",
              "    <tr>\n",
              "      <th>ca</th>\n",
              "      <td>0.276326</td>\n",
              "      <td>0.118261</td>\n",
              "      <td>-0.181053</td>\n",
              "      <td>0.101389</td>\n",
              "      <td>0.070511</td>\n",
              "      <td>0.137979</td>\n",
              "      <td>-0.072042</td>\n",
              "      <td>-0.213177</td>\n",
              "      <td>0.115739</td>\n",
              "      <td>0.222682</td>\n",
              "      <td>-0.080155</td>\n",
              "      <td>1.000000</td>\n",
              "      <td>0.151832</td>\n",
              "      <td>-0.391724</td>\n",
              "    </tr>\n",
              "    <tr>\n",
              "      <th>thal</th>\n",
              "      <td>0.068001</td>\n",
              "      <td>0.210041</td>\n",
              "      <td>-0.161736</td>\n",
              "      <td>0.062210</td>\n",
              "      <td>0.098803</td>\n",
              "      <td>-0.032019</td>\n",
              "      <td>-0.011981</td>\n",
              "      <td>-0.096439</td>\n",
              "      <td>0.206754</td>\n",
              "      <td>0.210244</td>\n",
              "      <td>-0.104764</td>\n",
              "      <td>0.151832</td>\n",
              "      <td>1.000000</td>\n",
              "      <td>-0.344029</td>\n",
              "    </tr>\n",
              "    <tr>\n",
              "      <th>target</th>\n",
              "      <td>-0.225439</td>\n",
              "      <td>-0.280937</td>\n",
              "      <td>0.433798</td>\n",
              "      <td>-0.144931</td>\n",
              "      <td>-0.085239</td>\n",
              "      <td>-0.028046</td>\n",
              "      <td>0.137230</td>\n",
              "      <td>0.421741</td>\n",
              "      <td>-0.436757</td>\n",
              "      <td>-0.430696</td>\n",
              "      <td>0.345877</td>\n",
              "      <td>-0.391724</td>\n",
              "      <td>-0.344029</td>\n",
              "      <td>1.000000</td>\n",
              "    </tr>\n",
              "  </tbody>\n",
              "</table>\n",
              "</div>"
            ],
            "text/plain": [
              "               age    gender        cp  ...        ca      thal    target\n",
              "age       1.000000 -0.098447 -0.068653  ...  0.276326  0.068001 -0.225439\n",
              "gender   -0.098447  1.000000 -0.049353  ...  0.118261  0.210041 -0.280937\n",
              "cp       -0.068653 -0.049353  1.000000  ... -0.181053 -0.161736  0.433798\n",
              "trestbps  0.279351 -0.056769  0.047608  ...  0.101389  0.062210 -0.144931\n",
              "chol      0.213678 -0.197912 -0.076904  ...  0.070511  0.098803 -0.085239\n",
              "fbs       0.121308  0.045032  0.094444  ...  0.137979 -0.032019 -0.028046\n",
              "restecg  -0.116211 -0.058196  0.044421  ... -0.072042 -0.011981  0.137230\n",
              "thalach  -0.398522 -0.044020  0.295762  ... -0.213177 -0.096439  0.421741\n",
              "exang     0.096801  0.141664 -0.394280  ...  0.115739  0.206754 -0.436757\n",
              "oldpeak   0.210013  0.096093 -0.149230  ...  0.222682  0.210244 -0.430696\n",
              "slope    -0.168814 -0.030711  0.119717  ... -0.080155 -0.104764  0.345877\n",
              "ca        0.276326  0.118261 -0.181053  ...  1.000000  0.151832 -0.391724\n",
              "thal      0.068001  0.210041 -0.161736  ...  0.151832  1.000000 -0.344029\n",
              "target   -0.225439 -0.280937  0.433798  ... -0.391724 -0.344029  1.000000\n",
              "\n",
              "[14 rows x 14 columns]"
            ]
          },
          "metadata": {
            "tags": []
          },
          "execution_count": 9
        }
      ]
    },
    {
      "cell_type": "code",
      "metadata": {
        "id": "6bX1PFyzzuBH",
        "outputId": "9f396d10-4c86-4d8d-dfbd-508663a866df",
        "colab": {
          "base_uri": "https://localhost:8080/",
          "height": 317
        }
      },
      "source": [
        "sns.heatmap(data)"
      ],
      "execution_count": 10,
      "outputs": [
        {
          "output_type": "execute_result",
          "data": {
            "text/plain": [
              "<matplotlib.axes._subplots.AxesSubplot at 0x7f0323dcff98>"
            ]
          },
          "metadata": {
            "tags": []
          },
          "execution_count": 10
        },
        {
          "output_type": "display_data",
          "data": {
            "image/png": "[encoded data removed]",
            "text/plain": [
              "<Figure size 432x288 with 2 Axes>"
            ]
          },
          "metadata": {
            "tags": [],
            "needs_background": "light"
          }
        }
      ]
    },
    {
      "cell_type": "code",
      "metadata": {
        "id": "0HyR7ozRzuBK",
        "outputId": "b2b2a138-b905-4b5b-f178-b371d8decfcd",
        "colab": {
          "base_uri": "https://localhost:8080/",
          "height": 489
        }
      },
      "source": [
        "data.cov()"
      ],
      "execution_count": 11,
      "outputs": [
        {
          "output_type": "execute_result",
          "data": {
            "text/html": [
              "<div>\n",
              "<style scoped>\n",
              "    .dataframe tbody tr th:only-of-type {\n",
              "        vertical-align: middle;\n",
              "    }\n",
              "\n",
              "    .dataframe tbody tr th {\n",
              "        vertical-align: top;\n",
              "    }\n",
              "\n",
              "    .dataframe thead th {\n",
              "        text-align: right;\n",
              "    }\n",
              "</style>\n",
              "<table border=\"1\" class=\"dataframe\">\n",
              "  <thead>\n",
              "    <tr style=\"text-align: right;\">\n",
              "      <th></th>\n",
              "      <th>age</th>\n",
              "      <th>gender</th>\n",
              "      <th>cp</th>\n",
              "      <th>trestbps</th>\n",
              "      <th>chol</th>\n",
              "      <th>fbs</th>\n",
              "      <th>restecg</th>\n",
              "      <th>thalach</th>\n",
              "      <th>exang</th>\n",
              "      <th>oldpeak</th>\n",
              "      <th>slope</th>\n",
              "      <th>ca</th>\n",
              "      <th>thal</th>\n",
              "      <th>target</th>\n",
              "    </tr>\n",
              "  </thead>\n",
              "  <tbody>\n",
              "    <tr>\n",
              "      <th>age</th>\n",
              "      <td>82.484558</td>\n",
              "      <td>-0.416661</td>\n",
              "      <td>-0.643499</td>\n",
              "      <td>44.495902</td>\n",
              "      <td>100.585076</td>\n",
              "      <td>0.392433</td>\n",
              "      <td>-0.555013</td>\n",
              "      <td>-82.903318</td>\n",
              "      <td>0.413022</td>\n",
              "      <td>2.214583</td>\n",
              "      <td>-0.944791</td>\n",
              "      <td>2.566356</td>\n",
              "      <td>0.378139</td>\n",
              "      <td>-1.021343</td>\n",
              "    </tr>\n",
              "    <tr>\n",
              "      <th>gender</th>\n",
              "      <td>-0.416661</td>\n",
              "      <td>0.217166</td>\n",
              "      <td>-0.023736</td>\n",
              "      <td>-0.463970</td>\n",
              "      <td>-4.780309</td>\n",
              "      <td>0.007475</td>\n",
              "      <td>-0.014261</td>\n",
              "      <td>-0.469871</td>\n",
              "      <td>0.031014</td>\n",
              "      <td>0.051993</td>\n",
              "      <td>-0.008819</td>\n",
              "      <td>0.056357</td>\n",
              "      <td>0.059930</td>\n",
              "      <td>-0.065307</td>\n",
              "    </tr>\n",
              "    <tr>\n",
              "      <th>cp</th>\n",
              "      <td>-0.643499</td>\n",
              "      <td>-0.023736</td>\n",
              "      <td>1.065132</td>\n",
              "      <td>0.861714</td>\n",
              "      <td>-4.113774</td>\n",
              "      <td>0.034719</td>\n",
              "      <td>0.024108</td>\n",
              "      <td>6.991618</td>\n",
              "      <td>-0.191168</td>\n",
              "      <td>-0.178821</td>\n",
              "      <td>0.076137</td>\n",
              "      <td>-0.191080</td>\n",
              "      <td>-0.102201</td>\n",
              "      <td>0.223330</td>\n",
              "    </tr>\n",
              "    <tr>\n",
              "      <th>trestbps</th>\n",
              "      <td>44.495902</td>\n",
              "      <td>-0.463970</td>\n",
              "      <td>0.861714</td>\n",
              "      <td>307.586453</td>\n",
              "      <td>111.967215</td>\n",
              "      <td>1.109042</td>\n",
              "      <td>-1.052324</td>\n",
              "      <td>-18.759131</td>\n",
              "      <td>0.557111</td>\n",
              "      <td>3.934486</td>\n",
              "      <td>-1.312832</td>\n",
              "      <td>1.818373</td>\n",
              "      <td>0.668022</td>\n",
              "      <td>-1.267950</td>\n",
              "    </tr>\n",
              "    <tr>\n",
              "      <th>chol</th>\n",
              "      <td>100.585076</td>\n",
              "      <td>-4.780309</td>\n",
              "      <td>-4.113774</td>\n",
              "      <td>111.967215</td>\n",
              "      <td>2686.426748</td>\n",
              "      <td>0.245427</td>\n",
              "      <td>-4.116703</td>\n",
              "      <td>-11.800494</td>\n",
              "      <td>1.631991</td>\n",
              "      <td>3.246794</td>\n",
              "      <td>-0.128964</td>\n",
              "      <td>3.737252</td>\n",
              "      <td>3.135488</td>\n",
              "      <td>-2.203855</td>\n",
              "    </tr>\n",
              "    <tr>\n",
              "      <th>fbs</th>\n",
              "      <td>0.392433</td>\n",
              "      <td>0.007475</td>\n",
              "      <td>0.034719</td>\n",
              "      <td>1.109042</td>\n",
              "      <td>0.245427</td>\n",
              "      <td>0.126877</td>\n",
              "      <td>-0.015769</td>\n",
              "      <td>-0.069897</td>\n",
              "      <td>0.004295</td>\n",
              "      <td>0.002377</td>\n",
              "      <td>-0.013147</td>\n",
              "      <td>0.050259</td>\n",
              "      <td>-0.006983</td>\n",
              "      <td>-0.004983</td>\n",
              "    </tr>\n",
              "    <tr>\n",
              "      <th>restecg</th>\n",
              "      <td>-0.555013</td>\n",
              "      <td>-0.014261</td>\n",
              "      <td>0.024108</td>\n",
              "      <td>-1.052324</td>\n",
              "      <td>-4.116703</td>\n",
              "      <td>-0.015769</td>\n",
              "      <td>0.276528</td>\n",
              "      <td>0.531462</td>\n",
              "      <td>-0.017474</td>\n",
              "      <td>-0.035883</td>\n",
              "      <td>0.030151</td>\n",
              "      <td>-0.038741</td>\n",
              "      <td>-0.003858</td>\n",
              "      <td>0.035998</td>\n",
              "    </tr>\n",
              "    <tr>\n",
              "      <th>thalach</th>\n",
              "      <td>-82.903318</td>\n",
              "      <td>-0.469871</td>\n",
              "      <td>6.991618</td>\n",
              "      <td>-18.759131</td>\n",
              "      <td>-11.800494</td>\n",
              "      <td>-0.069897</td>\n",
              "      <td>0.531462</td>\n",
              "      <td>524.646406</td>\n",
              "      <td>-4.076290</td>\n",
              "      <td>-9.153518</td>\n",
              "      <td>5.459369</td>\n",
              "      <td>-4.993235</td>\n",
              "      <td>-1.352491</td>\n",
              "      <td>4.818766</td>\n",
              "    </tr>\n",
              "    <tr>\n",
              "      <th>exang</th>\n",
              "      <td>0.413022</td>\n",
              "      <td>0.031014</td>\n",
              "      <td>-0.191168</td>\n",
              "      <td>0.557111</td>\n",
              "      <td>1.631991</td>\n",
              "      <td>0.004295</td>\n",
              "      <td>-0.017474</td>\n",
              "      <td>-4.076290</td>\n",
              "      <td>0.220707</td>\n",
              "      <td>0.157216</td>\n",
              "      <td>-0.074618</td>\n",
              "      <td>0.055603</td>\n",
              "      <td>0.059472</td>\n",
              "      <td>-0.102354</td>\n",
              "    </tr>\n",
              "    <tr>\n",
              "      <th>oldpeak</th>\n",
              "      <td>2.214583</td>\n",
              "      <td>0.051993</td>\n",
              "      <td>-0.178821</td>\n",
              "      <td>3.934486</td>\n",
              "      <td>3.246794</td>\n",
              "      <td>0.002377</td>\n",
              "      <td>-0.035883</td>\n",
              "      <td>-9.153518</td>\n",
              "      <td>0.157216</td>\n",
              "      <td>1.348095</td>\n",
              "      <td>-0.413219</td>\n",
              "      <td>0.264396</td>\n",
              "      <td>0.149462</td>\n",
              "      <td>-0.249452</td>\n",
              "    </tr>\n",
              "    <tr>\n",
              "      <th>slope</th>\n",
              "      <td>-0.944791</td>\n",
              "      <td>-0.008819</td>\n",
              "      <td>0.076137</td>\n",
              "      <td>-1.312832</td>\n",
              "      <td>-0.128964</td>\n",
              "      <td>-0.013147</td>\n",
              "      <td>0.030151</td>\n",
              "      <td>5.459369</td>\n",
              "      <td>-0.074618</td>\n",
              "      <td>-0.413219</td>\n",
              "      <td>0.379735</td>\n",
              "      <td>-0.050510</td>\n",
              "      <td>-0.039527</td>\n",
              "      <td>0.106321</td>\n",
              "    </tr>\n",
              "    <tr>\n",
              "      <th>ca</th>\n",
              "      <td>2.566356</td>\n",
              "      <td>0.056357</td>\n",
              "      <td>-0.191080</td>\n",
              "      <td>1.818373</td>\n",
              "      <td>3.737252</td>\n",
              "      <td>0.050259</td>\n",
              "      <td>-0.038741</td>\n",
              "      <td>-4.993235</td>\n",
              "      <td>0.055603</td>\n",
              "      <td>0.264396</td>\n",
              "      <td>-0.050510</td>\n",
              "      <td>1.045724</td>\n",
              "      <td>0.095065</td>\n",
              "      <td>-0.199823</td>\n",
              "    </tr>\n",
              "    <tr>\n",
              "      <th>thal</th>\n",
              "      <td>0.378139</td>\n",
              "      <td>0.059930</td>\n",
              "      <td>-0.102201</td>\n",
              "      <td>0.668022</td>\n",
              "      <td>3.135488</td>\n",
              "      <td>-0.006983</td>\n",
              "      <td>-0.003858</td>\n",
              "      <td>-1.352491</td>\n",
              "      <td>0.059472</td>\n",
              "      <td>0.149462</td>\n",
              "      <td>-0.039527</td>\n",
              "      <td>0.095065</td>\n",
              "      <td>0.374883</td>\n",
              "      <td>-0.105075</td>\n",
              "    </tr>\n",
              "    <tr>\n",
              "      <th>target</th>\n",
              "      <td>-1.021343</td>\n",
              "      <td>-0.065307</td>\n",
              "      <td>0.223330</td>\n",
              "      <td>-1.267950</td>\n",
              "      <td>-2.203855</td>\n",
              "      <td>-0.004983</td>\n",
              "      <td>0.035998</td>\n",
              "      <td>4.818766</td>\n",
              "      <td>-0.102354</td>\n",
              "      <td>-0.249452</td>\n",
              "      <td>0.106321</td>\n",
              "      <td>-0.199823</td>\n",
              "      <td>-0.105075</td>\n",
              "      <td>0.248836</td>\n",
              "    </tr>\n",
              "  </tbody>\n",
              "</table>\n",
              "</div>"
            ],
            "text/plain": [
              "                 age    gender        cp  ...        ca      thal    target\n",
              "age        82.484558 -0.416661 -0.643499  ...  2.566356  0.378139 -1.021343\n",
              "gender     -0.416661  0.217166 -0.023736  ...  0.056357  0.059930 -0.065307\n",
              "cp         -0.643499 -0.023736  1.065132  ... -0.191080 -0.102201  0.223330\n",
              "trestbps   44.495902 -0.463970  0.861714  ...  1.818373  0.668022 -1.267950\n",
              "chol      100.585076 -4.780309 -4.113774  ...  3.737252  3.135488 -2.203855\n",
              "fbs         0.392433  0.007475  0.034719  ...  0.050259 -0.006983 -0.004983\n",
              "restecg    -0.555013 -0.014261  0.024108  ... -0.038741 -0.003858  0.035998\n",
              "thalach   -82.903318 -0.469871  6.991618  ... -4.993235 -1.352491  4.818766\n",
              "exang       0.413022  0.031014 -0.191168  ...  0.055603  0.059472 -0.102354\n",
              "oldpeak     2.214583  0.051993 -0.178821  ...  0.264396  0.149462 -0.249452\n",
              "slope      -0.944791 -0.008819  0.076137  ... -0.050510 -0.039527  0.106321\n",
              "ca          2.566356  0.056357 -0.191080  ...  1.045724  0.095065 -0.199823\n",
              "thal        0.378139  0.059930 -0.102201  ...  0.095065  0.374883 -0.105075\n",
              "target     -1.021343 -0.065307  0.223330  ... -0.199823 -0.105075  0.248836\n",
              "\n",
              "[14 rows x 14 columns]"
            ]
          },
          "metadata": {
            "tags": []
          },
          "execution_count": 11
        }
      ]
    },
    {
      "cell_type": "code",
      "metadata": {
        "id": "5cIIN-ijzuBN",
        "outputId": "75f407b6-b3d7-4c8b-aee3-e8aad8d2a9ce",
        "colab": {
          "base_uri": "https://localhost:8080/",
          "height": 1000
        }
      },
      "source": [
        "for i in range(13):\n",
        "    sns.distplot(data.iloc[i])\n",
        "    print(data.columns[i])\n",
        "    plt.show()"
      ],
      "execution_count": 12,
      "outputs": [
        {
          "output_type": "stream",
          "text": [
            "age\n"
          ],
          "name": "stdout"
        },
        {
          "output_type": "stream",
          "text": [
            "/usr/local/lib/python3.6/dist-packages/seaborn/distributions.py:2551: FutureWarning: `distplot` is a deprecated function and will be removed in a future version. Please adapt your code to use either `displot` (a figure-level function with similar flexibility) or `histplot` (an axes-level function for histograms).\n",
            "  warnings.warn(msg, FutureWarning)\n"
          ],
          "name": "stderr"
        },
        {
          "output_type": "display_data",
          "data": {
            "image/png": "[encoded data removed]",
            "text/plain": [
              "<Figure size 432x288 with 1 Axes>"
            ]
          },
          "metadata": {
            "tags": [],
            "needs_background": "light"
          }
        },
        {
          "output_type": "stream",
          "text": [
            "/usr/local/lib/python3.6/dist-packages/seaborn/distributions.py:2551: FutureWarning: `distplot` is a deprecated function and will be removed in a future version. Please adapt your code to use either `displot` (a figure-level function with similar flexibility) or `histplot` (an axes-level function for histograms).\n",
            "  warnings.warn(msg, FutureWarning)\n"
          ],
          "name": "stderr"
        },
        {
          "output_type": "stream",
          "text": [
            "gender\n"
          ],
          "name": "stdout"
        },
        {
          "output_type": "display_data",
          "data": {
            "image/png": "[encoded data removed]",
            "text/plain": [
              "<Figure size 432x288 with 1 Axes>"
            ]
          },
          "metadata": {
            "tags": [],
            "needs_background": "light"
          }
        },
        {
          "output_type": "stream",
          "text": [
            "cp\n"
          ],
          "name": "stdout"
        },
        {
          "output_type": "stream",
          "text": [
            "/usr/local/lib/python3.6/dist-packages/seaborn/distributions.py:2551: FutureWarning: `distplot` is a deprecated function and will be removed in a future version. Please adapt your code to use either `displot` (a figure-level function with similar flexibility) or `histplot` (an axes-level function for histograms).\n",
            "  warnings.warn(msg, FutureWarning)\n"
          ],
          "name": "stderr"
        },
        {
          "output_type": "display_data",
          "data": {
            "image/png": "[encoded data removed]",
            "text/plain": [
              "<Figure size 432x288 with 1 Axes>"
            ]
          },
          "metadata": {
            "tags": [],
            "needs_background": "light"
          }
        },
        {
          "output_type": "stream",
          "text": [
            "/usr/local/lib/python3.6/dist-packages/seaborn/distributions.py:2551: FutureWarning: `distplot` is a deprecated function and will be removed in a future version. Please adapt your code to use either `displot` (a figure-level function with similar flexibility) or `histplot` (an axes-level function for histograms).\n",
            "  warnings.warn(msg, FutureWarning)\n"
          ],
          "name": "stderr"
        },
        {
          "output_type": "stream",
          "text": [
            "trestbps\n"
          ],
          "name": "stdout"
        },
        {
          "output_type": "display_data",
          "data": {
            "image/png": "[encoded data removed]",
            "text/plain": [
              "<Figure size 432x288 with 1 Axes>"
            ]
          },
          "metadata": {
            "tags": [],
            "needs_background": "light"
          }
        },
        {
          "output_type": "stream",
          "text": [
            "/usr/local/lib/python3.6/dist-packages/seaborn/distributions.py:2551: FutureWarning: `distplot` is a deprecated function and will be removed in a future version. Please adapt your code to use either `displot` (a figure-level function with similar flexibility) or `histplot` (an axes-level function for histograms).\n",
            "  warnings.warn(msg, FutureWarning)\n"
          ],
          "name": "stderr"
        },
        {
          "output_type": "stream",
          "text": [
            "chol\n"
          ],
          "name": "stdout"
        },
        {
          "output_type": "display_data",
          "data": {
            "image/png": "[encoded data removed]",
            "text/plain": [
              "<Figure size 432x288 with 1 Axes>"
            ]
          },
          "metadata": {
            "tags": [],
            "needs_background": "light"
          }
        },
        {
          "output_type": "stream",
          "text": [
            "/usr/local/lib/python3.6/dist-packages/seaborn/distributions.py:2551: FutureWarning: `distplot` is a deprecated function and will be removed in a future version. Please adapt your code to use either `displot` (a figure-level function with similar flexibility) or `histplot` (an axes-level function for histograms).\n",
            "  warnings.warn(msg, FutureWarning)\n"
          ],
          "name": "stderr"
        },
        {
          "output_type": "stream",
          "text": [
            "fbs\n"
          ],
          "name": "stdout"
        },
        {
          "output_type": "display_data",
          "data": {
            "image/png": "[encoded data removed]",
            "text/plain": [
              "<Figure size 432x288 with 1 Axes>"
            ]
          },
          "metadata": {
            "tags": [],
            "needs_background": "light"
          }
        },
        {
          "output_type": "stream",
          "text": [
            "/usr/local/lib/python3.6/dist-packages/seaborn/distributions.py:2551: FutureWarning: `distplot` is a deprecated function and will be removed in a future version. Please adapt your code to use either `displot` (a figure-level function with similar flexibility) or `histplot` (an axes-level function for histograms).\n",
            "  warnings.warn(msg, FutureWarning)\n"
          ],
          "name": "stderr"
        },
        {
          "output_type": "stream",
          "text": [
            "restecg\n"
          ],
          "name": "stdout"
        },
        {
          "output_type": "display_data",
          "data": {
            "image/png": "[encoded data removed]",
            "text/plain": [
              "<Figure size 432x288 with 1 Axes>"
            ]
          },
          "metadata": {
            "tags": [],
            "needs_background": "light"
          }
        },
        {
          "output_type": "stream",
          "text": [
            "/usr/local/lib/python3.6/dist-packages/seaborn/distributions.py:2551: FutureWarning: `distplot` is a deprecated function and will be removed in a future version. Please adapt your code to use either `displot` (a figure-level function with similar flexibility) or `histplot` (an axes-level function for histograms).\n",
            "  warnings.warn(msg, FutureWarning)\n"
          ],
          "name": "stderr"
        },
        {
          "output_type": "stream",
          "text": [
            "thalach\n"
          ],
          "name": "stdout"
        },
        {
          "output_type": "display_data",
          "data": {
            "image/png": "[encoded data removed]",
            "text/plain": [
              "<Figure size 432x288 with 1 Axes>"
            ]
          },
          "metadata": {
            "tags": [],
            "needs_background": "light"
          }
        },
        {
          "output_type": "stream",
          "text": [
            "/usr/local/lib/python3.6/dist-packages/seaborn/distributions.py:2551: FutureWarning: `distplot` is a deprecated function and will be removed in a future version. Please adapt your code to use either `displot` (a figure-level function with similar flexibility) or `histplot` (an axes-level function for histograms).\n",
            "  warnings.warn(msg, FutureWarning)\n"
          ],
          "name": "stderr"
        },
        {
          "output_type": "stream",
          "text": [
            "exang\n"
          ],
          "name": "stdout"
        },
        {
          "output_type": "display_data",
          "data": {
            "image/png": "[encoded data removed]",
            "text/plain": [
              "<Figure size 432x288 with 1 Axes>"
            ]
          },
          "metadata": {
            "tags": [],
            "needs_background": "light"
          }
        },
        {
          "output_type": "stream",
          "text": [
            "/usr/local/lib/python3.6/dist-packages/seaborn/distributions.py:2551: FutureWarning: `distplot` is a deprecated function and will be removed in a future version. Please adapt your code to use either `displot` (a figure-level function with similar flexibility) or `histplot` (an axes-level function for histograms).\n",
            "  warnings.warn(msg, FutureWarning)\n"
          ],
          "name": "stderr"
        },
        {
          "output_type": "stream",
          "text": [
            "oldpeak\n"
          ],
          "name": "stdout"
        },
        {
          "output_type": "display_data",
          "data": {
            "image/png": "[encoded data removed]",
            "text/plain": [
              "<Figure size 432x288 with 1 Axes>"
            ]
          },
          "metadata": {
            "tags": [],
            "needs_background": "light"
          }
        },
        {
          "output_type": "stream",
          "text": [
            "/usr/local/lib/python3.6/dist-packages/seaborn/distributions.py:2551: FutureWarning: `distplot` is a deprecated function and will be removed in a future version. Please adapt your code to use either `displot` (a figure-level function with similar flexibility) or `histplot` (an axes-level function for histograms).\n",
            "  warnings.warn(msg, FutureWarning)\n"
          ],
          "name": "stderr"
        },
        {
          "output_type": "stream",
          "text": [
            "slope\n"
          ],
          "name": "stdout"
        },
        {
          "output_type": "display_data",
          "data": {
            "image/png": "[encoded data removed]",
            "text/plain": [
              "<Figure size 432x288 with 1 Axes>"
            ]
          },
          "metadata": {
            "tags": [],
            "needs_background": "light"
          }
        },
        {
          "output_type": "stream",
          "text": [
            "/usr/local/lib/python3.6/dist-packages/seaborn/distributions.py:2551: FutureWarning: `distplot` is a deprecated function and will be removed in a future version. Please adapt your code to use either `displot` (a figure-level function with similar flexibility) or `histplot` (an axes-level function for histograms).\n",
            "  warnings.warn(msg, FutureWarning)\n"
          ],
          "name": "stderr"
        },
        {
          "output_type": "stream",
          "text": [
            "ca\n"
          ],
          "name": "stdout"
        },
        {
          "output_type": "display_data",
          "data": {
            "image/png": "[encoded data removed]",
            "text/plain": [
              "<Figure size 432x288 with 1 Axes>"
            ]
          },
          "metadata": {
            "tags": [],
            "needs_background": "light"
          }
        },
        {
          "output_type": "stream",
          "text": [
            "/usr/local/lib/python3.6/dist-packages/seaborn/distributions.py:2551: FutureWarning: `distplot` is a deprecated function and will be removed in a future version. Please adapt your code to use either `displot` (a figure-level function with similar flexibility) or `histplot` (an axes-level function for histograms).\n",
            "  warnings.warn(msg, FutureWarning)\n"
          ],
          "name": "stderr"
        },
        {
          "output_type": "stream",
          "text": [
            "thal\n"
          ],
          "name": "stdout"
        },
        {
          "output_type": "display_data",
          "data": {
            "image/png": "[encoded data removed]",
            "text/plain": [
              "<Figure size 432x288 with 1 Axes>"
            ]
          },
          "metadata": {
            "tags": [],
            "needs_background": "light"
          }
        }
      ]
    },
    {
      "cell_type": "code",
      "metadata": {
        "id": "KQWFdTk_zuBY"
      },
      "source": [
        "mean_target = data['target'].mean()"
      ],
      "execution_count": 13,
      "outputs": []
    },
    {
      "cell_type": "code",
      "metadata": {
        "id": "RrhTPX9WzuBc",
        "outputId": "135c3fe9-2cb7-41c3-97b3-609746167ab9",
        "colab": {
          "base_uri": "https://localhost:8080/",
          "height": 1000
        }
      },
      "source": [
        "l = data.columns\n",
        "for i in l[:-1]:\n",
        "    #print(i)\n",
        "    plt.scatter(data[i],data['target'])\n",
        "    plt.xlabel(i)\n",
        "    plt.ylabel('target')\n",
        "    plt.axhline(mean_target,color='k')\n",
        "    plt.show()"
      ],
      "execution_count": 14,
      "outputs": [
        {
          "output_type": "display_data",
          "data": {
            "image/png": "[encoded data removed]",
            "text/plain": [
              "<Figure size 432x288 with 1 Axes>"
            ]
          },
          "metadata": {
            "tags": [],
            "needs_background": "light"
          }
        },
        {
          "output_type": "display_data",
          "data": {
            "image/png": "[encoded data removed]",
            "text/plain": [
              "<Figure size 432x288 with 1 Axes>"
            ]
          },
          "metadata": {
            "tags": [],
            "needs_background": "light"
          }
        },
        {
          "output_type": "display_data",
          "data": {
            "image/png": "[encoded data removed]",
            "text/plain": [
              "<Figure size 432x288 with 1 Axes>"
            ]
          },
          "metadata": {
            "tags": [],
            "needs_background": "light"
          }
        },
        {
          "output_type": "display_data",
          "data": {
            "image/png": "[encoded data removed]",
            "text/plain": [
              "<Figure size 432x288 with 1 Axes>"
            ]
          },
          "metadata": {
            "tags": [],
            "needs_background": "light"
          }
        },
        {
          "output_type": "display_data",
          "data": {
            "image/png": "[encoded data removed]",
            "text/plain": [
              "<Figure size 432x288 with 1 Axes>"
            ]
          },
          "metadata": {
            "tags": [],
            "needs_background": "light"
          }
        },
        {
          "output_type": "display_data",
          "data": {
            "image/png": "[encoded data removed]",
            "text/plain": [
              "<Figure size 432x288 with 1 Axes>"
            ]
          },
          "metadata": {
            "tags": [],
            "needs_background": "light"
          }
        },
        {
          "output_type": "display_data",
          "data": {
            "image/png": "[encoded data removed]",
            "text/plain": [
              "<Figure size 432x288 with 1 Axes>"
            ]
          },
          "metadata": {
            "tags": [],
            "needs_background": "light"
          }
        },
        {
          "output_type": "display_data",
          "data": {
            "image/png": "[encoded data removed]",
            "text/plain": [
              "<Figure size 432x288 with 1 Axes>"
            ]
          },
          "metadata": {
            "tags": [],
            "needs_background": "light"
          }
        },
        {
          "output_type": "display_data",
          "data": {
            "image/png": "[encoded data removed]",
            "text/plain": [
              "<Figure size 432x288 with 1 Axes>"
            ]
          },
          "metadata": {
            "tags": [],
            "needs_background": "light"
          }
        },
        {
          "output_type": "display_data",
          "data": {
            "image/png": "[encoded data removed]",
            "text/plain": [
              "<Figure size 432x288 with 1 Axes>"
            ]
          },
          "metadata": {
            "tags": [],
            "needs_background": "light"
          }
        },
        {
          "output_type": "display_data",
          "data": {
            "image/png": "[encoded data removed]",
            "text/plain": [
              "<Figure size 432x288 with 1 Axes>"
            ]
          },
          "metadata": {
            "tags": [],
            "needs_background": "light"
          }
        },
        {
          "output_type": "display_data",
          "data": {
            "image/png": "[encoded data removed]",
            "text/plain": [
              "<Figure size 432x288 with 1 Axes>"
            ]
          },
          "metadata": {
            "tags": [],
            "needs_background": "light"
          }
        },
        {
          "output_type": "display_data",
          "data": {
            "image/png": "[encoded data removed]",
            "text/plain": [
              "<Figure size 432x288 with 1 Axes>"
            ]
          },
          "metadata": {
            "tags": [],
            "needs_background": "light"
          }
        }
      ]
    },
    {
      "cell_type": "code",
      "metadata": {
        "id": "pH9m8AzAzuBf"
      },
      "source": [
        "x = data.iloc[:,0:13]\n",
        "y = data.iloc[:,13]"
      ],
      "execution_count": 15,
      "outputs": []
    },
    {
      "cell_type": "code",
      "metadata": {
        "id": "mFQQABcbzuBi",
        "outputId": "dab62fa1-284a-45e7-bd99-10cedb66220d",
        "colab": {
          "base_uri": "https://localhost:8080/"
        }
      },
      "source": [
        "from sklearn import preprocessing\n",
        "minmax=preprocessing.MinMaxScaler(feature_range=(0,1))\n",
        "minmax.fit(x).transform(x)"
      ],
      "execution_count": 16,
      "outputs": [
        {
          "output_type": "execute_result",
          "data": {
            "text/plain": [
              "array([[0.70833333, 1.        , 1.        , ..., 0.        , 0.        ,\n",
              "        0.33333333],\n",
              "       [0.16666667, 1.        , 0.66666667, ..., 0.        , 0.        ,\n",
              "        0.66666667],\n",
              "       [0.25      , 0.        , 0.33333333, ..., 1.        , 0.        ,\n",
              "        0.66666667],\n",
              "       ...,\n",
              "       [0.8125    , 1.        , 0.        , ..., 0.5       , 0.5       ,\n",
              "        1.        ],\n",
              "       [0.58333333, 1.        , 0.        , ..., 0.5       , 0.25      ,\n",
              "        1.        ],\n",
              "       [0.58333333, 0.        , 0.33333333, ..., 0.5       , 0.25      ,\n",
              "        0.66666667]])"
            ]
          },
          "metadata": {
            "tags": []
          },
          "execution_count": 16
        }
      ]
    },
    {
      "cell_type": "code",
      "metadata": {
        "id": "8oa0pdx1zuBl",
        "outputId": "0d9c704a-43ee-4eff-e250-7bc66e58a916",
        "colab": {
          "base_uri": "https://localhost:8080/",
          "height": 198
        }
      },
      "source": [
        "x.head()"
      ],
      "execution_count": 17,
      "outputs": [
        {
          "output_type": "execute_result",
          "data": {
            "text/html": [
              "<div>\n",
              "<style scoped>\n",
              "    .dataframe tbody tr th:only-of-type {\n",
              "        vertical-align: middle;\n",
              "    }\n",
              "\n",
              "    .dataframe tbody tr th {\n",
              "        vertical-align: top;\n",
              "    }\n",
              "\n",
              "    .dataframe thead th {\n",
              "        text-align: right;\n",
              "    }\n",
              "</style>\n",
              "<table border=\"1\" class=\"dataframe\">\n",
              "  <thead>\n",
              "    <tr style=\"text-align: right;\">\n",
              "      <th></th>\n",
              "      <th>age</th>\n",
              "      <th>gender</th>\n",
              "      <th>cp</th>\n",
              "      <th>trestbps</th>\n",
              "      <th>chol</th>\n",
              "      <th>fbs</th>\n",
              "      <th>restecg</th>\n",
              "      <th>thalach</th>\n",
              "      <th>exang</th>\n",
              "      <th>oldpeak</th>\n",
              "      <th>slope</th>\n",
              "      <th>ca</th>\n",
              "      <th>thal</th>\n",
              "    </tr>\n",
              "  </thead>\n",
              "  <tbody>\n",
              "    <tr>\n",
              "      <th>0</th>\n",
              "      <td>63</td>\n",
              "      <td>1</td>\n",
              "      <td>3</td>\n",
              "      <td>145</td>\n",
              "      <td>233</td>\n",
              "      <td>1</td>\n",
              "      <td>0</td>\n",
              "      <td>150</td>\n",
              "      <td>0</td>\n",
              "      <td>2.3</td>\n",
              "      <td>0</td>\n",
              "      <td>0</td>\n",
              "      <td>1</td>\n",
              "    </tr>\n",
              "    <tr>\n",
              "      <th>1</th>\n",
              "      <td>37</td>\n",
              "      <td>1</td>\n",
              "      <td>2</td>\n",
              "      <td>130</td>\n",
              "      <td>250</td>\n",
              "      <td>0</td>\n",
              "      <td>1</td>\n",
              "      <td>187</td>\n",
              "      <td>0</td>\n",
              "      <td>3.5</td>\n",
              "      <td>0</td>\n",
              "      <td>0</td>\n",
              "      <td>2</td>\n",
              "    </tr>\n",
              "    <tr>\n",
              "      <th>2</th>\n",
              "      <td>41</td>\n",
              "      <td>0</td>\n",
              "      <td>1</td>\n",
              "      <td>130</td>\n",
              "      <td>204</td>\n",
              "      <td>0</td>\n",
              "      <td>0</td>\n",
              "      <td>172</td>\n",
              "      <td>0</td>\n",
              "      <td>1.4</td>\n",
              "      <td>2</td>\n",
              "      <td>0</td>\n",
              "      <td>2</td>\n",
              "    </tr>\n",
              "    <tr>\n",
              "      <th>3</th>\n",
              "      <td>56</td>\n",
              "      <td>1</td>\n",
              "      <td>1</td>\n",
              "      <td>120</td>\n",
              "      <td>236</td>\n",
              "      <td>0</td>\n",
              "      <td>1</td>\n",
              "      <td>178</td>\n",
              "      <td>0</td>\n",
              "      <td>0.8</td>\n",
              "      <td>2</td>\n",
              "      <td>0</td>\n",
              "      <td>2</td>\n",
              "    </tr>\n",
              "    <tr>\n",
              "      <th>4</th>\n",
              "      <td>57</td>\n",
              "      <td>0</td>\n",
              "      <td>0</td>\n",
              "      <td>120</td>\n",
              "      <td>354</td>\n",
              "      <td>0</td>\n",
              "      <td>1</td>\n",
              "      <td>163</td>\n",
              "      <td>1</td>\n",
              "      <td>0.6</td>\n",
              "      <td>2</td>\n",
              "      <td>0</td>\n",
              "      <td>2</td>\n",
              "    </tr>\n",
              "  </tbody>\n",
              "</table>\n",
              "</div>"
            ],
            "text/plain": [
              "   age  gender  cp  trestbps  chol  ...  exang  oldpeak  slope  ca  thal\n",
              "0   63       1   3       145   233  ...      0      2.3      0   0     1\n",
              "1   37       1   2       130   250  ...      0      3.5      0   0     2\n",
              "2   41       0   1       130   204  ...      0      1.4      2   0     2\n",
              "3   56       1   1       120   236  ...      0      0.8      2   0     2\n",
              "4   57       0   0       120   354  ...      1      0.6      2   0     2\n",
              "\n",
              "[5 rows x 13 columns]"
            ]
          },
          "metadata": {
            "tags": []
          },
          "execution_count": 17
        }
      ]
    },
    {
      "cell_type": "code",
      "metadata": {
        "id": "3-MndndVzuBo",
        "outputId": "af2958d2-fba8-48f4-a549-2c872e7a7a96",
        "colab": {
          "base_uri": "https://localhost:8080/"
        }
      },
      "source": [
        "y.head()"
      ],
      "execution_count": 18,
      "outputs": [
        {
          "output_type": "execute_result",
          "data": {
            "text/plain": [
              "0    1\n",
              "1    1\n",
              "2    1\n",
              "3    1\n",
              "4    1\n",
              "Name: target, dtype: int64"
            ]
          },
          "metadata": {
            "tags": []
          },
          "execution_count": 18
        }
      ]
    },
    {
      "cell_type": "code",
      "metadata": {
        "id": "wgRiH3PSzuBr"
      },
      "source": [
        "from sklearn.model_selection import train_test_split\n",
        "x_train,x_test,y_train,y_test = train_test_split(x,y,test_size = 0.33)"
      ],
      "execution_count": 19,
      "outputs": []
    },
    {
      "cell_type": "code",
      "metadata": {
        "id": "Z9t_7Z3azuBu",
        "outputId": "d00876fb-9065-415a-ec65-18b5b3ce2b51",
        "colab": {
          "base_uri": "https://localhost:8080/",
          "height": 408
        }
      },
      "source": [
        "x_train"
      ],
      "execution_count": 20,
      "outputs": [
        {
          "output_type": "execute_result",
          "data": {
            "text/html": [
              "<div>\n",
              "<style scoped>\n",
              "    .dataframe tbody tr th:only-of-type {\n",
              "        vertical-align: middle;\n",
              "    }\n",
              "\n",
              "    .dataframe tbody tr th {\n",
              "        vertical-align: top;\n",
              "    }\n",
              "\n",
              "    .dataframe thead th {\n",
              "        text-align: right;\n",
              "    }\n",
              "</style>\n",
              "<table border=\"1\" class=\"dataframe\">\n",
              "  <thead>\n",
              "    <tr style=\"text-align: right;\">\n",
              "      <th></th>\n",
              "      <th>age</th>\n",
              "      <th>gender</th>\n",
              "      <th>cp</th>\n",
              "      <th>trestbps</th>\n",
              "      <th>chol</th>\n",
              "      <th>fbs</th>\n",
              "      <th>restecg</th>\n",
              "      <th>thalach</th>\n",
              "      <th>exang</th>\n",
              "      <th>oldpeak</th>\n",
              "      <th>slope</th>\n",
              "      <th>ca</th>\n",
              "      <th>thal</th>\n",
              "    </tr>\n",
              "  </thead>\n",
              "  <tbody>\n",
              "    <tr>\n",
              "      <th>99</th>\n",
              "      <td>53</td>\n",
              "      <td>1</td>\n",
              "      <td>2</td>\n",
              "      <td>130</td>\n",
              "      <td>246</td>\n",
              "      <td>1</td>\n",
              "      <td>0</td>\n",
              "      <td>173</td>\n",
              "      <td>0</td>\n",
              "      <td>0.0</td>\n",
              "      <td>2</td>\n",
              "      <td>3</td>\n",
              "      <td>2</td>\n",
              "    </tr>\n",
              "    <tr>\n",
              "      <th>293</th>\n",
              "      <td>67</td>\n",
              "      <td>1</td>\n",
              "      <td>2</td>\n",
              "      <td>152</td>\n",
              "      <td>212</td>\n",
              "      <td>0</td>\n",
              "      <td>0</td>\n",
              "      <td>150</td>\n",
              "      <td>0</td>\n",
              "      <td>0.8</td>\n",
              "      <td>1</td>\n",
              "      <td>0</td>\n",
              "      <td>3</td>\n",
              "    </tr>\n",
              "    <tr>\n",
              "      <th>3</th>\n",
              "      <td>56</td>\n",
              "      <td>1</td>\n",
              "      <td>1</td>\n",
              "      <td>120</td>\n",
              "      <td>236</td>\n",
              "      <td>0</td>\n",
              "      <td>1</td>\n",
              "      <td>178</td>\n",
              "      <td>0</td>\n",
              "      <td>0.8</td>\n",
              "      <td>2</td>\n",
              "      <td>0</td>\n",
              "      <td>2</td>\n",
              "    </tr>\n",
              "    <tr>\n",
              "      <th>228</th>\n",
              "      <td>59</td>\n",
              "      <td>1</td>\n",
              "      <td>3</td>\n",
              "      <td>170</td>\n",
              "      <td>288</td>\n",
              "      <td>0</td>\n",
              "      <td>0</td>\n",
              "      <td>159</td>\n",
              "      <td>0</td>\n",
              "      <td>0.2</td>\n",
              "      <td>1</td>\n",
              "      <td>0</td>\n",
              "      <td>3</td>\n",
              "    </tr>\n",
              "    <tr>\n",
              "      <th>282</th>\n",
              "      <td>59</td>\n",
              "      <td>1</td>\n",
              "      <td>2</td>\n",
              "      <td>126</td>\n",
              "      <td>218</td>\n",
              "      <td>1</td>\n",
              "      <td>1</td>\n",
              "      <td>134</td>\n",
              "      <td>0</td>\n",
              "      <td>2.2</td>\n",
              "      <td>1</td>\n",
              "      <td>1</td>\n",
              "      <td>1</td>\n",
              "    </tr>\n",
              "    <tr>\n",
              "      <th>...</th>\n",
              "      <td>...</td>\n",
              "      <td>...</td>\n",
              "      <td>...</td>\n",
              "      <td>...</td>\n",
              "      <td>...</td>\n",
              "      <td>...</td>\n",
              "      <td>...</td>\n",
              "      <td>...</td>\n",
              "      <td>...</td>\n",
              "      <td>...</td>\n",
              "      <td>...</td>\n",
              "      <td>...</td>\n",
              "      <td>...</td>\n",
              "    </tr>\n",
              "    <tr>\n",
              "      <th>127</th>\n",
              "      <td>67</td>\n",
              "      <td>0</td>\n",
              "      <td>2</td>\n",
              "      <td>152</td>\n",
              "      <td>277</td>\n",
              "      <td>0</td>\n",
              "      <td>1</td>\n",
              "      <td>172</td>\n",
              "      <td>0</td>\n",
              "      <td>0.0</td>\n",
              "      <td>2</td>\n",
              "      <td>1</td>\n",
              "      <td>2</td>\n",
              "    </tr>\n",
              "    <tr>\n",
              "      <th>83</th>\n",
              "      <td>52</td>\n",
              "      <td>1</td>\n",
              "      <td>3</td>\n",
              "      <td>152</td>\n",
              "      <td>298</td>\n",
              "      <td>1</td>\n",
              "      <td>1</td>\n",
              "      <td>178</td>\n",
              "      <td>0</td>\n",
              "      <td>1.2</td>\n",
              "      <td>1</td>\n",
              "      <td>0</td>\n",
              "      <td>3</td>\n",
              "    </tr>\n",
              "    <tr>\n",
              "      <th>8</th>\n",
              "      <td>52</td>\n",
              "      <td>1</td>\n",
              "      <td>2</td>\n",
              "      <td>172</td>\n",
              "      <td>199</td>\n",
              "      <td>1</td>\n",
              "      <td>1</td>\n",
              "      <td>162</td>\n",
              "      <td>0</td>\n",
              "      <td>0.5</td>\n",
              "      <td>2</td>\n",
              "      <td>0</td>\n",
              "      <td>3</td>\n",
              "    </tr>\n",
              "    <tr>\n",
              "      <th>302</th>\n",
              "      <td>57</td>\n",
              "      <td>0</td>\n",
              "      <td>1</td>\n",
              "      <td>130</td>\n",
              "      <td>236</td>\n",
              "      <td>0</td>\n",
              "      <td>0</td>\n",
              "      <td>174</td>\n",
              "      <td>0</td>\n",
              "      <td>0.0</td>\n",
              "      <td>1</td>\n",
              "      <td>1</td>\n",
              "      <td>2</td>\n",
              "    </tr>\n",
              "    <tr>\n",
              "      <th>51</th>\n",
              "      <td>66</td>\n",
              "      <td>1</td>\n",
              "      <td>0</td>\n",
              "      <td>120</td>\n",
              "      <td>302</td>\n",
              "      <td>0</td>\n",
              "      <td>0</td>\n",
              "      <td>151</td>\n",
              "      <td>0</td>\n",
              "      <td>0.4</td>\n",
              "      <td>1</td>\n",
              "      <td>0</td>\n",
              "      <td>2</td>\n",
              "    </tr>\n",
              "  </tbody>\n",
              "</table>\n",
              "<p>203 rows × 13 columns</p>\n",
              "</div>"
            ],
            "text/plain": [
              "     age  gender  cp  trestbps  chol  ...  exang  oldpeak  slope  ca  thal\n",
              "99    53       1   2       130   246  ...      0      0.0      2   3     2\n",
              "293   67       1   2       152   212  ...      0      0.8      1   0     3\n",
              "3     56       1   1       120   236  ...      0      0.8      2   0     2\n",
              "228   59       1   3       170   288  ...      0      0.2      1   0     3\n",
              "282   59       1   2       126   218  ...      0      2.2      1   1     1\n",
              "..   ...     ...  ..       ...   ...  ...    ...      ...    ...  ..   ...\n",
              "127   67       0   2       152   277  ...      0      0.0      2   1     2\n",
              "83    52       1   3       152   298  ...      0      1.2      1   0     3\n",
              "8     52       1   2       172   199  ...      0      0.5      2   0     3\n",
              "302   57       0   1       130   236  ...      0      0.0      1   1     2\n",
              "51    66       1   0       120   302  ...      0      0.4      1   0     2\n",
              "\n",
              "[203 rows x 13 columns]"
            ]
          },
          "metadata": {
            "tags": []
          },
          "execution_count": 20
        }
      ]
    },
    {
      "cell_type": "code",
      "metadata": {
        "id": "vi7_inJ0zuBx",
        "outputId": "6e697217-76ba-4c63-a36d-33f82a008dbc",
        "colab": {
          "base_uri": "https://localhost:8080/",
          "height": 408
        }
      },
      "source": [
        "x_test "
      ],
      "execution_count": 21,
      "outputs": [
        {
          "output_type": "execute_result",
          "data": {
            "text/html": [
              "<div>\n",
              "<style scoped>\n",
              "    .dataframe tbody tr th:only-of-type {\n",
              "        vertical-align: middle;\n",
              "    }\n",
              "\n",
              "    .dataframe tbody tr th {\n",
              "        vertical-align: top;\n",
              "    }\n",
              "\n",
              "    .dataframe thead th {\n",
              "        text-align: right;\n",
              "    }\n",
              "</style>\n",
              "<table border=\"1\" class=\"dataframe\">\n",
              "  <thead>\n",
              "    <tr style=\"text-align: right;\">\n",
              "      <th></th>\n",
              "      <th>age</th>\n",
              "      <th>gender</th>\n",
              "      <th>cp</th>\n",
              "      <th>trestbps</th>\n",
              "      <th>chol</th>\n",
              "      <th>fbs</th>\n",
              "      <th>restecg</th>\n",
              "      <th>thalach</th>\n",
              "      <th>exang</th>\n",
              "      <th>oldpeak</th>\n",
              "      <th>slope</th>\n",
              "      <th>ca</th>\n",
              "      <th>thal</th>\n",
              "    </tr>\n",
              "  </thead>\n",
              "  <tbody>\n",
              "    <tr>\n",
              "      <th>42</th>\n",
              "      <td>45</td>\n",
              "      <td>1</td>\n",
              "      <td>0</td>\n",
              "      <td>104</td>\n",
              "      <td>208</td>\n",
              "      <td>0</td>\n",
              "      <td>0</td>\n",
              "      <td>148</td>\n",
              "      <td>1</td>\n",
              "      <td>3.0</td>\n",
              "      <td>1</td>\n",
              "      <td>0</td>\n",
              "      <td>2</td>\n",
              "    </tr>\n",
              "    <tr>\n",
              "      <th>201</th>\n",
              "      <td>60</td>\n",
              "      <td>1</td>\n",
              "      <td>0</td>\n",
              "      <td>125</td>\n",
              "      <td>258</td>\n",
              "      <td>0</td>\n",
              "      <td>0</td>\n",
              "      <td>141</td>\n",
              "      <td>1</td>\n",
              "      <td>2.8</td>\n",
              "      <td>1</td>\n",
              "      <td>1</td>\n",
              "      <td>3</td>\n",
              "    </tr>\n",
              "    <tr>\n",
              "      <th>242</th>\n",
              "      <td>64</td>\n",
              "      <td>1</td>\n",
              "      <td>0</td>\n",
              "      <td>145</td>\n",
              "      <td>212</td>\n",
              "      <td>0</td>\n",
              "      <td>0</td>\n",
              "      <td>132</td>\n",
              "      <td>0</td>\n",
              "      <td>2.0</td>\n",
              "      <td>1</td>\n",
              "      <td>2</td>\n",
              "      <td>1</td>\n",
              "    </tr>\n",
              "    <tr>\n",
              "      <th>166</th>\n",
              "      <td>67</td>\n",
              "      <td>1</td>\n",
              "      <td>0</td>\n",
              "      <td>120</td>\n",
              "      <td>229</td>\n",
              "      <td>0</td>\n",
              "      <td>0</td>\n",
              "      <td>129</td>\n",
              "      <td>1</td>\n",
              "      <td>2.6</td>\n",
              "      <td>1</td>\n",
              "      <td>2</td>\n",
              "      <td>3</td>\n",
              "    </tr>\n",
              "    <tr>\n",
              "      <th>71</th>\n",
              "      <td>51</td>\n",
              "      <td>1</td>\n",
              "      <td>2</td>\n",
              "      <td>94</td>\n",
              "      <td>227</td>\n",
              "      <td>0</td>\n",
              "      <td>1</td>\n",
              "      <td>154</td>\n",
              "      <td>1</td>\n",
              "      <td>0.0</td>\n",
              "      <td>2</td>\n",
              "      <td>1</td>\n",
              "      <td>3</td>\n",
              "    </tr>\n",
              "    <tr>\n",
              "      <th>...</th>\n",
              "      <td>...</td>\n",
              "      <td>...</td>\n",
              "      <td>...</td>\n",
              "      <td>...</td>\n",
              "      <td>...</td>\n",
              "      <td>...</td>\n",
              "      <td>...</td>\n",
              "      <td>...</td>\n",
              "      <td>...</td>\n",
              "      <td>...</td>\n",
              "      <td>...</td>\n",
              "      <td>...</td>\n",
              "      <td>...</td>\n",
              "    </tr>\n",
              "    <tr>\n",
              "      <th>176</th>\n",
              "      <td>60</td>\n",
              "      <td>1</td>\n",
              "      <td>0</td>\n",
              "      <td>117</td>\n",
              "      <td>230</td>\n",
              "      <td>1</td>\n",
              "      <td>1</td>\n",
              "      <td>160</td>\n",
              "      <td>1</td>\n",
              "      <td>1.4</td>\n",
              "      <td>2</td>\n",
              "      <td>2</td>\n",
              "      <td>3</td>\n",
              "    </tr>\n",
              "    <tr>\n",
              "      <th>150</th>\n",
              "      <td>66</td>\n",
              "      <td>1</td>\n",
              "      <td>0</td>\n",
              "      <td>160</td>\n",
              "      <td>228</td>\n",
              "      <td>0</td>\n",
              "      <td>0</td>\n",
              "      <td>138</td>\n",
              "      <td>0</td>\n",
              "      <td>2.3</td>\n",
              "      <td>2</td>\n",
              "      <td>0</td>\n",
              "      <td>1</td>\n",
              "    </tr>\n",
              "    <tr>\n",
              "      <th>168</th>\n",
              "      <td>63</td>\n",
              "      <td>1</td>\n",
              "      <td>0</td>\n",
              "      <td>130</td>\n",
              "      <td>254</td>\n",
              "      <td>0</td>\n",
              "      <td>0</td>\n",
              "      <td>147</td>\n",
              "      <td>0</td>\n",
              "      <td>1.4</td>\n",
              "      <td>1</td>\n",
              "      <td>1</td>\n",
              "      <td>3</td>\n",
              "    </tr>\n",
              "    <tr>\n",
              "      <th>188</th>\n",
              "      <td>50</td>\n",
              "      <td>1</td>\n",
              "      <td>2</td>\n",
              "      <td>140</td>\n",
              "      <td>233</td>\n",
              "      <td>0</td>\n",
              "      <td>1</td>\n",
              "      <td>163</td>\n",
              "      <td>0</td>\n",
              "      <td>0.6</td>\n",
              "      <td>1</td>\n",
              "      <td>1</td>\n",
              "      <td>3</td>\n",
              "    </tr>\n",
              "    <tr>\n",
              "      <th>94</th>\n",
              "      <td>45</td>\n",
              "      <td>0</td>\n",
              "      <td>1</td>\n",
              "      <td>112</td>\n",
              "      <td>160</td>\n",
              "      <td>0</td>\n",
              "      <td>1</td>\n",
              "      <td>138</td>\n",
              "      <td>0</td>\n",
              "      <td>0.0</td>\n",
              "      <td>1</td>\n",
              "      <td>0</td>\n",
              "      <td>2</td>\n",
              "    </tr>\n",
              "  </tbody>\n",
              "</table>\n",
              "<p>100 rows × 13 columns</p>\n",
              "</div>"
            ],
            "text/plain": [
              "     age  gender  cp  trestbps  chol  ...  exang  oldpeak  slope  ca  thal\n",
              "42    45       1   0       104   208  ...      1      3.0      1   0     2\n",
              "201   60       1   0       125   258  ...      1      2.8      1   1     3\n",
              "242   64       1   0       145   212  ...      0      2.0      1   2     1\n",
              "166   67       1   0       120   229  ...      1      2.6      1   2     3\n",
              "71    51       1   2        94   227  ...      1      0.0      2   1     3\n",
              "..   ...     ...  ..       ...   ...  ...    ...      ...    ...  ..   ...\n",
              "176   60       1   0       117   230  ...      1      1.4      2   2     3\n",
              "150   66       1   0       160   228  ...      0      2.3      2   0     1\n",
              "168   63       1   0       130   254  ...      0      1.4      1   1     3\n",
              "188   50       1   2       140   233  ...      0      0.6      1   1     3\n",
              "94    45       0   1       112   160  ...      0      0.0      1   0     2\n",
              "\n",
              "[100 rows x 13 columns]"
            ]
          },
          "metadata": {
            "tags": []
          },
          "execution_count": 21
        }
      ]
    },
    {
      "cell_type": "code",
      "metadata": {
        "id": "l30j4QoAzuBz",
        "outputId": "ff011086-2869-4d80-be2a-8889612a3531",
        "colab": {
          "base_uri": "https://localhost:8080/"
        }
      },
      "source": [
        "y_train"
      ],
      "execution_count": 22,
      "outputs": [
        {
          "output_type": "execute_result",
          "data": {
            "text/plain": [
              "99     1\n",
              "293    0\n",
              "3      1\n",
              "228    0\n",
              "282    0\n",
              "      ..\n",
              "127    1\n",
              "83     1\n",
              "8      1\n",
              "302    0\n",
              "51     1\n",
              "Name: target, Length: 203, dtype: int64"
            ]
          },
          "metadata": {
            "tags": []
          },
          "execution_count": 22
        }
      ]
    },
    {
      "cell_type": "code",
      "metadata": {
        "id": "Eb06GFVmzuB2",
        "outputId": "48bf4216-57c7-43f5-f3e9-8b298c35bc02",
        "colab": {
          "base_uri": "https://localhost:8080/"
        }
      },
      "source": [
        "y_test"
      ],
      "execution_count": 70,
      "outputs": [
        {
          "output_type": "execute_result",
          "data": {
            "text/plain": [
              "42     1\n",
              "201    0\n",
              "242    0\n",
              "166    0\n",
              "71     1\n",
              "      ..\n",
              "176    0\n",
              "150    1\n",
              "168    0\n",
              "188    0\n",
              "94     1\n",
              "Name: target, Length: 100, dtype: int64"
            ]
          },
          "metadata": {
            "tags": []
          },
          "execution_count": 70
        }
      ]
    },
    {
      "cell_type": "markdown",
      "metadata": {
        "id": "RTvL-GNkzuB4"
      },
      "source": [
        "# SVM\n"
      ]
    },
    {
      "cell_type": "code",
      "metadata": {
        "id": "Yr747BBJzuB5"
      },
      "source": [
        "from sklearn.svm import SVC\n",
        "svc = SVC(kernel='rbf',probability = True)\n",
        "svc_classifier = svc.fit(x_train,y_train)"
      ],
      "execution_count": 71,
      "outputs": []
    },
    {
      "cell_type": "code",
      "metadata": {
        "id": "P4G_zElOzuB7"
      },
      "source": [
        "x_train_std = minmax.fit_transform(x_train)\n",
        "x_test_std = minmax.transform(x_test)"
      ],
      "execution_count": 72,
      "outputs": []
    },
    {
      "cell_type": "code",
      "metadata": {
        "id": "fKTl_wvFzuB-"
      },
      "source": [
        "from sklearn.model_selection import cross_val_score,cross_val_predict\n",
        "svc_acc = cross_val_score(svc_classifier, x_train_std, y_train, cv=3, scoring=\"accuracy\",  n_jobs=-1)\n",
        "svc_proba = cross_val_predict(svc_classifier, x_train_std, y_train, cv=3, method='predict_proba')\n",
        "svc_scores = svc_proba[:, 1]"
      ],
      "execution_count": 73,
      "outputs": []
    },
    {
      "cell_type": "code",
      "metadata": {
        "id": "7sk2o4CQzuCA"
      },
      "source": [
        "y_pred=svc_classifier.predict(x_test)"
      ],
      "execution_count": 74,
      "outputs": []
    },
    {
      "cell_type": "code",
      "metadata": {
        "id": "4X2fuZo5zuCC",
        "outputId": "fc12d345-9c3e-4e7a-c7b5-eb65f8702fd1",
        "colab": {
          "base_uri": "https://localhost:8080/"
        }
      },
      "source": [
        "print(\"actual values:\\n\")\n",
        "print(y_test.values)"
      ],
      "execution_count": 75,
      "outputs": [
        {
          "output_type": "stream",
          "text": [
            "actual values:\n",
            "\n",
            "[1 0 0 0 1 0 0 0 0 0 0 1 1 0 0 0 1 1 1 0 1 0 0 0 1 1 1 1 0 1 0 1 0 0 0 0 1\n",
            " 1 1 1 1 0 0 0 0 1 1 1 0 0 1 1 1 1 1 1 1 0 1 1 0 0 1 0 1 1 1 1 1 1 1 1 1 0\n",
            " 0 0 1 1 0 1 0 1 0 0 1 1 0 1 0 0 0 1 0 0 0 0 1 0 0 1]\n"
          ],
          "name": "stdout"
        }
      ]
    },
    {
      "cell_type": "code",
      "metadata": {
        "id": "BCcygiSfzuCF",
        "outputId": "a1d8a7cf-5c4c-47f9-8076-28a83a54b240",
        "colab": {
          "base_uri": "https://localhost:8080/"
        }
      },
      "source": [
        "print(\"predicted values:\\n\")\n",
        "print(y_pred)"
      ],
      "execution_count": 76,
      "outputs": [
        {
          "output_type": "stream",
          "text": [
            "predicted values:\n",
            "\n",
            "[1 1 0 1 1 1 0 0 1 1 1 0 1 0 1 1 1 1 1 1 1 1 0 1 1 0 1 0 1 1 1 0 0 0 0 0 1\n",
            " 1 1 1 0 0 1 1 1 1 1 0 1 0 1 1 1 1 1 1 1 1 1 1 1 0 1 1 1 0 1 1 1 0 1 1 1 0\n",
            " 1 0 1 1 0 1 0 1 1 1 1 1 1 1 0 1 1 1 0 0 1 1 0 1 1 1]\n"
          ],
          "name": "stdout"
        }
      ]
    },
    {
      "cell_type": "code",
      "metadata": {
        "id": "y-hSumT4zuCH",
        "outputId": "9eed30ee-a27f-4c56-f219-a1b26b90a987",
        "colab": {
          "base_uri": "https://localhost:8080/"
        }
      },
      "source": [
        "from sklearn.metrics import accuracy_score, recall_score, roc_auc_score, confusion_matrix\n",
        "\n",
        "print(\"\\nAccuracy score: %f\" %(accuracy_score(y_test,y_pred) * 100))\n",
        "print(\"Recall score : %f\" %(recall_score(y_test, y_pred) * 100))\n",
        "print(\"ROC score : %f\\n\" %(roc_auc_score(y_test, y_pred) * 100))\n",
        "print(confusion_matrix(y_test, y_pred)) "
      ],
      "execution_count": 77,
      "outputs": [
        {
          "output_type": "stream",
          "text": [
            "\n",
            "Accuracy score: 61.000000\n",
            "Recall score : 82.352941\n",
            "ROC score : 60.564226\n",
            "\n",
            "[[19 30]\n",
            " [ 9 42]]\n"
          ],
          "name": "stdout"
        }
      ]
    },
    {
      "cell_type": "markdown",
      "metadata": {
        "id": "xCiTsSlAzuCK"
      },
      "source": [
        "# KNN"
      ]
    },
    {
      "cell_type": "code",
      "metadata": {
        "id": "ONPTUXo1zuCL"
      },
      "source": [
        "from sklearn import neighbors"
      ],
      "execution_count": 78,
      "outputs": []
    },
    {
      "cell_type": "code",
      "metadata": {
        "id": "HJevDdUHzuCN",
        "outputId": "691f81e4-d0d8-48a9-83d6-0c01d66ae2d0",
        "colab": {
          "base_uri": "https://localhost:8080/"
        }
      },
      "source": [
        "clf = neighbors.KNeighborsClassifier()\n",
        "clf.fit(x_train,y_train)"
      ],
      "execution_count": 79,
      "outputs": [
        {
          "output_type": "execute_result",
          "data": {
            "text/plain": [
              "KNeighborsClassifier(algorithm='auto', leaf_size=30, metric='minkowski',\n",
              "                     metric_params=None, n_jobs=None, n_neighbors=5, p=2,\n",
              "                     weights='uniform')"
            ]
          },
          "metadata": {
            "tags": []
          },
          "execution_count": 79
        }
      ]
    },
    {
      "cell_type": "code",
      "metadata": {
        "id": "F9b84l5-zuCP"
      },
      "source": [
        "y_pred=clf.predict(x_test)"
      ],
      "execution_count": 80,
      "outputs": []
    },
    {
      "cell_type": "code",
      "metadata": {
        "id": "5D7E3_-IzuCS",
        "outputId": "52b34fb9-71bb-43a9-af5e-ba5dc988ed23",
        "colab": {
          "base_uri": "https://localhost:8080/"
        }
      },
      "source": [
        "print(\"Actual values : \")\n",
        "print(y_test.values)"
      ],
      "execution_count": 81,
      "outputs": [
        {
          "output_type": "stream",
          "text": [
            "Actual values : \n",
            "[1 0 0 0 1 0 0 0 0 0 0 1 1 0 0 0 1 1 1 0 1 0 0 0 1 1 1 1 0 1 0 1 0 0 0 0 1\n",
            " 1 1 1 1 0 0 0 0 1 1 1 0 0 1 1 1 1 1 1 1 0 1 1 0 0 1 0 1 1 1 1 1 1 1 1 1 0\n",
            " 0 0 1 1 0 1 0 1 0 0 1 1 0 1 0 0 0 1 0 0 0 0 1 0 0 1]\n"
          ],
          "name": "stdout"
        }
      ]
    },
    {
      "cell_type": "code",
      "metadata": {
        "id": "E8n98BTVzuCU",
        "outputId": "768d4178-ac9a-472c-aedd-56ce4a8403eb",
        "colab": {
          "base_uri": "https://localhost:8080/"
        }
      },
      "source": [
        "print(\"Predicted values : \")\n",
        "print(y_pred)"
      ],
      "execution_count": 82,
      "outputs": [
        {
          "output_type": "stream",
          "text": [
            "Predicted values : \n",
            "[1 0 0 0 1 1 0 0 1 1 1 0 0 0 0 1 1 0 0 1 1 1 0 1 1 0 1 1 1 1 1 0 0 0 0 0 1\n",
            " 1 1 1 0 0 1 0 0 1 1 0 0 0 0 0 1 0 1 0 1 0 1 1 0 0 1 1 0 0 1 1 1 0 1 1 1 0\n",
            " 1 1 1 1 0 1 1 0 1 1 1 0 0 1 0 0 1 1 0 0 1 1 0 0 1 1]\n"
          ],
          "name": "stdout"
        }
      ]
    },
    {
      "cell_type": "code",
      "metadata": {
        "id": "TFVfJV5NzuCX",
        "outputId": "a9f69d2c-f4e6-4c45-98be-bc45b9047fc5",
        "colab": {
          "base_uri": "https://localhost:8080/"
        }
      },
      "source": [
        "print(\"\\nAccuracy score: %f\" %(accuracy_score(y_test,y_pred) * 100))\n",
        "print(\"Recall score : %f\" %(recall_score(y_test, y_pred) * 100))\n",
        "print(\"ROC score : %f\\n\" %(roc_auc_score(y_test, y_pred) * 100))\n",
        "print(confusion_matrix(y_test, y_pred)) "
      ],
      "execution_count": 83,
      "outputs": [
        {
          "output_type": "stream",
          "text": [
            "\n",
            "Accuracy score: 61.000000\n",
            "Recall score : 64.705882\n",
            "ROC score : 60.924370\n",
            "\n",
            "[[28 21]\n",
            " [18 33]]\n"
          ],
          "name": "stdout"
        }
      ]
    },
    {
      "cell_type": "code",
      "metadata": {
        "id": "rEt9weiLzuCa"
      },
      "source": [
        "x_train_std = minmax.fit_transform(x_train)\n",
        "x_test_std = minmax.transform(x_test)\n",
        "clf_acc = cross_val_score(clf, x_train_std, y_train, cv=3, scoring=\"accuracy\",  n_jobs=-1)\n",
        "clf_proba = cross_val_predict(clf, x_train_std, y_train, cv=3, method='predict_proba')\n",
        "clf_scores = clf_proba[:, 1] "
      ],
      "execution_count": 84,
      "outputs": []
    },
    {
      "cell_type": "markdown",
      "metadata": {
        "id": "YisPM2HszuCd"
      },
      "source": [
        "# DECISION TREE"
      ]
    },
    {
      "cell_type": "code",
      "metadata": {
        "id": "QdxeEV_izuCd",
        "outputId": "0949f203-535c-4823-c15d-53eea1c1555f",
        "colab": {
          "base_uri": "https://localhost:8080/"
        }
      },
      "source": [
        "from sklearn.tree import DecisionTreeClassifier\n",
        "dtc_clf = DecisionTreeClassifier()\n",
        "dtc_clf.fit(x_train,y_train)"
      ],
      "execution_count": 85,
      "outputs": [
        {
          "output_type": "execute_result",
          "data": {
            "text/plain": [
              "DecisionTreeClassifier(ccp_alpha=0.0, class_weight=None, criterion='gini',\n",
              "                       max_depth=None, max_features=None, max_leaf_nodes=None,\n",
              "                       min_impurity_decrease=0.0, min_impurity_split=None,\n",
              "                       min_samples_leaf=1, min_samples_split=2,\n",
              "                       min_weight_fraction_leaf=0.0, presort='deprecated',\n",
              "                       random_state=None, splitter='best')"
            ]
          },
          "metadata": {
            "tags": []
          },
          "execution_count": 85
        }
      ]
    },
    {
      "cell_type": "code",
      "metadata": {
        "id": "038sEWWnzuCf"
      },
      "source": [
        "dtc_clf_acc = cross_val_score(dtc_clf, x_train_std, y_train, cv=3, scoring=\"accuracy\",  n_jobs=-1)\n",
        "dtc_proba = cross_val_predict(dtc_clf, x_train_std, y_train, cv=3, method='predict_proba')\n",
        "dtc_clf_scores = dtc_proba[:, 1]"
      ],
      "execution_count": 86,
      "outputs": []
    },
    {
      "cell_type": "code",
      "metadata": {
        "id": "qjPW_yGlzuCh"
      },
      "source": [
        "y_pred=dtc_clf.predict(x_test)"
      ],
      "execution_count": 87,
      "outputs": []
    },
    {
      "cell_type": "code",
      "metadata": {
        "id": "qXRnf8i8zuCj",
        "outputId": "65050217-527e-4d22-bc84-75367bb12ff0",
        "colab": {
          "base_uri": "https://localhost:8080/"
        }
      },
      "source": [
        "print(\"Actual values : \")\n",
        "print(y_test.values)"
      ],
      "execution_count": 88,
      "outputs": [
        {
          "output_type": "stream",
          "text": [
            "Actual values : \n",
            "[1 0 0 0 1 0 0 0 0 0 0 1 1 0 0 0 1 1 1 0 1 0 0 0 1 1 1 1 0 1 0 1 0 0 0 0 1\n",
            " 1 1 1 1 0 0 0 0 1 1 1 0 0 1 1 1 1 1 1 1 0 1 1 0 0 1 0 1 1 1 1 1 1 1 1 1 0\n",
            " 0 0 1 1 0 1 0 1 0 0 1 1 0 1 0 0 0 1 0 0 0 0 1 0 0 1]\n"
          ],
          "name": "stdout"
        }
      ]
    },
    {
      "cell_type": "code",
      "metadata": {
        "id": "a8yQiQxEzuCn",
        "outputId": "233bcca2-1f37-4d86-c9d5-d0ad3b6d8ad0",
        "colab": {
          "base_uri": "https://localhost:8080/"
        }
      },
      "source": [
        "print(\"Predicted values : \")\n",
        "print(y_pred)"
      ],
      "execution_count": 89,
      "outputs": [
        {
          "output_type": "stream",
          "text": [
            "Predicted values : \n",
            "[0 0 0 0 1 0 0 0 0 0 1 1 1 0 0 0 1 1 0 1 1 0 0 0 1 0 1 0 0 1 0 0 0 0 0 0 1\n",
            " 1 0 1 0 0 0 0 1 0 1 0 0 0 1 1 1 1 0 0 0 0 1 0 0 0 1 0 1 1 1 1 1 0 0 0 1 1\n",
            " 0 0 1 0 0 1 0 1 0 0 0 1 0 1 0 0 1 1 0 0 0 0 1 0 0 1]\n"
          ],
          "name": "stdout"
        }
      ]
    },
    {
      "cell_type": "code",
      "metadata": {
        "id": "20FiIEUwzuCq",
        "outputId": "6d543146-fe1f-4dbf-9204-b181b60cc397",
        "colab": {
          "base_uri": "https://localhost:8080/"
        }
      },
      "source": [
        "print(\"\\nAccuracy score: %f\" %(accuracy_score(y_test,y_pred) * 100))\n",
        "print(\"Recall score : %f\" %(recall_score(y_test, y_pred) * 100))\n",
        "print(\"ROC score : %f\\n\" %(roc_auc_score(y_test, y_pred) * 100))\n",
        "print(confusion_matrix(y_test, y_pred)) "
      ],
      "execution_count": 90,
      "outputs": [
        {
          "output_type": "stream",
          "text": [
            "\n",
            "Accuracy score: 77.000000\n",
            "Recall score : 64.705882\n",
            "ROC score : 77.250900\n",
            "\n",
            "[[44  5]\n",
            " [18 33]]\n"
          ],
          "name": "stdout"
        }
      ]
    },
    {
      "cell_type": "markdown",
      "metadata": {
        "id": "XokUJeNbzuCs"
      },
      "source": [
        "# RANDOM FOREST"
      ]
    },
    {
      "cell_type": "code",
      "metadata": {
        "id": "Z9g5F3MwzuCt"
      },
      "source": [
        "from sklearn.ensemble import RandomForestClassifier\n",
        "rmf = RandomForestClassifier(max_depth=5, random_state=0)\n",
        "rmf_clf = rmf.fit(x_train, y_train)"
      ],
      "execution_count": 91,
      "outputs": []
    },
    {
      "cell_type": "code",
      "metadata": {
        "id": "5XOwTvLJzuCv"
      },
      "source": [
        "rmf_clf_acc = cross_val_score(rmf_clf, x_train_std, y_train, cv=3, scoring=\"accuracy\",  n_jobs=-1)\n",
        "rmf_proba = cross_val_predict(rmf_clf, x_train_std, y_train, cv=3, method='predict_proba')\n",
        "rmf_clf_scores = rmf_proba[:, 1]"
      ],
      "execution_count": 92,
      "outputs": []
    },
    {
      "cell_type": "code",
      "metadata": {
        "id": "7khQOfAVzuCx"
      },
      "source": [
        "y_pred=rmf_clf.predict(x_test)"
      ],
      "execution_count": 93,
      "outputs": []
    },
    {
      "cell_type": "code",
      "metadata": {
        "id": "qlDPRp5fzuCz",
        "outputId": "9d0b0535-de35-479b-cafb-4b4695844196",
        "colab": {
          "base_uri": "https://localhost:8080/"
        }
      },
      "source": [
        "print(\"Actual values : \")\n",
        "print(y_test.values)"
      ],
      "execution_count": 94,
      "outputs": [
        {
          "output_type": "stream",
          "text": [
            "Actual values : \n",
            "[1 0 0 0 1 0 0 0 0 0 0 1 1 0 0 0 1 1 1 0 1 0 0 0 1 1 1 1 0 1 0 1 0 0 0 0 1\n",
            " 1 1 1 1 0 0 0 0 1 1 1 0 0 1 1 1 1 1 1 1 0 1 1 0 0 1 0 1 1 1 1 1 1 1 1 1 0\n",
            " 0 0 1 1 0 1 0 1 0 0 1 1 0 1 0 0 0 1 0 0 0 0 1 0 0 1]\n"
          ],
          "name": "stdout"
        }
      ]
    },
    {
      "cell_type": "code",
      "metadata": {
        "id": "LvYectu7zuC1",
        "outputId": "b98db9a0-3d73-4a63-c6ae-f53f5a37b7d8",
        "colab": {
          "base_uri": "https://localhost:8080/"
        }
      },
      "source": [
        "print(\"Predicted values : \")\n",
        "print(y_pred)"
      ],
      "execution_count": 95,
      "outputs": [
        {
          "output_type": "stream",
          "text": [
            "Predicted values : \n",
            "[0 0 0 0 1 0 0 0 0 0 1 1 0 0 0 1 1 1 1 1 1 1 0 0 1 0 1 0 0 1 1 1 0 0 0 0 1\n",
            " 1 1 1 0 0 1 0 0 1 1 0 0 0 1 1 1 1 1 1 1 0 1 1 0 0 1 1 1 1 1 1 1 0 1 1 1 1\n",
            " 0 0 1 1 0 1 0 1 0 1 1 1 0 1 0 1 1 1 0 0 0 0 1 0 0 1]\n"
          ],
          "name": "stdout"
        }
      ]
    },
    {
      "cell_type": "code",
      "metadata": {
        "id": "zXpM6PfNzuC3",
        "outputId": "72d1d913-792b-488e-8a1f-383c96d72907",
        "colab": {
          "base_uri": "https://localhost:8080/"
        }
      },
      "source": [
        "print(\"\\nAccuracy score: %f\" %(accuracy_score(y_test,y_pred) * 100))\n",
        "print(\"Recall score : %f\" %(recall_score(y_test, y_pred) * 100))\n",
        "print(\"ROC score : %f\\n\" %(roc_auc_score(y_test, y_pred) * 100))\n",
        "print(confusion_matrix(y_test, y_pred)) "
      ],
      "execution_count": 96,
      "outputs": [
        {
          "output_type": "stream",
          "text": [
            "\n",
            "Accuracy score: 82.000000\n",
            "Recall score : 86.274510\n",
            "ROC score : 81.912765\n",
            "\n",
            "[[38 11]\n",
            " [ 7 44]]\n"
          ],
          "name": "stdout"
        }
      ]
    },
    {
      "cell_type": "code",
      "metadata": {
        "id": "0eE49fxKzuC5"
      },
      "source": [
        "from sklearn.linear_model import LogisticRegression\n",
        "lr = LogisticRegression()\n",
        "lr.fit(x_train,y_train)\n",
        "lr_acc = cross_val_score(lr, x_train_std, y_train, cv=3, scoring='accuracy', n_jobs=-1)\n",
        "lr_proba = cross_val_predict(lr, x_train_std, y_train, cv=3, method='predict_proba')\n",
        "lr_scores = lr_proba[:, 1]"
      ],
      "execution_count": 97,
      "outputs": []
    },
    {
      "cell_type": "code",
      "metadata": {
        "id": "bDKYDIRIzuC8"
      },
      "source": [
        "y_pred=lr.predict(x_test)"
      ],
      "execution_count": 98,
      "outputs": []
    },
    {
      "cell_type": "code",
      "metadata": {
        "id": "-I8dA_OIzuC_",
        "outputId": "ed646852-8158-48a5-8b41-f06f8cafbc26",
        "colab": {
          "base_uri": "https://localhost:8080/"
        }
      },
      "source": [
        "print(\"Actual values : \")\n",
        "print(y_test.values)"
      ],
      "execution_count": 99,
      "outputs": [
        {
          "output_type": "stream",
          "text": [
            "Actual values : \n",
            "[1 0 0 0 1 0 0 0 0 0 0 1 1 0 0 0 1 1 1 0 1 0 0 0 1 1 1 1 0 1 0 1 0 0 0 0 1\n",
            " 1 1 1 1 0 0 0 0 1 1 1 0 0 1 1 1 1 1 1 1 0 1 1 0 0 1 0 1 1 1 1 1 1 1 1 1 0\n",
            " 0 0 1 1 0 1 0 1 0 0 1 1 0 1 0 0 0 1 0 0 0 0 1 0 0 1]\n"
          ],
          "name": "stdout"
        }
      ]
    },
    {
      "cell_type": "code",
      "metadata": {
        "id": "ZNOsrXtizuDC",
        "outputId": "661ddfc2-3abb-4217-ffd4-2b70bf17c4e4",
        "colab": {
          "base_uri": "https://localhost:8080/"
        }
      },
      "source": [
        "print(\"Predicted values : \")\n",
        "print(y_pred)"
      ],
      "execution_count": 100,
      "outputs": [
        {
          "output_type": "stream",
          "text": [
            "Predicted values : \n",
            "[1 1 1 1 1 1 0 1 1 1 1 1 1 1 1 1 1 1 1 1 1 1 0 1 1 0 1 0 1 1 1 1 1 1 0 1 1\n",
            " 1 1 1 0 1 1 1 1 1 1 0 1 1 1 1 1 1 1 1 1 1 1 1 1 1 1 1 1 1 1 1 1 1 1 1 1 1\n",
            " 1 1 1 1 1 1 1 1 1 1 1 1 1 1 0 1 1 1 0 1 1 1 1 1 1 1]\n"
          ],
          "name": "stdout"
        }
      ]
    },
    {
      "cell_type": "code",
      "metadata": {
        "id": "HyhbKVgKzuDE",
        "outputId": "6cbeaf6c-f17d-498d-d255-0bdf1ff7635d",
        "colab": {
          "base_uri": "https://localhost:8080/"
        }
      },
      "source": [
        "print(\"\\nAccuracy score: %f\" %(accuracy_score(y_test,y_pred) * 100))\n",
        "print(\"Recall score : %f\" %(recall_score(y_test, y_pred) * 100))\n",
        "print(\"ROC score : %f\\n\" %(roc_auc_score(y_test, y_pred) * 100))\n",
        "print(confusion_matrix(y_test, y_pred)) "
      ],
      "execution_count": 101,
      "outputs": [
        {
          "output_type": "stream",
          "text": [
            "\n",
            "Accuracy score: 52.000000\n",
            "Recall score : 92.156863\n",
            "ROC score : 51.180472\n",
            "\n",
            "[[ 5 44]\n",
            " [ 4 47]]\n"
          ],
          "name": "stdout"
        }
      ]
    },
    {
      "cell_type": "markdown",
      "metadata": {
        "id": "39XM6tv0zuDH"
      },
      "source": [
        " # Naive Bayes Classification"
      ]
    },
    {
      "cell_type": "code",
      "metadata": {
        "id": "qnWnMjGpzuDH",
        "outputId": "9b6a50a5-d622-4369-f0e2-799b9933ec98",
        "colab": {
          "base_uri": "https://localhost:8080/"
        }
      },
      "source": [
        "from sklearn.naive_bayes import GaussianNB\n",
        "nb_classifier =GaussianNB()\n",
        "nb_classifier.fit(x_train, y_train)\n",
        "nb_acc = cross_val_score(nb_classifier, x_train_std, y_train, cv=3, scoring='accuracy', n_jobs=-1)\n",
        "nb_proba = cross_val_predict(nb_classifier, x_train_std, y_train, cv=3, method='predict_proba')\n",
        "nb_scores = nb_proba[:, 1]\n",
        "nb_proba"
      ],
      "execution_count": 102,
      "outputs": [
        {
          "output_type": "execute_result",
          "data": {
            "text/plain": [
              "array([[1.64963025e-01, 8.35036975e-01],\n",
              "       [2.25149908e-01, 7.74850092e-01],\n",
              "       [6.09438595e-03, 9.93905614e-01],\n",
              "       [5.31538087e-02, 9.46846191e-01],\n",
              "       [9.87627676e-01, 1.23723244e-02],\n",
              "       [5.09815716e-01, 4.90184284e-01],\n",
              "       [4.20297735e-03, 9.95797023e-01],\n",
              "       [2.97901739e-03, 9.97020983e-01],\n",
              "       [4.91749106e-02, 9.50825089e-01],\n",
              "       [2.92758119e-01, 7.07241881e-01],\n",
              "       [3.11098925e-03, 9.96889011e-01],\n",
              "       [1.35207897e-01, 8.64792103e-01],\n",
              "       [3.09844566e-02, 9.69015543e-01],\n",
              "       [1.15139243e-03, 9.98848608e-01],\n",
              "       [8.72016955e-01, 1.27983045e-01],\n",
              "       [8.52474565e-01, 1.47525435e-01],\n",
              "       [1.76118092e-02, 9.82388191e-01],\n",
              "       [9.99477793e-01, 5.22207130e-04],\n",
              "       [5.04699915e-01, 4.95300085e-01],\n",
              "       [7.22853404e-01, 2.77146596e-01],\n",
              "       [9.98461812e-01, 1.53818829e-03],\n",
              "       [9.99949830e-01, 5.01700696e-05],\n",
              "       [1.41331645e-02, 9.85866835e-01],\n",
              "       [1.65012013e-02, 9.83498799e-01],\n",
              "       [2.12730525e-03, 9.97872695e-01],\n",
              "       [2.31263820e-01, 7.68736180e-01],\n",
              "       [9.99272134e-01, 7.27866221e-04],\n",
              "       [5.25190104e-03, 9.94748099e-01],\n",
              "       [9.60452199e-01, 3.95478011e-02],\n",
              "       [1.00000000e+00, 2.67593054e-12],\n",
              "       [1.31981755e-04, 9.99868018e-01],\n",
              "       [9.91475292e-01, 8.52470842e-03],\n",
              "       [4.51541679e-01, 5.48458321e-01],\n",
              "       [2.49066257e-01, 7.50933743e-01],\n",
              "       [8.60582153e-02, 9.13941785e-01],\n",
              "       [9.92596403e-01, 7.40359704e-03],\n",
              "       [5.84700871e-01, 4.15299129e-01],\n",
              "       [9.99078984e-01, 9.21015840e-04],\n",
              "       [2.87111640e-03, 9.97128884e-01],\n",
              "       [1.18993197e-01, 8.81006803e-01],\n",
              "       [1.63028124e-03, 9.98369719e-01],\n",
              "       [4.30446810e-03, 9.95695532e-01],\n",
              "       [8.81471075e-01, 1.18528925e-01],\n",
              "       [6.02064157e-02, 9.39793584e-01],\n",
              "       [8.83589451e-01, 1.16410549e-01],\n",
              "       [9.65784964e-01, 3.42150356e-02],\n",
              "       [9.99995361e-01, 4.63859894e-06],\n",
              "       [1.65063774e-01, 8.34936226e-01],\n",
              "       [2.69604670e-01, 7.30395330e-01],\n",
              "       [9.96700784e-01, 3.29921554e-03],\n",
              "       [9.99997144e-01, 2.85587989e-06],\n",
              "       [1.40246794e-02, 9.85975321e-01],\n",
              "       [5.24907075e-04, 9.99475093e-01],\n",
              "       [2.70885340e-01, 7.29114660e-01],\n",
              "       [9.99464568e-01, 5.35432006e-04],\n",
              "       [5.99032620e-03, 9.94009674e-01],\n",
              "       [1.73409810e-01, 8.26590190e-01],\n",
              "       [9.99993324e-01, 6.67627539e-06],\n",
              "       [7.13356676e-01, 2.86643324e-01],\n",
              "       [2.56164284e-01, 7.43835716e-01],\n",
              "       [9.99671096e-01, 3.28904294e-04],\n",
              "       [2.13092549e-01, 7.86907451e-01],\n",
              "       [9.99399517e-01, 6.00482951e-04],\n",
              "       [7.90812190e-01, 2.09187810e-01],\n",
              "       [5.08215643e-01, 4.91784357e-01],\n",
              "       [9.38392653e-05, 9.99906161e-01],\n",
              "       [9.99999625e-01, 3.74812155e-07],\n",
              "       [9.71195498e-01, 2.88045022e-02],\n",
              "       [9.99883759e-01, 1.16240849e-04],\n",
              "       [2.23350848e-02, 9.77664915e-01],\n",
              "       [9.99365952e-01, 6.34048144e-04],\n",
              "       [9.99999996e-01, 4.33049130e-09],\n",
              "       [1.40858644e-03, 9.98591414e-01],\n",
              "       [5.91770443e-04, 9.99408230e-01],\n",
              "       [9.99585735e-01, 4.14264781e-04],\n",
              "       [2.38109165e-03, 9.97618908e-01],\n",
              "       [2.99255033e-02, 9.70074497e-01],\n",
              "       [6.69117738e-01, 3.30882262e-01],\n",
              "       [6.48804965e-02, 9.35119503e-01],\n",
              "       [2.95662131e-02, 9.70433787e-01],\n",
              "       [9.99710502e-01, 2.89497854e-04],\n",
              "       [2.39487267e-02, 9.76051273e-01],\n",
              "       [1.19603279e-01, 8.80396721e-01],\n",
              "       [2.26658413e-02, 9.77334159e-01],\n",
              "       [1.81387466e-02, 9.81861253e-01],\n",
              "       [4.84409205e-02, 9.51559079e-01],\n",
              "       [7.07363527e-01, 2.92636473e-01],\n",
              "       [9.99663576e-01, 3.36424098e-04],\n",
              "       [2.56917761e-02, 9.74308224e-01],\n",
              "       [8.54376276e-02, 9.14562372e-01],\n",
              "       [1.32473572e-01, 8.67526428e-01],\n",
              "       [1.56004076e-02, 9.84399592e-01],\n",
              "       [1.28320192e-02, 9.87167981e-01],\n",
              "       [6.48667720e-05, 9.99935133e-01],\n",
              "       [9.99996781e-01, 3.21934224e-06],\n",
              "       [2.30625237e-03, 9.97693748e-01],\n",
              "       [2.96636895e-01, 7.03363105e-01],\n",
              "       [9.95612946e-01, 4.38705408e-03],\n",
              "       [9.99999785e-01, 2.14993991e-07],\n",
              "       [2.77548146e-03, 9.97224519e-01],\n",
              "       [6.69954211e-01, 3.30045789e-01],\n",
              "       [7.32951826e-02, 9.26704817e-01],\n",
              "       [9.99923418e-01, 7.65824936e-05],\n",
              "       [5.63734492e-03, 9.94362655e-01],\n",
              "       [9.91408532e-01, 8.59146813e-03],\n",
              "       [3.04502719e-03, 9.96954973e-01],\n",
              "       [5.61126551e-03, 9.94388734e-01],\n",
              "       [9.99999840e-01, 1.59769852e-07],\n",
              "       [9.87619737e-01, 1.23802628e-02],\n",
              "       [9.40718587e-02, 9.05928141e-01],\n",
              "       [3.19756364e-02, 9.68024364e-01],\n",
              "       [6.85473791e-02, 9.31452621e-01],\n",
              "       [9.99999961e-01, 3.86619641e-08],\n",
              "       [5.13313572e-02, 9.48668643e-01],\n",
              "       [2.42012822e-03, 9.97579872e-01],\n",
              "       [8.21215284e-02, 9.17878472e-01],\n",
              "       [4.53982881e-01, 5.46017119e-01],\n",
              "       [1.21896933e-02, 9.87810307e-01],\n",
              "       [2.32356281e-03, 9.97676437e-01],\n",
              "       [9.96782252e-01, 3.21774784e-03],\n",
              "       [8.70579903e-03, 9.91294201e-01],\n",
              "       [9.48351889e-01, 5.16481107e-02],\n",
              "       [1.75075001e-02, 9.82492500e-01],\n",
              "       [5.86376012e-02, 9.41362399e-01],\n",
              "       [8.44541886e-01, 1.55458114e-01],\n",
              "       [1.78996511e-02, 9.82100349e-01],\n",
              "       [9.99999664e-01, 3.36097302e-07],\n",
              "       [7.61264816e-03, 9.92387352e-01],\n",
              "       [1.71583896e-03, 9.98284161e-01],\n",
              "       [9.99999961e-01, 3.92662305e-08],\n",
              "       [9.90278340e-01, 9.72165980e-03],\n",
              "       [9.37302416e-01, 6.26975843e-02],\n",
              "       [8.33443338e-01, 1.66556662e-01],\n",
              "       [9.89057247e-01, 1.09427527e-02],\n",
              "       [9.99999938e-01, 6.22427175e-08],\n",
              "       [2.15646768e-03, 9.97843532e-01],\n",
              "       [2.18577772e-01, 7.81422228e-01],\n",
              "       [9.65231331e-01, 3.47686692e-02],\n",
              "       [7.99491155e-01, 2.00508845e-01],\n",
              "       [1.52136030e-03, 9.98478640e-01],\n",
              "       [9.13824057e-01, 8.61759432e-02],\n",
              "       [1.43862771e-03, 9.98561372e-01],\n",
              "       [4.16534063e-03, 9.95834659e-01],\n",
              "       [7.73198817e-02, 9.22680118e-01],\n",
              "       [3.43602550e-02, 9.65639745e-01],\n",
              "       [9.56675769e-01, 4.33242307e-02],\n",
              "       [1.34538620e-02, 9.86546138e-01],\n",
              "       [9.99898996e-01, 1.01004129e-04],\n",
              "       [4.92736214e-04, 9.99507264e-01],\n",
              "       [7.64743977e-03, 9.92352560e-01],\n",
              "       [8.01022019e-02, 9.19897798e-01],\n",
              "       [5.84476220e-01, 4.15523780e-01],\n",
              "       [1.72946773e-02, 9.82705323e-01],\n",
              "       [2.12983926e-01, 7.87016074e-01],\n",
              "       [9.99412334e-01, 5.87666288e-04],\n",
              "       [7.79367101e-04, 9.99220633e-01],\n",
              "       [8.62995284e-02, 9.13700472e-01],\n",
              "       [9.96008153e-01, 3.99184738e-03],\n",
              "       [9.99285999e-01, 7.14001373e-04],\n",
              "       [1.00000000e+00, 2.79209887e-22],\n",
              "       [9.89926568e-01, 1.00734318e-02],\n",
              "       [9.96580762e-01, 3.41923806e-03],\n",
              "       [3.28821198e-02, 9.67117880e-01],\n",
              "       [1.08927307e-01, 8.91072693e-01],\n",
              "       [3.88821102e-02, 9.61117890e-01],\n",
              "       [1.25959504e-02, 9.87404050e-01],\n",
              "       [2.40680476e-01, 7.59319524e-01],\n",
              "       [9.83419938e-01, 1.65800624e-02],\n",
              "       [9.36394344e-01, 6.36056565e-02],\n",
              "       [5.50884903e-02, 9.44911510e-01],\n",
              "       [6.73052676e-02, 9.32694732e-01],\n",
              "       [1.24087962e-03, 9.98759120e-01],\n",
              "       [8.57325982e-01, 1.42674018e-01],\n",
              "       [8.56931274e-01, 1.43068726e-01],\n",
              "       [9.98060862e-01, 1.93913844e-03],\n",
              "       [9.98970438e-01, 1.02956198e-03],\n",
              "       [9.81467475e-01, 1.85325248e-02],\n",
              "       [9.79928475e-03, 9.90200715e-01],\n",
              "       [2.04362954e-04, 9.99795637e-01],\n",
              "       [1.91434895e-02, 9.80856511e-01],\n",
              "       [3.53268135e-01, 6.46731865e-01],\n",
              "       [2.11563489e-01, 7.88436511e-01],\n",
              "       [6.35895872e-01, 3.64104128e-01],\n",
              "       [8.23110891e-03, 9.91768891e-01],\n",
              "       [6.62476495e-01, 3.37523505e-01],\n",
              "       [1.12937991e-02, 9.88706201e-01],\n",
              "       [9.29589444e-02, 9.07041056e-01],\n",
              "       [9.99930104e-01, 6.98956919e-05],\n",
              "       [1.00000000e+00, 8.56528131e-11],\n",
              "       [9.48097969e-01, 5.19020310e-02],\n",
              "       [1.21346273e-03, 9.98786537e-01],\n",
              "       [5.00053207e-01, 4.99946793e-01],\n",
              "       [9.98654365e-01, 1.34563456e-03],\n",
              "       [9.62428644e-01, 3.75713565e-02],\n",
              "       [7.90991782e-02, 9.20900822e-01],\n",
              "       [8.42972240e-01, 1.57027760e-01],\n",
              "       [1.73419307e-04, 9.99826581e-01],\n",
              "       [1.96094602e-02, 9.80390540e-01],\n",
              "       [2.18656469e-03, 9.97813435e-01],\n",
              "       [1.60231545e-02, 9.83976845e-01],\n",
              "       [1.75818118e-02, 9.82418188e-01],\n",
              "       [5.52438916e-03, 9.94475611e-01],\n",
              "       [2.03080447e-01, 7.96919553e-01]])"
            ]
          },
          "metadata": {
            "tags": []
          },
          "execution_count": 102
        }
      ]
    },
    {
      "cell_type": "code",
      "metadata": {
        "id": "2AyYfBCOzuDJ"
      },
      "source": [
        "y_pred=nb_classifier.predict(x_test)"
      ],
      "execution_count": 103,
      "outputs": []
    },
    {
      "cell_type": "code",
      "metadata": {
        "id": "Ct-gRjp8zuDM",
        "outputId": "0e7775ab-a6e9-4744-ae1e-9d2f5e0ba1bd",
        "colab": {
          "base_uri": "https://localhost:8080/"
        }
      },
      "source": [
        "print(\"Actual values : \")\n",
        "print(y_test.values)"
      ],
      "execution_count": 104,
      "outputs": [
        {
          "output_type": "stream",
          "text": [
            "Actual values : \n",
            "[1 0 0 0 1 0 0 0 0 0 0 1 1 0 0 0 1 1 1 0 1 0 0 0 1 1 1 1 0 1 0 1 0 0 0 0 1\n",
            " 1 1 1 1 0 0 0 0 1 1 1 0 0 1 1 1 1 1 1 1 0 1 1 0 0 1 0 1 1 1 1 1 1 1 1 1 0\n",
            " 0 0 1 1 0 1 0 1 0 0 1 1 0 1 0 0 0 1 0 0 0 0 1 0 0 1]\n"
          ],
          "name": "stdout"
        }
      ]
    },
    {
      "cell_type": "code",
      "metadata": {
        "id": "Si0LSKqIzuDO",
        "outputId": "a7c1232a-9529-4fba-8602-c8602fc82ab9",
        "colab": {
          "base_uri": "https://localhost:8080/"
        }
      },
      "source": [
        "print(\"Predicted values : \")\n",
        "print(y_pred)"
      ],
      "execution_count": 105,
      "outputs": [
        {
          "output_type": "stream",
          "text": [
            "Predicted values : \n",
            "[0 0 0 0 1 0 0 0 0 0 1 1 0 0 0 1 0 1 1 1 1 1 0 0 1 0 1 0 0 1 1 1 0 0 0 0 1\n",
            " 0 1 1 0 0 1 0 0 1 1 1 0 0 0 1 1 1 1 1 1 1 1 1 0 0 1 1 1 1 1 1 1 1 0 1 1 1\n",
            " 0 0 1 1 0 1 0 1 0 1 1 1 0 1 0 1 1 1 1 0 0 0 0 0 1 1]\n"
          ],
          "name": "stdout"
        }
      ]
    },
    {
      "cell_type": "code",
      "metadata": {
        "id": "JQ9zBT_dzuDQ",
        "outputId": "47bc95b8-bc97-4d92-ede3-38a6700c0839",
        "colab": {
          "base_uri": "https://localhost:8080/"
        }
      },
      "source": [
        "print(\"\\nAccuracy score: %f\" %(accuracy_score(y_test,y_pred) * 100))\n",
        "print(\"Recall score : %f\" %(recall_score(y_test, y_pred) * 100))\n",
        "print(\"ROC score : %f\\n\" %(roc_auc_score(y_test, y_pred) * 100))\n",
        "print(confusion_matrix(y_test, y_pred)) "
      ],
      "execution_count": 106,
      "outputs": [
        {
          "output_type": "stream",
          "text": [
            "\n",
            "Accuracy score: 76.000000\n",
            "Recall score : 80.392157\n",
            "ROC score : 75.910364\n",
            "\n",
            "[[35 14]\n",
            " [10 41]]\n"
          ],
          "name": "stdout"
        }
      ]
    },
    {
      "cell_type": "code",
      "metadata": {
        "id": "VGaq3IPtzuDR"
      },
      "source": [
        "from sklearn.metrics import roc_auc_score,roc_curve\n",
        "def ROC_curve(title, y_train, scores, label=None):\n",
        "    fpr, tpr, thresholds = roc_curve(y_train, scores)\n",
        "    print('AUC Score ({}): {:.2f} '.format(title, roc_auc_score(y_train, scores)))\n",
        "    plt.figure(figsize=(8,6))\n",
        "    plt.plot(fpr, tpr, linewidth=2, label=label, color='b')\n",
        "    plt.xlabel('False Positive Rate', fontsize=16)\n",
        "    plt.ylabel('True Positive Rate', fontsize=16)\n",
        "    plt.title('ROC Curve: {}'.format(title), fontsize=16)\n",
        "    plt.show()"
      ],
      "execution_count": 107,
      "outputs": []
    },
    {
      "cell_type": "code",
      "metadata": {
        "id": "JHuSFsvGzuDU",
        "outputId": "7e5f8ebb-5868-44b7-9ec1-5e33ee52e00d",
        "colab": {
          "base_uri": "https://localhost:8080/",
          "height": 1000
        }
      },
      "source": [
        "ROC_curve('kNN', y_train, clf_scores)\n",
        "ROC_curve('Logistic Regression', y_train, lr_scores)\n",
        "ROC_curve('Naive Bayes',y_train,nb_scores)\n",
        "ROC_curve('Support Vector Classification',y_train,svc_scores)\n",
        "ROC_curve('Decision Tree Classifier',y_train,dtc_clf_scores)\n",
        "ROC_curve('Random Forest Classifier',y_train,rmf_clf_scores)"
      ],
      "execution_count": 108,
      "outputs": [
        {
          "output_type": "stream",
          "text": [
            "AUC Score (kNN): 0.85 \n"
          ],
          "name": "stdout"
        },
        {
          "output_type": "display_data",
          "data": {
            "image/png": "[encoded data removed]",
            "text/plain": [
              "<Figure size 576x432 with 1 Axes>"
            ]
          },
          "metadata": {
            "tags": [],
            "needs_background": "light"
          }
        },
        {
          "output_type": "stream",
          "text": [
            "AUC Score (Logistic Regression): 0.91 \n"
          ],
          "name": "stdout"
        },
        {
          "output_type": "display_data",
          "data": {
            "image/png": "[encoded data removed]",
            "text/plain": [
              "<Figure size 576x432 with 1 Axes>"
            ]
          },
          "metadata": {
            "tags": [],
            "needs_background": "light"
          }
        },
        {
          "output_type": "stream",
          "text": [
            "AUC Score (Naive Bayes): 0.90 \n"
          ],
          "name": "stdout"
        },
        {
          "output_type": "display_data",
          "data": {
            "image/png": "[encoded data removed]",
            "text/plain": [
              "<Figure size 576x432 with 1 Axes>"
            ]
          },
          "metadata": {
            "tags": [],
            "needs_background": "light"
          }
        },
        {
          "output_type": "stream",
          "text": [
            "AUC Score (Support Vector Classification): 0.90 \n"
          ],
          "name": "stdout"
        },
        {
          "output_type": "display_data",
          "data": {
            "image/png": "[encoded data removed]",
            "text/plain": [
              "<Figure size 576x432 with 1 Axes>"
            ]
          },
          "metadata": {
            "tags": [],
            "needs_background": "light"
          }
        },
        {
          "output_type": "stream",
          "text": [
            "AUC Score (Decision Tree Classifier): 0.70 \n"
          ],
          "name": "stdout"
        },
        {
          "output_type": "display_data",
          "data": {
            "image/png": "[encoded data removed]",
            "text/plain": [
              "<Figure size 576x432 with 1 Axes>"
            ]
          },
          "metadata": {
            "tags": [],
            "needs_background": "light"
          }
        },
        {
          "output_type": "stream",
          "text": [
            "AUC Score (Random Forest Classifier): 0.89 \n"
          ],
          "name": "stdout"
        },
        {
          "output_type": "display_data",
          "data": {
            "image/png": "[encoded data removed]",
            "text/plain": [
              "<Figure size 576x432 with 1 Axes>"
            ]
          },
          "metadata": {
            "tags": [],
            "needs_background": "light"
          }
        }
      ]
    },
    {
      "cell_type": "code",
      "metadata": {
        "id": "sETK09bczuDX"
      },
      "source": [
        "import tensorflow as tf\n",
        "import tensorflow.compat.v1 as tf\n",
        "tf.disable_v2_behavior()\n",
        "from tensorflow import keras\n",
        "#model = keras.models.Sequential()\n",
        "gpu_options = tf.GPUOptions(per_process_gpu_memory_fraction=0.7)\n",
        "sess = tf.Session(config=tf.ConfigProto(gpu_options=gpu_options))"
      ],
      "execution_count": 109,
      "outputs": []
    },
    {
      "cell_type": "code",
      "metadata": {
        "id": "vvJ6W3DazuDY"
      },
      "source": [
        "x_train = keras.utils.normalize(x_train,axis=1)\n",
        "x_test = keras.utils.normalize(x_test,axis=1)"
      ],
      "execution_count": 110,
      "outputs": []
    },
    {
      "cell_type": "code",
      "metadata": {
        "id": "SOExEnbszuDa",
        "outputId": "41ab10d2-d652-4310-b4d8-1e25d202f207",
        "colab": {
          "base_uri": "https://localhost:8080/",
          "height": 52
        }
      },
      "source": [
        "'''model.add(keras.layers.Flatten(input_shape = data.shape))\n",
        "model.add(keras.layers.Dense(128,activation = tf.nn.relu))\n",
        "model.add(keras.layers.Dense(2,activation = tf.nn.softmax))'''"
      ],
      "execution_count": 111,
      "outputs": [
        {
          "output_type": "execute_result",
          "data": {
            "application/vnd.google.colaboratory.intrinsic+json": {
              "type": "string"
            },
            "text/plain": [
              "'model.add(keras.layers.Flatten(input_shape = data.shape))\\nmodel.add(keras.layers.Dense(128,activation = tf.nn.relu))\\nmodel.add(keras.layers.Dense(2,activation = tf.nn.softmax))'"
            ]
          },
          "metadata": {
            "tags": []
          },
          "execution_count": 111
        }
      ]
    },
    {
      "cell_type": "code",
      "metadata": {
        "id": "eQgo_APpzuDc"
      },
      "source": [
        "from tensorflow.keras.layers import Dense\n",
        "classifier = keras.models.Sequential()\n",
        "classifier.add(Dense(303, activation='relu', kernel_initializer='random_normal', input_dim=13))\n",
        "classifier.add(Dense(4, activation='relu', kernel_initializer='random_normal'))\n",
        "classifier.add(Dense(1, activation='sigmoid', kernel_initializer='random_normal'))"
      ],
      "execution_count": 112,
      "outputs": []
    },
    {
      "cell_type": "code",
      "metadata": {
        "id": "QJyjvky5zuDe",
        "outputId": "46b7fc65-a3b9-4167-a3f1-e54d8e6d40b0",
        "colab": {
          "base_uri": "https://localhost:8080/"
        }
      },
      "source": [
        "classifier.compile(optimizer ='sgd',loss='binary_crossentropy', metrics =['accuracy'])\n",
        "classifier.fit(x_train,y_train, batch_size=10, epochs=100)"
      ],
      "execution_count": 113,
      "outputs": [
        {
          "output_type": "stream",
          "text": [
            "Train on 203 samples\n",
            "Epoch 1/100\n",
            "203/203 [==============================] - 0s 193us/sample - loss: 0.6928 - acc: 0.5616\n",
            "Epoch 2/100\n",
            "203/203 [==============================] - 0s 176us/sample - loss: 0.6921 - acc: 0.5616\n",
            "Epoch 3/100\n",
            "203/203 [==============================] - 0s 180us/sample - loss: 0.6913 - acc: 0.5616\n",
            "Epoch 4/100\n",
            "203/203 [==============================] - 0s 178us/sample - loss: 0.6909 - acc: 0.5616\n",
            "Epoch 5/100\n",
            "203/203 [==============================] - 0s 169us/sample - loss: 0.6904 - acc: 0.5616\n",
            "Epoch 6/100\n",
            "203/203 [==============================] - 0s 175us/sample - loss: 0.6898 - acc: 0.5616\n",
            "Epoch 7/100\n",
            "203/203 [==============================] - 0s 172us/sample - loss: 0.6895 - acc: 0.5616\n",
            "Epoch 8/100\n",
            "203/203 [==============================] - 0s 174us/sample - loss: 0.6892 - acc: 0.5616\n",
            "Epoch 9/100\n",
            "203/203 [==============================] - 0s 180us/sample - loss: 0.6888 - acc: 0.5616\n",
            "Epoch 10/100\n",
            "203/203 [==============================] - 0s 210us/sample - loss: 0.6886 - acc: 0.5616\n",
            "Epoch 11/100\n",
            "203/203 [==============================] - 0s 189us/sample - loss: 0.6883 - acc: 0.5616\n",
            "Epoch 12/100\n",
            "203/203 [==============================] - 0s 176us/sample - loss: 0.6882 - acc: 0.5616\n",
            "Epoch 13/100\n",
            "203/203 [==============================] - 0s 174us/sample - loss: 0.6880 - acc: 0.5616\n",
            "Epoch 14/100\n",
            "203/203 [==============================] - 0s 174us/sample - loss: 0.6878 - acc: 0.5616\n",
            "Epoch 15/100\n",
            "203/203 [==============================] - 0s 168us/sample - loss: 0.6876 - acc: 0.5616\n",
            "Epoch 16/100\n",
            "203/203 [==============================] - 0s 182us/sample - loss: 0.6874 - acc: 0.5616\n",
            "Epoch 17/100\n",
            "203/203 [==============================] - 0s 169us/sample - loss: 0.6872 - acc: 0.5616\n",
            "Epoch 18/100\n",
            "203/203 [==============================] - 0s 181us/sample - loss: 0.6871 - acc: 0.5616\n",
            "Epoch 19/100\n",
            "203/203 [==============================] - 0s 177us/sample - loss: 0.6868 - acc: 0.5616\n",
            "Epoch 20/100\n",
            "203/203 [==============================] - 0s 180us/sample - loss: 0.6868 - acc: 0.5616\n",
            "Epoch 21/100\n",
            "203/203 [==============================] - 0s 179us/sample - loss: 0.6866 - acc: 0.5616\n",
            "Epoch 22/100\n",
            "203/203 [==============================] - 0s 256us/sample - loss: 0.6864 - acc: 0.5616\n",
            "Epoch 23/100\n",
            "203/203 [==============================] - 0s 207us/sample - loss: 0.6864 - acc: 0.5616\n",
            "Epoch 24/100\n",
            "203/203 [==============================] - 0s 171us/sample - loss: 0.6863 - acc: 0.5616\n",
            "Epoch 25/100\n",
            "203/203 [==============================] - 0s 175us/sample - loss: 0.6864 - acc: 0.5616\n",
            "Epoch 26/100\n",
            "203/203 [==============================] - 0s 172us/sample - loss: 0.6862 - acc: 0.5616\n",
            "Epoch 27/100\n",
            "203/203 [==============================] - 0s 176us/sample - loss: 0.6862 - acc: 0.5616\n",
            "Epoch 28/100\n",
            "203/203 [==============================] - 0s 176us/sample - loss: 0.6861 - acc: 0.5616\n",
            "Epoch 29/100\n",
            "203/203 [==============================] - 0s 176us/sample - loss: 0.6861 - acc: 0.5616\n",
            "Epoch 30/100\n",
            "203/203 [==============================] - 0s 175us/sample - loss: 0.6860 - acc: 0.5616\n",
            "Epoch 31/100\n",
            "203/203 [==============================] - 0s 189us/sample - loss: 0.6859 - acc: 0.5616\n",
            "Epoch 32/100\n",
            "203/203 [==============================] - 0s 175us/sample - loss: 0.6859 - acc: 0.5616\n",
            "Epoch 33/100\n",
            "203/203 [==============================] - 0s 189us/sample - loss: 0.6858 - acc: 0.5616\n",
            "Epoch 34/100\n",
            "203/203 [==============================] - 0s 183us/sample - loss: 0.6859 - acc: 0.5616\n",
            "Epoch 35/100\n",
            "203/203 [==============================] - 0s 173us/sample - loss: 0.6859 - acc: 0.5616\n",
            "Epoch 36/100\n",
            "203/203 [==============================] - 0s 180us/sample - loss: 0.6859 - acc: 0.5616\n",
            "Epoch 37/100\n",
            "203/203 [==============================] - 0s 217us/sample - loss: 0.6858 - acc: 0.5616\n",
            "Epoch 38/100\n",
            "203/203 [==============================] - 0s 188us/sample - loss: 0.6858 - acc: 0.5616\n",
            "Epoch 39/100\n",
            "203/203 [==============================] - 0s 224us/sample - loss: 0.6857 - acc: 0.5616\n",
            "Epoch 40/100\n",
            "203/203 [==============================] - 0s 188us/sample - loss: 0.6858 - acc: 0.5616\n",
            "Epoch 41/100\n",
            "203/203 [==============================] - 0s 184us/sample - loss: 0.6858 - acc: 0.5616\n",
            "Epoch 42/100\n",
            "203/203 [==============================] - 0s 183us/sample - loss: 0.6857 - acc: 0.5616\n",
            "Epoch 43/100\n",
            "203/203 [==============================] - 0s 175us/sample - loss: 0.6858 - acc: 0.5616\n",
            "Epoch 44/100\n",
            "203/203 [==============================] - 0s 175us/sample - loss: 0.6857 - acc: 0.5616\n",
            "Epoch 45/100\n",
            "203/203 [==============================] - 0s 177us/sample - loss: 0.6858 - acc: 0.5616\n",
            "Epoch 46/100\n",
            "203/203 [==============================] - 0s 180us/sample - loss: 0.6857 - acc: 0.5616\n",
            "Epoch 47/100\n",
            "203/203 [==============================] - 0s 178us/sample - loss: 0.6856 - acc: 0.5616\n",
            "Epoch 48/100\n",
            "203/203 [==============================] - 0s 186us/sample - loss: 0.6857 - acc: 0.5616\n",
            "Epoch 49/100\n",
            "203/203 [==============================] - 0s 188us/sample - loss: 0.6856 - acc: 0.5616\n",
            "Epoch 50/100\n",
            "203/203 [==============================] - 0s 178us/sample - loss: 0.6857 - acc: 0.5616\n",
            "Epoch 51/100\n",
            "203/203 [==============================] - 0s 174us/sample - loss: 0.6857 - acc: 0.5616\n",
            "Epoch 52/100\n",
            "203/203 [==============================] - 0s 172us/sample - loss: 0.6856 - acc: 0.5616\n",
            "Epoch 53/100\n",
            "203/203 [==============================] - 0s 174us/sample - loss: 0.6856 - acc: 0.5616\n",
            "Epoch 54/100\n",
            "203/203 [==============================] - 0s 172us/sample - loss: 0.6856 - acc: 0.5616\n",
            "Epoch 55/100\n",
            "203/203 [==============================] - 0s 182us/sample - loss: 0.6856 - acc: 0.5616\n",
            "Epoch 56/100\n",
            "203/203 [==============================] - 0s 181us/sample - loss: 0.6856 - acc: 0.5616\n",
            "Epoch 57/100\n",
            "203/203 [==============================] - 0s 178us/sample - loss: 0.6856 - acc: 0.5616\n",
            "Epoch 58/100\n",
            "203/203 [==============================] - 0s 173us/sample - loss: 0.6856 - acc: 0.5616\n",
            "Epoch 59/100\n",
            "203/203 [==============================] - 0s 180us/sample - loss: 0.6856 - acc: 0.5616\n",
            "Epoch 60/100\n",
            "203/203 [==============================] - 0s 175us/sample - loss: 0.6856 - acc: 0.5616\n",
            "Epoch 61/100\n",
            "203/203 [==============================] - 0s 174us/sample - loss: 0.6856 - acc: 0.5616\n",
            "Epoch 62/100\n",
            "203/203 [==============================] - 0s 230us/sample - loss: 0.6856 - acc: 0.5616\n",
            "Epoch 63/100\n",
            "203/203 [==============================] - 0s 187us/sample - loss: 0.6856 - acc: 0.5616\n",
            "Epoch 64/100\n",
            "203/203 [==============================] - 0s 175us/sample - loss: 0.6857 - acc: 0.5616\n",
            "Epoch 65/100\n",
            "203/203 [==============================] - 0s 175us/sample - loss: 0.6856 - acc: 0.5616\n",
            "Epoch 66/100\n",
            "203/203 [==============================] - 0s 188us/sample - loss: 0.6857 - acc: 0.5616\n",
            "Epoch 67/100\n",
            "203/203 [==============================] - 0s 174us/sample - loss: 0.6856 - acc: 0.5616\n",
            "Epoch 68/100\n",
            "203/203 [==============================] - 0s 179us/sample - loss: 0.6856 - acc: 0.5616\n",
            "Epoch 69/100\n",
            "203/203 [==============================] - 0s 178us/sample - loss: 0.6856 - acc: 0.5616\n",
            "Epoch 70/100\n",
            "203/203 [==============================] - 0s 176us/sample - loss: 0.6856 - acc: 0.5616\n",
            "Epoch 71/100\n",
            "203/203 [==============================] - 0s 194us/sample - loss: 0.6855 - acc: 0.5616\n",
            "Epoch 72/100\n",
            "203/203 [==============================] - 0s 229us/sample - loss: 0.6857 - acc: 0.5616\n",
            "Epoch 73/100\n",
            "203/203 [==============================] - 0s 191us/sample - loss: 0.6855 - acc: 0.5616\n",
            "Epoch 74/100\n",
            "203/203 [==============================] - 0s 189us/sample - loss: 0.6856 - acc: 0.5616\n",
            "Epoch 75/100\n",
            "203/203 [==============================] - 0s 180us/sample - loss: 0.6856 - acc: 0.5616\n",
            "Epoch 76/100\n",
            "203/203 [==============================] - 0s 179us/sample - loss: 0.6856 - acc: 0.5616\n",
            "Epoch 77/100\n",
            "203/203 [==============================] - 0s 191us/sample - loss: 0.6856 - acc: 0.5616\n",
            "Epoch 78/100\n",
            "203/203 [==============================] - 0s 199us/sample - loss: 0.6856 - acc: 0.5616\n",
            "Epoch 79/100\n",
            "203/203 [==============================] - 0s 175us/sample - loss: 0.6856 - acc: 0.5616\n",
            "Epoch 80/100\n",
            "203/203 [==============================] - 0s 196us/sample - loss: 0.6857 - acc: 0.5616\n",
            "Epoch 81/100\n",
            "203/203 [==============================] - 0s 180us/sample - loss: 0.6856 - acc: 0.5616\n",
            "Epoch 82/100\n",
            "203/203 [==============================] - 0s 173us/sample - loss: 0.6856 - acc: 0.5616\n",
            "Epoch 83/100\n",
            "203/203 [==============================] - 0s 187us/sample - loss: 0.6856 - acc: 0.5616\n",
            "Epoch 84/100\n",
            "203/203 [==============================] - 0s 175us/sample - loss: 0.6856 - acc: 0.5616\n",
            "Epoch 85/100\n",
            "203/203 [==============================] - 0s 227us/sample - loss: 0.6856 - acc: 0.5616\n",
            "Epoch 86/100\n",
            "203/203 [==============================] - 0s 190us/sample - loss: 0.6856 - acc: 0.5616\n",
            "Epoch 87/100\n",
            "203/203 [==============================] - 0s 173us/sample - loss: 0.6856 - acc: 0.5616\n",
            "Epoch 88/100\n",
            "203/203 [==============================] - 0s 179us/sample - loss: 0.6856 - acc: 0.5616\n",
            "Epoch 89/100\n",
            "203/203 [==============================] - 0s 176us/sample - loss: 0.6856 - acc: 0.5616\n",
            "Epoch 90/100\n",
            "203/203 [==============================] - 0s 215us/sample - loss: 0.6856 - acc: 0.5616\n",
            "Epoch 91/100\n",
            "203/203 [==============================] - 0s 202us/sample - loss: 0.6856 - acc: 0.5616\n",
            "Epoch 92/100\n",
            "203/203 [==============================] - 0s 174us/sample - loss: 0.6855 - acc: 0.5616\n",
            "Epoch 93/100\n",
            "203/203 [==============================] - 0s 175us/sample - loss: 0.6855 - acc: 0.5616\n",
            "Epoch 94/100\n",
            "203/203 [==============================] - 0s 182us/sample - loss: 0.6856 - acc: 0.5616\n",
            "Epoch 95/100\n",
            "203/203 [==============================] - 0s 189us/sample - loss: 0.6856 - acc: 0.5616\n",
            "Epoch 96/100\n",
            "203/203 [==============================] - 0s 184us/sample - loss: 0.6856 - acc: 0.5616\n",
            "Epoch 97/100\n",
            "203/203 [==============================] - 0s 183us/sample - loss: 0.6856 - acc: 0.5616\n",
            "Epoch 98/100\n",
            "203/203 [==============================] - 0s 180us/sample - loss: 0.6856 - acc: 0.5616\n",
            "Epoch 99/100\n",
            "203/203 [==============================] - 0s 175us/sample - loss: 0.6856 - acc: 0.5616\n",
            "Epoch 100/100\n",
            "203/203 [==============================] - 0s 185us/sample - loss: 0.6856 - acc: 0.5616\n"
          ],
          "name": "stdout"
        },
        {
          "output_type": "execute_result",
          "data": {
            "text/plain": [
              "<tensorflow.python.keras.callbacks.History at 0x7f03200c9a90>"
            ]
          },
          "metadata": {
            "tags": []
          },
          "execution_count": 113
        }
      ]
    },
    {
      "cell_type": "code",
      "metadata": {
        "id": "KQOs5uQPzuDg",
        "outputId": "1773c155-f33c-4772-be89-cf23d72b8427",
        "colab": {
          "base_uri": "https://localhost:8080/"
        }
      },
      "source": [
        "eval_model=classifier.evaluate(x_train, y_train)\n",
        "eval_model"
      ],
      "execution_count": 114,
      "outputs": [
        {
          "output_type": "execute_result",
          "data": {
            "text/plain": [
              "[0.6854409378737651, 0.56157637]"
            ]
          },
          "metadata": {
            "tags": []
          },
          "execution_count": 114
        }
      ]
    },
    {
      "cell_type": "code",
      "metadata": {
        "id": "XiCOa12_zuDh"
      },
      "source": [
        "y_pred=classifier.predict(x_test)"
      ],
      "execution_count": 115,
      "outputs": []
    },
    {
      "cell_type": "code",
      "metadata": {
        "scrolled": true,
        "id": "6b6NduuNzuDj",
        "outputId": "b615ceb2-34e8-4c04-c1a6-00a6e2d2b167",
        "colab": {
          "base_uri": "https://localhost:8080/"
        }
      },
      "source": [
        "y_pred"
      ],
      "execution_count": 116,
      "outputs": [
        {
          "output_type": "execute_result",
          "data": {
            "text/plain": [
              "array([[0.5628186 ],\n",
              "       [0.5626796 ],\n",
              "       [0.5626234 ],\n",
              "       [0.56267905],\n",
              "       [0.56285244],\n",
              "       [0.5626744 ],\n",
              "       [0.5625213 ],\n",
              "       [0.5625497 ],\n",
              "       [0.5625734 ],\n",
              "       [0.5628373 ],\n",
              "       [0.5626424 ],\n",
              "       [0.5626374 ],\n",
              "       [0.5627285 ],\n",
              "       [0.56249267],\n",
              "       [0.5624955 ],\n",
              "       [0.5628428 ],\n",
              "       [0.5627691 ],\n",
              "       [0.56270456],\n",
              "       [0.5626463 ],\n",
              "       [0.5627773 ],\n",
              "       [0.56269014],\n",
              "       [0.56274724],\n",
              "       [0.5624529 ],\n",
              "       [0.56262124],\n",
              "       [0.562742  ],\n",
              "       [0.56252056],\n",
              "       [0.56267893],\n",
              "       [0.5625235 ],\n",
              "       [0.56281424],\n",
              "       [0.56280905],\n",
              "       [0.56280446],\n",
              "       [0.56253797],\n",
              "       [0.5625268 ],\n",
              "       [0.56247115],\n",
              "       [0.5625049 ],\n",
              "       [0.5625127 ],\n",
              "       [0.5628204 ],\n",
              "       [0.5628085 ],\n",
              "       [0.562791  ],\n",
              "       [0.5627878 ],\n",
              "       [0.562501  ],\n",
              "       [0.56257385],\n",
              "       [0.5628216 ],\n",
              "       [0.5626639 ],\n",
              "       [0.5626746 ],\n",
              "       [0.56267196],\n",
              "       [0.56263787],\n",
              "       [0.56254476],\n",
              "       [0.5626933 ],\n",
              "       [0.5625676 ],\n",
              "       [0.56273925],\n",
              "       [0.56276387],\n",
              "       [0.5628899 ],\n",
              "       [0.5626513 ],\n",
              "       [0.5627552 ],\n",
              "       [0.5627247 ],\n",
              "       [0.56269747],\n",
              "       [0.5627356 ],\n",
              "       [0.5627436 ],\n",
              "       [0.5627561 ],\n",
              "       [0.56266546],\n",
              "       [0.5626293 ],\n",
              "       [0.56281924],\n",
              "       [0.5626935 ],\n",
              "       [0.56265754],\n",
              "       [0.5626199 ],\n",
              "       [0.56282353],\n",
              "       [0.56263787],\n",
              "       [0.56276304],\n",
              "       [0.5626168 ],\n",
              "       [0.5628055 ],\n",
              "       [0.5626825 ],\n",
              "       [0.5625592 ],\n",
              "       [0.56254846],\n",
              "       [0.5627063 ],\n",
              "       [0.56263316],\n",
              "       [0.5627625 ],\n",
              "       [0.5627817 ],\n",
              "       [0.5626174 ],\n",
              "       [0.56282115],\n",
              "       [0.56258935],\n",
              "       [0.5627533 ],\n",
              "       [0.5626826 ],\n",
              "       [0.56260246],\n",
              "       [0.5627039 ],\n",
              "       [0.5626844 ],\n",
              "       [0.562751  ],\n",
              "       [0.5627053 ],\n",
              "       [0.5624453 ],\n",
              "       [0.5626676 ],\n",
              "       [0.56268066],\n",
              "       [0.56284773],\n",
              "       [0.5624398 ],\n",
              "       [0.56260127],\n",
              "       [0.5627273 ],\n",
              "       [0.5628059 ],\n",
              "       [0.56258917],\n",
              "       [0.56269866],\n",
              "       [0.56273293],\n",
              "       [0.56278527]], dtype=float32)"
            ]
          },
          "metadata": {
            "tags": []
          },
          "execution_count": 116
        }
      ]
    },
    {
      "cell_type": "code",
      "metadata": {
        "id": "AGrQuCVXzuDl"
      },
      "source": [
        ""
      ],
      "execution_count": 116,
      "outputs": []
    },
    {
      "cell_type": "code",
      "metadata": {
        "id": "K8KmwB1lzuDp"
      },
      "source": [
        ""
      ],
      "execution_count": 116,
      "outputs": []
    },
    {
      "cell_type": "code",
      "metadata": {
        "id": "ERQ0pAY-zuDq"
      },
      "source": [
        ""
      ],
      "execution_count": 116,
      "outputs": []
    },
    {
      "cell_type": "code",
      "metadata": {
        "id": "PlKDnQ1bzuDs"
      },
      "source": [
        ""
      ],
      "execution_count": 116,
      "outputs": []
    },
    {
      "cell_type": "code",
      "metadata": {
        "id": "AzvkOFLGzuDu"
      },
      "source": [
        ""
      ],
      "execution_count": 116,
      "outputs": []
    },
    {
      "cell_type": "code",
      "metadata": {
        "id": "XHx1MBfVzuDv"
      },
      "source": [
        ""
      ],
      "execution_count": 116,
      "outputs": []
    },
    {
      "cell_type": "code",
      "metadata": {
        "id": "HUNN5uK5zuDx"
      },
      "source": [
        ""
      ],
      "execution_count": 116,
      "outputs": []
    },
    {
      "cell_type": "code",
      "metadata": {
        "id": "buNrtQrFzuDz"
      },
      "source": [
        ""
      ],
      "execution_count": 116,
      "outputs": []
    },
    {
      "cell_type": "code",
      "metadata": {
        "id": "_3coSLP2zuD1"
      },
      "source": [
        ""
      ],
      "execution_count": 116,
      "outputs": []
    },
    {
      "cell_type": "code",
      "metadata": {
        "id": "G3kXS7sKzuD2"
      },
      "source": [
        ""
      ],
      "execution_count": 116,
      "outputs": []
    },
    {
      "cell_type": "code",
      "metadata": {
        "id": "YXOe-O8vzuD4"
      },
      "source": [
        ""
      ],
      "execution_count": 116,
      "outputs": []
    },
    {
      "cell_type": "code",
      "metadata": {
        "id": "zJ4Z7Z5kzuD6"
      },
      "source": [
        ""
      ],
      "execution_count": 116,
      "outputs": []
    },
    {
      "cell_type": "code",
      "metadata": {
        "id": "v0i9l5rLzuD7"
      },
      "source": [
        ""
      ],
      "execution_count": 116,
      "outputs": []
    },
    {
      "cell_type": "code",
      "metadata": {
        "id": "lbHJZGwrzuD9"
      },
      "source": [
        ""
      ],
      "execution_count": 116,
      "outputs": []
    },
    {
      "cell_type": "code",
      "metadata": {
        "id": "3NemEqsEzuEA"
      },
      "source": [
        ""
      ],
      "execution_count": 116,
      "outputs": []
    },
    {
      "cell_type": "code",
      "metadata": {
        "id": "FPJX6uxZzuEC"
      },
      "source": [
        ""
      ],
      "execution_count": 116,
      "outputs": []
    },
    {
      "cell_type": "code",
      "metadata": {
        "id": "6mJiPyFrzuEE"
      },
      "source": [
        ""
      ],
      "execution_count": 116,
      "outputs": []
    },
    {
      "cell_type": "code",
      "metadata": {
        "id": "WiZEnPTWzuEF"
      },
      "source": [
        ""
      ],
      "execution_count": 116,
      "outputs": []
    },
    {
      "cell_type": "code",
      "metadata": {
        "id": "LIVG3uf0zuEH"
      },
      "source": [
        ""
      ],
      "execution_count": 116,
      "outputs": []
    },
    {
      "cell_type": "code",
      "metadata": {
        "id": "X1DuXcI-zuEK"
      },
      "source": [
        ""
      ],
      "execution_count": 116,
      "outputs": []
    }
  ]
}